{
  "nbformat": 4,
  "nbformat_minor": 0,
  "metadata": {
    "colab": {
      "name": "03day_summary.ipynb",
      "provenance": [],
      "collapsed_sections": []
    },
    "kernelspec": {
      "name": "python3",
      "display_name": "Python 3"
    },
    "language_info": {
      "name": "python"
    }
  },
  "cells": [
    {
      "cell_type": "markdown",
      "metadata": {
        "id": "G3nG-fo6Q8Ao"
      },
      "source": [
        "### 8.5 심사문제: 합격 여부 출력하기\n",
        "\n",
        "\n",
        "\n"
      ]
    },
    {
      "cell_type": "code",
      "metadata": {
        "colab": {
          "base_uri": "https://localhost:8080/"
        },
        "id": "3WoKTNU-Rh7y",
        "outputId": "e352e25a-bb5c-4b25-87c9-7f2e89116f5d"
      },
      "source": [
        "# map() 리스트의 요소를 지정된 함수로 처리해주는 함수\n",
        "# map(함수, 리스트 or 튜플)\n",
        "kor, eng, mat, sci = map(int, input('').split()) \n",
        "#.split(',') , 로 입력구분 괄호가 공란일때는 스페이스바\n",
        "kor>=90 and eng >80 and mat > 85 and sci >=80"
      ],
      "execution_count": 1,
      "outputs": [
        {
          "output_type": "stream",
          "text": [
            "80 50 60 70\n"
          ],
          "name": "stdout"
        },
        {
          "output_type": "execute_result",
          "data": {
            "text/plain": [
              "False"
            ]
          },
          "metadata": {
            "tags": []
          },
          "execution_count": 1
        }
      ]
    },
    {
      "cell_type": "markdown",
      "metadata": {
        "id": "TUC3xsMVSQ6Q"
      },
      "source": [
        "### 9.4 심사문제: 여러 줄로 된 문자열 사용하기"
      ]
    },
    {
      "cell_type": "code",
      "metadata": {
        "colab": {
          "base_uri": "https://localhost:8080/"
        },
        "id": "ZorSsJawTY_B",
        "outputId": "a649eef0-af6a-4997-d09f-b08ab7d8df7c"
      },
      "source": [
        "# 여러 문자열은 ''' 와 ''' 사이\n",
        "s= ''''Python' is a \"programming language\"\n",
        "that lets you work quickly\n",
        "and\n",
        "integrate systems more effectively.'''\n",
        "print(s)\n",
        "#\n"
      ],
      "execution_count": 4,
      "outputs": [
        {
          "output_type": "stream",
          "text": [
            "'Python' is a \"programming language\"\n",
            "that lets you work quickly\n",
            "and\n",
            "integrate systems more effectively.\n"
          ],
          "name": "stdout"
        }
      ]
    },
    {
      "cell_type": "markdown",
      "metadata": {
        "id": "9WbfhVDwTbkq"
      },
      "source": [
        "- 문자열에 따옴표등의 특수문자 사용하기\n",
        "   <br>          :이스케이프라고 하며, \\를 붙여 사용한다.\n"
      ]
    },
    {
      "cell_type": "markdown",
      "metadata": {
        "id": "PgGvXeqjUdsH"
      },
      "source": [
        "### 10.5 심사문제: range로 튜플 만들기"
      ]
    },
    {
      "cell_type": "code",
      "metadata": {
        "colab": {
          "base_uri": "https://localhost:8080/"
        },
        "id": "amVGj32uU6fR",
        "outputId": "262fe9cb-6ff7-4bbd-a36b-566791ce2211"
      },
      "source": [
        "a = int(input(''))\n",
        "t = tuple(range(-10,10,a)) \n",
        "# raange 함수 중요, range(시작, 끝, 증감값)\n",
        "\n",
        "print(t)"
      ],
      "execution_count": 8,
      "outputs": [
        {
          "output_type": "stream",
          "text": [
            "3\n",
            "(-10, -7, -4, -1, 2, 5, 8)\n"
          ],
          "name": "stdout"
        }
      ]
    },
    {
      "cell_type": "markdown",
      "metadata": {
        "id": "4FLhW2plU9Ap"
      },
      "source": [
        "### 11.8 심사문제: 리스트의 마지막 부분 삭제하기"
      ]
    },
    {
      "cell_type": "code",
      "metadata": {
        "colab": {
          "base_uri": "https://localhost:8080/"
        },
        "id": "dqJIbksNV0gg",
        "outputId": "df153529-1d99-475f-b156-b56c03e8bdf0"
      },
      "source": [
        "l= list(map(int, input('').split()))\n",
        "\n",
        "del l[-5:]\n",
        "\n",
        "t =tuple(l)\n",
        "print(t)\n"
      ],
      "execution_count": 10,
      "outputs": [
        {
          "output_type": "stream",
          "text": [
            "1 2 3 5 8 75 9 7\n",
            "(1, 2, 3)\n"
          ],
          "name": "stdout"
        }
      ]
    },
    {
      "cell_type": "markdown",
      "metadata": {
        "id": "LxaZzTOTWQlQ"
      },
      "source": [
        "### 11.9 심사문제: 문자열에서 인덱스가 홀수인 문자와 짝수인 문자 연결하기"
      ]
    },
    {
      "cell_type": "code",
      "metadata": {
        "colab": {
          "base_uri": "https://localhost:8080/"
        },
        "id": "l86N9QE_WeyY",
        "outputId": "d86a3ebf-d9a7-43f6-d7f9-15d81d3e8e6e"
      },
      "source": [
        "str1 = str(input(''))\n",
        "str2 = str(input(''))\n",
        "\n",
        "str3 =str1[0::2] + str2[1::2]\n",
        "print(str3)"
      ],
      "execution_count": 11,
      "outputs": [
        {
          "output_type": "stream",
          "text": [
            "qwerty\n",
            "asdfg\n",
            "qetsf\n"
          ],
          "name": "stdout"
        }
      ]
    },
    {
      "cell_type": "markdown",
      "metadata": {
        "id": "5i3kPoVGWkQQ"
      },
      "source": [
        "### 12.5 심사문제: 딕셔너리에 게임 캐릭터 능력치 저장하기"
      ]
    },
    {
      "cell_type": "code",
      "metadata": {
        "colab": {
          "base_uri": "https://localhost:8080/"
        },
        "id": "qHw_I9P5XasB",
        "outputId": "3b352b9b-7b07-45e3-8b43-8d02bdeb7e5e"
      },
      "source": [
        "k = list(map(str,input('').split()))\n",
        "\n",
        "v = list(map(float,input('').split()))\n",
        "\n",
        "d = dict(zip(k,v)) #zip 함수\n",
        "d"
      ],
      "execution_count": 14,
      "outputs": [
        {
          "output_type": "stream",
          "text": [
            "키1, 키2, 키3\n",
            "1 2 3\n"
          ],
          "name": "stdout"
        },
        {
          "output_type": "execute_result",
          "data": {
            "text/plain": [
              "{'키1,': 1.0, '키2,': 2.0, '키3': 3.0}"
            ]
          },
          "metadata": {
            "tags": []
          },
          "execution_count": 14
        }
      ]
    },
    {
      "cell_type": "markdown",
      "metadata": {
        "id": "PDDoNSMBXhHA"
      },
      "source": [
        "### 13.7 심사문제: 온라인 할인 쿠폰 시스템 만들기"
      ]
    },
    {
      "cell_type": "code",
      "metadata": {
        "colab": {
          "base_uri": "https://localhost:8080/"
        },
        "id": "FSZ-UPNuXwaw",
        "outputId": "17905194-449b-4a0b-d66a-4ff24a601755"
      },
      "source": [
        "p = int(input('가격을 입력하세요:'))\n",
        "c = str(input('쿠폰을 입력하세요'))\n",
        "if c == 'Cash3000':\n",
        "    p = p-3000\n",
        "else:\n",
        "    p = p-5000\n",
        "\n",
        "print('가격은 ', p,'원 입니다.')"
      ],
      "execution_count": 15,
      "outputs": [
        {
          "output_type": "stream",
          "text": [
            "가격을 입력하세요:8000\n",
            "쿠폰을 입력하세요Cash5000\n",
            "가격은  3000 원 입니다.\n"
          ],
          "name": "stdout"
        }
      ]
    },
    {
      "cell_type": "markdown",
      "metadata": {
        "id": "fKQCGCiDXzKo"
      },
      "source": [
        "### 14.7 심사문제: 합격 여부 판단하기"
      ]
    },
    {
      "cell_type": "code",
      "metadata": {
        "colab": {
          "base_uri": "https://localhost:8080/"
        },
        "id": "QwM_G4VGX63A",
        "outputId": "d91bd918-3461-413d-b459-46ec0ce2bad2"
      },
      "source": [
        "kor, eng, math, sci = map(int, input('').split())\n",
        "\n",
        "if kor > 100 or eng > 100 or math > 100 or sci >100:\n",
        "    print('잘못된 점수')\n",
        "else:\n",
        "    ave = (kor+ eng + math + sci )/4\n",
        "    print(ave)\n",
        "    print('합격입니다.')"
      ],
      "execution_count": 17,
      "outputs": [
        {
          "output_type": "stream",
          "text": [
            "80 90 100 100\n",
            "92.5\n",
            "합격입니다.\n"
          ],
          "name": "stdout"
        }
      ]
    },
    {
      "cell_type": "code",
      "metadata": {
        "id": "pXXsG-0qX9wA"
      },
      "source": [
        ""
      ],
      "execution_count": null,
      "outputs": []
    }
  ]
}