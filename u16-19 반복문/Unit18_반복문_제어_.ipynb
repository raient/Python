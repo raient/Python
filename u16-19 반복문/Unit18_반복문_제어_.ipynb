{
  "nbformat": 4,
  "nbformat_minor": 0,
  "metadata": {
    "colab": {
      "name": "Unit18_반복문 제어 .ipynb",
      "provenance": [],
      "collapsed_sections": []
    },
    "kernelspec": {
      "name": "python3",
      "display_name": "Python 3"
    },
    "language_info": {
      "name": "python"
    }
  },
  "cells": [
    {
      "cell_type": "markdown",
      "metadata": {
        "id": "qu9bSJyyEofq"
      },
      "source": [
        "# Unit 18. 반복문 제어\n",
        "- break, continue"
      ]
    },
    {
      "cell_type": "markdown",
      "metadata": {
        "id": "Mh0nKjeQEzRg"
      },
      "source": [
        "## 18.1 break"
      ]
    },
    {
      "cell_type": "code",
      "metadata": {
        "id": "thk5BvrwE8pW"
      },
      "source": [
        "import random"
      ],
      "execution_count": 1,
      "outputs": []
    },
    {
      "cell_type": "code",
      "metadata": {
        "colab": {
          "base_uri": "https://localhost:8080/"
        },
        "id": "fKTKZIvYFE7v",
        "outputId": "e16a2f31-2668-4ca3-a30e-66047fdd960c"
      },
      "source": [
        "while True:\n",
        "    i = random.randint(1,6)\n",
        "    print(i)\n",
        "    if i == 3:\n",
        "        break"
      ],
      "execution_count": 4,
      "outputs": [
        {
          "output_type": "stream",
          "text": [
            "2\n",
            "2\n",
            "3\n"
          ],
          "name": "stdout"
        }
      ]
    },
    {
      "cell_type": "code",
      "metadata": {
        "colab": {
          "base_uri": "https://localhost:8080/"
        },
        "id": "rGVFWzCUFHlH",
        "outputId": "e109d202-208a-4ab8-cbc3-d6acf55375a6"
      },
      "source": [
        "for i in range(5):\n",
        "    print(i, end = '     ')\n",
        "    for k in range(5):\n",
        "        print('*', end = '')\n",
        "        if i == k:\n",
        "            break # 브레이크 해당 반복 구문만 적용된다\n",
        "    print()"
      ],
      "execution_count": 8,
      "outputs": [
        {
          "output_type": "stream",
          "text": [
            "0     *\n",
            "1     **\n",
            "2     ***\n",
            "3     ****\n",
            "4     *****\n"
          ],
          "name": "stdout"
        }
      ]
    },
    {
      "cell_type": "markdown",
      "metadata": {
        "id": "cl2l8U_1GHXm"
      },
      "source": [
        "##18.2 continue"
      ]
    },
    {
      "cell_type": "code",
      "metadata": {
        "colab": {
          "base_uri": "https://localhost:8080/"
        },
        "id": "uGshh0CfGxA-",
        "outputId": "8a9ff267-cebe-4315-a3a1-5d009e1c64c4"
      },
      "source": [
        "for i in range(10):\n",
        "    if i %2 == 0:\n",
        "        continue\n",
        "    print(i)"
      ],
      "execution_count": 10,
      "outputs": [
        {
          "output_type": "stream",
          "text": [
            "1\n",
            "3\n",
            "5\n",
            "7\n",
            "9\n"
          ],
          "name": "stdout"
        }
      ]
    },
    {
      "cell_type": "code",
      "metadata": {
        "id": "gmDu5Kd2G3_o"
      },
      "source": [
        ""
      ],
      "execution_count": null,
      "outputs": []
    }
  ]
}