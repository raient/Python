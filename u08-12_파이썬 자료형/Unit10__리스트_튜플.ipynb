{
  "nbformat": 4,
  "nbformat_minor": 0,
  "metadata": {
    "colab": {
      "name": "Unit10_ 리스트_튜플.ipynb",
      "provenance": [],
      "collapsed_sections": []
    },
    "kernelspec": {
      "name": "python3",
      "display_name": "Python 3"
    },
    "language_info": {
      "name": "python"
    }
  },
  "cells": [
    {
      "cell_type": "markdown",
      "metadata": {
        "id": "gpsWZgs1gQuH"
      },
      "source": [
        "# Unit 10. 리스트와 튜플"
      ]
    },
    {
      "cell_type": "markdown",
      "metadata": {
        "id": "Nyoxk1d6gjwb"
      },
      "source": [
        "## 10.1 리스트 만들기"
      ]
    },
    {
      "cell_type": "markdown",
      "metadata": {
        "id": "L_6yKL9mg3v6"
      },
      "source": [
        "- 리스트는 반복문 및 함수 사용에 용이<br>\n",
        "  리스트는 [ ] 기호 사용\n"
      ]
    },
    {
      "cell_type": "code",
      "metadata": {
        "id": "PsLUX6azg4Yq",
        "colab": {
          "base_uri": "https://localhost:8080/"
        },
        "outputId": "90cf6045-3d86-46bb-eae6-4dfa3789d40f"
      },
      "source": [
        "a = [38, 21, 56, 62, 19]\n",
        "a\n",
        "# 파이썬에서는 리스트 엘리멘트가 다른 자료형도 가능하다"
      ],
      "execution_count": 27,
      "outputs": [
        {
          "output_type": "execute_result",
          "data": {
            "text/plain": [
              "[38, 21, 56, 62, 19]"
            ]
          },
          "metadata": {
            "tags": []
          },
          "execution_count": 27
        }
      ]
    },
    {
      "cell_type": "code",
      "metadata": {
        "colab": {
          "base_uri": "https://localhost:8080/"
        },
        "id": "hH3i20UIiUOS",
        "outputId": "90c405e8-9b36-4fba-89b7-b260268be2fc"
      },
      "source": [
        "# 리스트는, 순서가 보장\n",
        "person = ['james', 19, 175.4,True, [120, 80]]\n",
        "person"
      ],
      "execution_count": 28,
      "outputs": [
        {
          "output_type": "execute_result",
          "data": {
            "text/plain": [
              "['james', 19, 175.4, True, [120, 80]]"
            ]
          },
          "metadata": {
            "tags": []
          },
          "execution_count": 28
        }
      ]
    },
    {
      "cell_type": "code",
      "metadata": {
        "colab": {
          "base_uri": "https://localhost:8080/"
        },
        "id": "-fx0S8Uag5DM",
        "outputId": "d688d098-cf14-4db8-c65f-cb7be8ffe3f2"
      },
      "source": [
        "# 위의 person은 다음과 같은 딕셔너리로 사용하는 것을 권장\n",
        "# 딕셔너리는 순서가 보장되지 않음\n",
        "person_dict = {'name':'james', 'age':19, 'height':175.4,\n",
        "               'is_male':True, 'bp':[120, 80]}\n",
        "person"
      ],
      "execution_count": 29,
      "outputs": [
        {
          "output_type": "execute_result",
          "data": {
            "text/plain": [
              "['james', 19, 175.4, True, [120, 80]]"
            ]
          },
          "metadata": {
            "tags": []
          },
          "execution_count": 29
        }
      ]
    },
    {
      "cell_type": "markdown",
      "metadata": {
        "id": "flQjuU7gg5Vp"
      },
      "source": [
        "### 빈 리스트 만들기"
      ]
    },
    {
      "cell_type": "code",
      "metadata": {
        "colab": {
          "base_uri": "https://localhost:8080/"
        },
        "id": "qw8cPE3gjznC",
        "outputId": "49b0e789-e95f-4773-fe29-d52dede54741"
      },
      "source": [
        "a = []\n",
        "b = list()\n",
        "a, b"
      ],
      "execution_count": 30,
      "outputs": [
        {
          "output_type": "execute_result",
          "data": {
            "text/plain": [
              "([], [])"
            ]
          },
          "metadata": {
            "tags": []
          },
          "execution_count": 30
        }
      ]
    },
    {
      "cell_type": "code",
      "metadata": {
        "id": "3ZSXlzVvkT6o"
      },
      "source": [
        "a,b = [], [] \n",
        "#파이썬스로운 코드"
      ],
      "execution_count": 31,
      "outputs": []
    },
    {
      "cell_type": "markdown",
      "metadata": {
        "id": "ZHBOimSfkcaJ"
      },
      "source": [
        "### range\n",
        "- range( [시작 숫자], 끝나는 숫자 +1, [증가분] \n",
        ")<br>\n",
        "시작숫자 생략시 0부터 시작"
      ]
    },
    {
      "cell_type": "code",
      "metadata": {
        "colab": {
          "base_uri": "https://localhost:8080/"
        },
        "id": "BpXwge2Ek6RA",
        "outputId": "948edc48-09d5-4756-e046-181f50025edc"
      },
      "source": [
        "a = range(10)\n",
        "a"
      ],
      "execution_count": 32,
      "outputs": [
        {
          "output_type": "execute_result",
          "data": {
            "text/plain": [
              "range(0, 10)"
            ]
          },
          "metadata": {
            "tags": []
          },
          "execution_count": 32
        }
      ]
    },
    {
      "cell_type": "code",
      "metadata": {
        "colab": {
          "base_uri": "https://localhost:8080/"
        },
        "id": "67AVjQiWlCiH",
        "outputId": "b4a04487-4b66-4cd0-d7f8-4f5533b17d6b"
      },
      "source": [
        "list(a)"
      ],
      "execution_count": 33,
      "outputs": [
        {
          "output_type": "execute_result",
          "data": {
            "text/plain": [
              "[0, 1, 2, 3, 4, 5, 6, 7, 8, 9]"
            ]
          },
          "metadata": {
            "tags": []
          },
          "execution_count": 33
        }
      ]
    },
    {
      "cell_type": "code",
      "metadata": {
        "colab": {
          "base_uri": "https://localhost:8080/"
        },
        "id": "PjQI7M9ZlDeI",
        "outputId": "9fb85dae-bcbb-41d1-86c2-47287b94cfe5"
      },
      "source": [
        "list(range(1,11))\n"
      ],
      "execution_count": 34,
      "outputs": [
        {
          "output_type": "execute_result",
          "data": {
            "text/plain": [
              "[1, 2, 3, 4, 5, 6, 7, 8, 9, 10]"
            ]
          },
          "metadata": {
            "tags": []
          },
          "execution_count": 34
        }
      ]
    },
    {
      "cell_type": "code",
      "metadata": {
        "colab": {
          "base_uri": "https://localhost:8080/"
        },
        "id": "QF0ViNtulDug",
        "outputId": "60902e9f-50ec-4f1b-a11c-86a6cd0f2a72"
      },
      "source": [
        "list(range(1,10,2))"
      ],
      "execution_count": 35,
      "outputs": [
        {
          "output_type": "execute_result",
          "data": {
            "text/plain": [
              "[1, 3, 5, 7, 9]"
            ]
          },
          "metadata": {
            "tags": []
          },
          "execution_count": 35
        }
      ]
    },
    {
      "cell_type": "code",
      "metadata": {
        "colab": {
          "base_uri": "https://localhost:8080/"
        },
        "id": "-BtYBtdDl1D_",
        "outputId": "37553422-6568-40ca-c6b8-ab75e1703c92"
      },
      "source": [
        "list(range(2,11,2))"
      ],
      "execution_count": 36,
      "outputs": [
        {
          "output_type": "execute_result",
          "data": {
            "text/plain": [
              "[2, 4, 6, 8, 10]"
            ]
          },
          "metadata": {
            "tags": []
          },
          "execution_count": 36
        }
      ]
    },
    {
      "cell_type": "code",
      "metadata": {
        "colab": {
          "base_uri": "https://localhost:8080/"
        },
        "id": "K9mrbPRkoWJU",
        "outputId": "95a2d395-3ddb-4b62-9074-9c12bd7a7f9a"
      },
      "source": [
        "# 증가분을 음수로 하면 역순\n",
        "list(range(10,0,-1))"
      ],
      "execution_count": 37,
      "outputs": [
        {
          "output_type": "execute_result",
          "data": {
            "text/plain": [
              "[10, 9, 8, 7, 6, 5, 4, 3, 2, 1]"
            ]
          },
          "metadata": {
            "tags": []
          },
          "execution_count": 37
        }
      ]
    },
    {
      "cell_type": "markdown",
      "metadata": {
        "id": "fVRyIv5dgvdi"
      },
      "source": [
        "## 10.2 튜플 사용하기"
      ]
    },
    {
      "cell_type": "code",
      "metadata": {
        "id": "0e2Ms5LiAsXG"
      },
      "source": [
        ""
      ],
      "execution_count": null,
      "outputs": []
    },
    {
      "cell_type": "markdown",
      "metadata": {
        "id": "SFj7cTAnpmd2"
      },
      "source": [
        "- Read-only 특성(변경 불가)"
      ]
    },
    {
      "cell_type": "markdown",
      "metadata": {
        "id": "4uMi3kZog22L"
      },
      "source": [
        "튜플은 () 기호 사용, 괄호가 없는 경우 튜플<br>\n",
        "튜플은 수정이 불가능하다, 읽기만 가능<br>\n",
        "\n",
        "\n",
        "\n",
        "딕셔너리는 {}기호 사용\n"
      ]
    },
    {
      "cell_type": "code",
      "metadata": {
        "colab": {
          "base_uri": "https://localhost:8080/"
        },
        "id": "GBNa1JANhrhI",
        "outputId": "8635caf6-b273-40cc-8200-cb4c12309929"
      },
      "source": [
        "#  튜플\n",
        "a = (38, 21, 47)\n",
        "a"
      ],
      "execution_count": 39,
      "outputs": [
        {
          "output_type": "execute_result",
          "data": {
            "text/plain": [
              "(38, 21, 47)"
            ]
          },
          "metadata": {
            "tags": []
          },
          "execution_count": 39
        }
      ]
    },
    {
      "cell_type": "code",
      "metadata": {
        "id": "CQTMYtR-o55E"
      },
      "source": [
        "# () 없이도 튜플\n",
        "a = 38, 21, 47"
      ],
      "execution_count": 41,
      "outputs": []
    },
    {
      "cell_type": "code",
      "metadata": {
        "colab": {
          "base_uri": "https://localhost:8080/"
        },
        "id": "5hSNsMmGo-yu",
        "outputId": "3a9b4d85-6013-4e9a-ef03-0b5093199def"
      },
      "source": [
        "person = ('james', 19, 175.4,True, [120, 80])\n",
        "person"
      ],
      "execution_count": 43,
      "outputs": [
        {
          "output_type": "execute_result",
          "data": {
            "text/plain": [
              "('james', 19, 175.4, True, [120, 80])"
            ]
          },
          "metadata": {
            "tags": []
          },
          "execution_count": 43
        }
      ]
    },
    {
      "cell_type": "code",
      "metadata": {
        "colab": {
          "base_uri": "https://localhost:8080/"
        },
        "id": "l9YzAgIipsVG",
        "outputId": "cbb728bd-31c6-48c2-8b50-958fa96f2e3e"
      },
      "source": [
        "a = tuple()\n",
        "a"
      ],
      "execution_count": 47,
      "outputs": [
        {
          "output_type": "execute_result",
          "data": {
            "text/plain": [
              "()"
            ]
          },
          "metadata": {
            "tags": []
          },
          "execution_count": 47
        }
      ]
    },
    {
      "cell_type": "code",
      "metadata": {
        "colab": {
          "base_uri": "https://localhost:8080/"
        },
        "id": "Mm_YIsVDpYJW",
        "outputId": "48bbc9da-7ebb-4dd4-8092-3664d3170177"
      },
      "source": [
        "a = (38)\n",
        "a"
      ],
      "execution_count": 48,
      "outputs": [
        {
          "output_type": "execute_result",
          "data": {
            "text/plain": [
              "38"
            ]
          },
          "metadata": {
            "tags": []
          },
          "execution_count": 48
        }
      ]
    },
    {
      "cell_type": "code",
      "metadata": {
        "colab": {
          "base_uri": "https://localhost:8080/"
        },
        "id": "9HoDk1unqMot",
        "outputId": "def98be0-d24b-4ab0-9d55-075a6480aa56"
      },
      "source": [
        "#하나의 원소만 있는 튜플도 종종 사용된다\n",
        "a =(38, )\n",
        "a"
      ],
      "execution_count": 50,
      "outputs": [
        {
          "output_type": "execute_result",
          "data": {
            "text/plain": [
              "(38,)"
            ]
          },
          "metadata": {
            "tags": []
          },
          "execution_count": 50
        }
      ]
    },
    {
      "cell_type": "code",
      "metadata": {
        "colab": {
          "base_uri": "https://localhost:8080/"
        },
        "id": "xdqPeS-9qQ7t",
        "outputId": "1ae8a030-3a93-4730-9b55-6a98a10976d8"
      },
      "source": [
        "tuple(range(5))"
      ],
      "execution_count": 51,
      "outputs": [
        {
          "output_type": "execute_result",
          "data": {
            "text/plain": [
              "(0, 1, 2, 3, 4)"
            ]
          },
          "metadata": {
            "tags": []
          },
          "execution_count": 51
        }
      ]
    },
    {
      "cell_type": "code",
      "metadata": {
        "colab": {
          "base_uri": "https://localhost:8080/"
        },
        "id": "8xQNuSmWqwJt",
        "outputId": "cda26dca-74f9-4ea7-bce9-ade25e2c8035"
      },
      "source": [
        "a = tuple(range(5))\n",
        "a"
      ],
      "execution_count": 52,
      "outputs": [
        {
          "output_type": "execute_result",
          "data": {
            "text/plain": [
              "(0, 1, 2, 3, 4)"
            ]
          },
          "metadata": {
            "tags": []
          },
          "execution_count": 52
        }
      ]
    },
    {
      "cell_type": "markdown",
      "metadata": {
        "id": "iSe1f45vq1R1"
      },
      "source": [
        "### 리스트 <---> 튜플"
      ]
    },
    {
      "cell_type": "code",
      "metadata": {
        "colab": {
          "base_uri": "https://localhost:8080/"
        },
        "id": "G4OjdCs3rBTP",
        "outputId": "0a37ed65-c704-4053-a217-9beaa2446a23"
      },
      "source": [
        "a = [1,3,4] #리스트\n",
        "b= tuple(a) #리스트를 튜플 형태로 저장\n",
        "b"
      ],
      "execution_count": 55,
      "outputs": [
        {
          "output_type": "execute_result",
          "data": {
            "text/plain": [
              "(1, 3, 4)"
            ]
          },
          "metadata": {
            "tags": []
          },
          "execution_count": 55
        }
      ]
    },
    {
      "cell_type": "code",
      "metadata": {
        "colab": {
          "base_uri": "https://localhost:8080/"
        },
        "id": "8HCuTwhQrIpN",
        "outputId": "64010849-cf0c-4dce-c7d1-ac9c3ca8b39e"
      },
      "source": [
        "c = list(b)\n",
        "b"
      ],
      "execution_count": 54,
      "outputs": [
        {
          "output_type": "execute_result",
          "data": {
            "text/plain": [
              "(1, 3, 4)"
            ]
          },
          "metadata": {
            "tags": []
          },
          "execution_count": 54
        }
      ]
    },
    {
      "cell_type": "markdown",
      "metadata": {
        "id": "lBTCKAu3rLzd"
      },
      "source": [
        "### 문자열\n"
      ]
    },
    {
      "cell_type": "code",
      "metadata": {
        "colab": {
          "base_uri": "https://localhost:8080/"
        },
        "id": "18sqnwSPrivM",
        "outputId": "214ad84e-9eb5-4818-f2cf-a6ec6d91a8e9"
      },
      "source": [
        "tuple('Hello')"
      ],
      "execution_count": 56,
      "outputs": [
        {
          "output_type": "execute_result",
          "data": {
            "text/plain": [
              "('H', 'e', 'l', 'l', 'o')"
            ]
          },
          "metadata": {
            "tags": []
          },
          "execution_count": 56
        }
      ]
    },
    {
      "cell_type": "code",
      "metadata": {
        "colab": {
          "base_uri": "https://localhost:8080/"
        },
        "id": "ICrTC7A2roKc",
        "outputId": "e3268d04-7a3c-42ab-9181-44a6945979de"
      },
      "source": [
        "list('안녕하세요')"
      ],
      "execution_count": 57,
      "outputs": [
        {
          "output_type": "execute_result",
          "data": {
            "text/plain": [
              "('안', '녕', '하', '세', '요')"
            ]
          },
          "metadata": {
            "tags": []
          },
          "execution_count": 57
        }
      ]
    },
    {
      "cell_type": "markdown",
      "metadata": {
        "id": "Z3yOMNqTrryU"
      },
      "source": [
        "### 언팩킹(Unpacking)\n",
        "- 리스트 및 튜플의 원소는 개별 변수에 저장이 가능하다"
      ]
    },
    {
      "cell_type": "code",
      "metadata": {
        "colab": {
          "base_uri": "https://localhost:8080/"
        },
        "id": "anBut3iLsAgu",
        "outputId": "a17201d0-ff44-4e82-a428-c537df189e38"
      },
      "source": [
        "#  튜플 언팩킹\n",
        "a = (1,3,4)\n",
        "x,y,z = a\n",
        "x, y, z"
      ],
      "execution_count": 58,
      "outputs": [
        {
          "output_type": "execute_result",
          "data": {
            "text/plain": [
              "(1, 3, 4)"
            ]
          },
          "metadata": {
            "tags": []
          },
          "execution_count": 58
        }
      ]
    },
    {
      "cell_type": "code",
      "metadata": {
        "colab": {
          "base_uri": "https://localhost:8080/"
        },
        "id": "UXmSjpdssTWs",
        "outputId": "81ef76fd-4ad4-4c5f-b0b3-ba987324e1e8"
      },
      "source": [
        "#리스트 언팩킹\n",
        "x, y, z  = [1,3,5]\n",
        "x, y, z"
      ],
      "execution_count": 59,
      "outputs": [
        {
          "output_type": "execute_result",
          "data": {
            "text/plain": [
              "(1, 3, 5)"
            ]
          },
          "metadata": {
            "tags": []
          },
          "execution_count": 59
        }
      ]
    },
    {
      "cell_type": "code",
      "metadata": {
        "id": "-550eW52scAc"
      },
      "source": [
        ""
      ],
      "execution_count": null,
      "outputs": []
    }
  ]
}