{
  "nbformat": 4,
  "nbformat_minor": 0,
  "metadata": {
    "colab": {
      "name": "Unit09_문자열.ipynb",
      "provenance": [],
      "collapsed_sections": []
    },
    "kernelspec": {
      "name": "python3",
      "display_name": "Python 3"
    },
    "language_info": {
      "name": "python"
    }
  },
  "cells": [
    {
      "cell_type": "markdown",
      "metadata": {
        "id": "Y7LGf_LFfChz"
      },
      "source": [
        "# Unit 9 문자열 사용하기"
      ]
    },
    {
      "cell_type": "code",
      "metadata": {
        "colab": {
          "base_uri": "https://localhost:8080/"
        },
        "id": "uGjbgKu6crpL",
        "outputId": "14095a40-3c20-4b64-c558-f5ecab94a3fb"
      },
      "source": [
        "hello='Hello, world!'\n",
        "hello2 = \"Hello, world!\"\n",
        "hello, hello2"
      ],
      "execution_count": 1,
      "outputs": [
        {
          "output_type": "execute_result",
          "data": {
            "text/plain": [
              "('Hello, world!', 'Hello, world!')"
            ]
          },
          "metadata": {
            "tags": []
          },
          "execution_count": 1
        }
      ]
    },
    {
      "cell_type": "markdown",
      "metadata": {
        "id": "4wIk3JAxf5Bi"
      },
      "source": [
        "## 9.1.1 여러 줄로 된 문자열 사용하기"
      ]
    },
    {
      "cell_type": "code",
      "metadata": {
        "colab": {
          "base_uri": "https://localhost:8080/",
          "height": 36
        },
        "id": "mc7ykUL-c9CE",
        "outputId": "df9a3db5-86a0-4e77-eb26-e3aa178881ed"
      },
      "source": [
        "# \n",
        "multiline = ''' Hello!\n",
        "World!'''\n",
        "multiline"
      ],
      "execution_count": 4,
      "outputs": [
        {
          "output_type": "execute_result",
          "data": {
            "application/vnd.google.colaboratory.intrinsic+json": {
              "type": "string"
            },
            "text/plain": [
              "' Hello!\\nWorld!'"
            ]
          },
          "metadata": {
            "tags": []
          },
          "execution_count": 4
        }
      ]
    },
    {
      "cell_type": "code",
      "metadata": {
        "colab": {
          "base_uri": "https://localhost:8080/",
          "height": 36
        },
        "id": "vr27vQrJdZsO",
        "outputId": "1266fcc5-a93c-4437-f7be-50805de3a515"
      },
      "source": [
        "multi = 'Hello!\\nWorld!'\n",
        "multi  # 변수에 입력한 내용을 출력\n"
      ],
      "execution_count": 7,
      "outputs": [
        {
          "output_type": "execute_result",
          "data": {
            "application/vnd.google.colaboratory.intrinsic+json": {
              "type": "string"
            },
            "text/plain": [
              "'Hello!\\nWorld!'"
            ]
          },
          "metadata": {
            "tags": []
          },
          "execution_count": 7
        }
      ]
    },
    {
      "cell_type": "code",
      "metadata": {
        "colab": {
          "base_uri": "https://localhost:8080/"
        },
        "id": "O_lFrMnpdzuj",
        "outputId": "27e54644-ffd3-4aa4-f3f3-f86484aef27f"
      },
      "source": [
        "print(multi) #의도대로 화면에 출력"
      ],
      "execution_count": 6,
      "outputs": [
        {
          "output_type": "stream",
          "text": [
            "Hello!\n",
            "World!\n"
          ],
          "name": "stdout"
        }
      ]
    },
    {
      "cell_type": "markdown",
      "metadata": {
        "id": "OOzOBcpNd1uW"
      },
      "source": [
        "## 9.1.2 문자열 안에 작은따옴표나 큰따옴표 포함하기"
      ]
    },
    {
      "cell_type": "code",
      "metadata": {
        "id": "p3nwyIo2eVYc",
        "colab": {
          "base_uri": "https://localhost:8080/",
          "height": 36
        },
        "outputId": "e15145e1-e2ca-4abf-e352-ed68fd533ba9"
      },
      "source": [
        "s = \"Python isn't difficult.\"\n",
        "s\n"
      ],
      "execution_count": 10,
      "outputs": [
        {
          "output_type": "execute_result",
          "data": {
            "application/vnd.google.colaboratory.intrinsic+json": {
              "type": "string"
            },
            "text/plain": [
              "\"Python isn't difficult.\""
            ]
          },
          "metadata": {
            "tags": []
          },
          "execution_count": 10
        }
      ]
    },
    {
      "cell_type": "code",
      "metadata": {
        "colab": {
          "base_uri": "https://localhost:8080/",
          "height": 36
        },
        "id": "J_Jye6mSeekz",
        "outputId": "a0072d9a-ad9b-4606-8d88-8d30ddc94d2c"
      },
      "source": [
        "s = 'Alice said \" I love you\"'\n",
        "s"
      ],
      "execution_count": 11,
      "outputs": [
        {
          "output_type": "execute_result",
          "data": {
            "application/vnd.google.colaboratory.intrinsic+json": {
              "type": "string"
            },
            "text/plain": [
              "'Alice said \" I love you\"'"
            ]
          },
          "metadata": {
            "tags": []
          },
          "execution_count": 11
        }
      ]
    },
    {
      "cell_type": "code",
      "metadata": {
        "colab": {
          "base_uri": "https://localhost:8080/",
          "height": 36
        },
        "id": "DSzKNpIUewoq",
        "outputId": "40ef7048-4a99-4b45-e45e-0ee3b9a4651e"
      },
      "source": [
        "s = 'Python isn\\'t difficult.'\n",
        "s"
      ],
      "execution_count": 12,
      "outputs": [
        {
          "output_type": "execute_result",
          "data": {
            "application/vnd.google.colaboratory.intrinsic+json": {
              "type": "string"
            },
            "text/plain": [
              "\"Python isn't difficult.\""
            ]
          },
          "metadata": {
            "tags": []
          },
          "execution_count": 12
        }
      ]
    },
    {
      "cell_type": "code",
      "metadata": {
        "id": "8R-HUQqae8ar"
      },
      "source": [
        ""
      ],
      "execution_count": null,
      "outputs": []
    }
  ]
}