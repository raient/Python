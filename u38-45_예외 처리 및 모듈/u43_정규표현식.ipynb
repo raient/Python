{
 "cells": [
  {
   "cell_type": "markdown",
   "source": [
    "# Unit 43.정규표현식\r\n"
   ],
   "metadata": {}
  },
  {
   "cell_type": "markdown",
   "source": [
    "### 문자열 판단"
   ],
   "metadata": {}
  },
  {
   "cell_type": "code",
   "execution_count": 1,
   "source": [
    "import re\r\n",
    "re.match('hello', 'hello, world!') #패턴, 문자열\r\n"
   ],
   "outputs": [
    {
     "output_type": "execute_result",
     "data": {
      "text/plain": [
       "<re.Match object; span=(0, 5), match='hello'>"
      ]
     },
     "metadata": {},
     "execution_count": 1
    }
   ],
   "metadata": {}
  },
  {
   "cell_type": "code",
   "execution_count": 2,
   "source": [
    "z=re.match('Hello', 'Hello, world!')\r\n",
    "if z:\r\n",
    "    print('Found!!')\r\n",
    "else:\r\n",
    "    print('Not found.')"
   ],
   "outputs": [
    {
     "output_type": "stream",
     "name": "stdout",
     "text": [
      "Found!!\n"
     ]
    }
   ],
   "metadata": {}
  },
  {
   "cell_type": "code",
   "execution_count": 4,
   "source": [
    "# match()는 문장의 처음에서 찾음\r\n",
    "\r\n",
    "z=re.match('world', 'Hello world!')\r\n",
    "if z:\r\n",
    "    print('Found!!')\r\n",
    "else:\r\n",
    "    print('Not found.')"
   ],
   "outputs": [
    {
     "output_type": "stream",
     "name": "stdout",
     "text": [
      "Not found.\n"
     ]
    }
   ],
   "metadata": {}
  },
  {
   "cell_type": "code",
   "execution_count": 5,
   "source": [
    "# search는 모든 문장에서 찾음\r\n",
    "\r\n",
    "z=re.search('world', 'Hello world!')\r\n",
    "if z:\r\n",
    "    print('Found!!')\r\n",
    "else:\r\n",
    "    print('Not found.')\r\n"
   ],
   "outputs": [
    {
     "output_type": "stream",
     "name": "stdout",
     "text": [
      "Found!!\n"
     ]
    }
   ],
   "metadata": {}
  },
  {
   "cell_type": "markdown",
   "source": [
    "## 43.2  범위 판단"
   ],
   "metadata": {}
  },
  {
   "cell_type": "code",
   "execution_count": 6,
   "source": [
    "#  휴대전화 번호형식\r\n",
    "pattern = '01[0-9]-[0-9]{4}-[0-9]{4}'\r\n",
    "\r\n",
    "text = '010-1000-1234'\r\n",
    "\r\n",
    "if re.match(pattern, text):\r\n",
    "    print('올바른 휴대전화번호')\r\n",
    "else:\r\n",
    "    print('잘못된 휴대전화번호')\r\n"
   ],
   "outputs": [
    {
     "output_type": "stream",
     "name": "stdout",
     "text": [
      "올바른 휴대전화번호\n"
     ]
    }
   ],
   "metadata": {}
  },
  {
   "cell_type": "code",
   "execution_count": 7,
   "source": [
    "#한글 패턴\r\n",
    "hangul = '[ㄱ-ㅎ ㅏ-ㅣ가-힣]+'\r\n",
    "text = '홍길동'\r\n",
    "if re.search(hangul, text):\r\n",
    "    print('한글이 있음')\r\n",
    "else:\r\n",
    "    print('한글이 없음')"
   ],
   "outputs": [
    {
     "output_type": "stream",
     "name": "stdout",
     "text": [
      "한글이 있음\n"
     ]
    }
   ],
   "metadata": {}
  },
  {
   "cell_type": "markdown",
   "source": [
    "### 이메일 주소 검사하기\r\n"
   ],
   "metadata": {}
  },
  {
   "cell_type": "code",
   "execution_count": null,
   "source": [
    "p = re.compile('')\r\n",
    "\r\n",
    "emails = ['python@mail.example.com', 'python+kr@example.com',              # 올바른 형식\r\n",
    "          'python-dojang@example.co.kr', 'python_10@example.info',         # 올바른 형식\r\n",
    "          'python.dojang@e-xample.com',                                    # 올바른 형식\r\n",
    "          '@example.com', 'python@example', 'python@example-com']          # 잘못된 형식\r\n",
    " \r\n",
    "for email in emails:\r\n",
    "    print(p.match(email) != None, end=' ')"
   ],
   "outputs": [],
   "metadata": {}
  },
  {
   "cell_type": "markdown",
   "source": [
    "## 43.4 문자열 바꾸기"
   ],
   "metadata": {}
  },
  {
   "cell_type": "code",
   "execution_count": 9,
   "source": [
    "# re.sub('패턴', '바꿀 문자열, '문자열')\r\n",
    "re.sub('apple|orange', 'fruit', 'apple box orange tree')\r\n",
    "# 애플이나 오랜지를  푸르트로 변환"
   ],
   "outputs": [
    {
     "output_type": "execute_result",
     "data": {
      "text/plain": [
       "'fruit box fruit tree'"
      ]
     },
     "metadata": {},
     "execution_count": 9
    }
   ],
   "metadata": {}
  },
  {
   "cell_type": "code",
   "execution_count": 11,
   "source": [
    "re.sub('[0-9]','n','1 2 Fizz 7 8 Fizz Buzz 11 12')"
   ],
   "outputs": [
    {
     "output_type": "execute_result",
     "data": {
      "text/plain": [
       "'n n Fizz n n Fizz Buzz nn nn'"
      ]
     },
     "metadata": {},
     "execution_count": 11
    }
   ],
   "metadata": {}
  },
  {
   "cell_type": "code",
   "execution_count": 12,
   "source": [
    "re.sub('[0-9]+','n','1 2 Fizz 7 8 Fizz Buzz 11 12')"
   ],
   "outputs": [
    {
     "output_type": "execute_result",
     "data": {
      "text/plain": [
       "'n n Fizz n n Fizz Buzz n n'"
      ]
     },
     "metadata": {},
     "execution_count": 12
    }
   ],
   "metadata": {}
  },
  {
   "cell_type": "code",
   "execution_count": 14,
   "source": [
    "text = '''\r\n",
    "매번 match나 search 함수에 정규표현식 패턴을 지정하는 방법은 비효율적입니다. 같은 패턴을 자주 사용할 때는 compile 함수를 사용하여 정규표현식 패턴을 객체로 만든 뒤 match 또는 search 메서드를 호출하면 됩니다.'''"
   ],
   "outputs": [],
   "metadata": {}
  },
  {
   "cell_type": "code",
   "execution_count": 15,
   "source": [
    "not_hangul_blank ='[^ㄱ-ㅎㅏ-ㅣ가-힣 ]'\r\n",
    "text = re.sub(not_hangul_blank,'', text)\r\n",
    "text"
   ],
   "outputs": [
    {
     "output_type": "execute_result",
     "data": {
      "text/plain": [
       "'매번 나  함수에 정규표현식 패턴을 지정하는 방법은 비효율적입니다 같은 패턴을 자주 사용할 때는  함수를 사용하여 정규표현식 패턴을 객체로 만든 뒤  또는  메서드를 호출하면 됩니다'"
      ]
     },
     "metadata": {},
     "execution_count": 15
    }
   ],
   "metadata": {}
  },
  {
   "cell_type": "code",
   "execution_count": null,
   "source": [],
   "outputs": [],
   "metadata": {}
  }
 ],
 "metadata": {
  "orig_nbformat": 4,
  "language_info": {
   "name": "python",
   "version": "3.8.10",
   "mimetype": "text/x-python",
   "codemirror_mode": {
    "name": "ipython",
    "version": 3
   },
   "pygments_lexer": "ipython3",
   "nbconvert_exporter": "python",
   "file_extension": ".py"
  },
  "kernelspec": {
   "name": "python3",
   "display_name": "Python 3.8.10 64-bit ('base': conda)"
  },
  "interpreter": {
   "hash": "6d46af94c2bbce495f1e668725902fa517c90b1782bcfe2fce0dd9868df553d3"
  }
 },
 "nbformat": 4,
 "nbformat_minor": 2
}