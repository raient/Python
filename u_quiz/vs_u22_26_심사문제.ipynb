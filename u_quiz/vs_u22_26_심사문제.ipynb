{
  "nbformat": 4,
  "nbformat_minor": 2,
  "metadata": {
    "colab": {
      "name": "u22_26_심사문제.ipynb",
      "provenance": [],
      "collapsed_sections": []
    },
    "kernelspec": {
      "name": "python3",
      "display_name": "Python 3.8.10 64-bit ('base': conda)"
    },
    "language_info": {
      "name": "python",
      "version": "3.8.10",
      "mimetype": "text/x-python",
      "codemirror_mode": {
        "name": "ipython",
        "version": 3
      },
      "pygments_lexer": "ipython3",
      "nbconvert_exporter": "python",
      "file_extension": ".py"
    },
    "interpreter": {
      "hash": "6d46af94c2bbce495f1e668725902fa517c90b1782bcfe2fce0dd9868df553d3"
    }
  },
  "cells": [
    {
      "cell_type": "markdown",
      "source": [
        "## unit 22 심사문제\n",
        "표준 입력으로 정수 두 개가 입력됩니다(첫 번째 입력 값의 범위는 1/~20, 두 번째 입력 값의 범위는 10~30이며 첫 번째 입력 값은 두 번째 입력 값보다 항상 작습니다). 첫 번째 정수부터 두 번째 정수까지를 지수로 하는 2의 거듭제곱 리스트를 출력하는 프로그램을 만드세요(input에서 안내 문자열은 출력하지 않아야 합니다). 단, 리스트의 두 번째 요소와 뒤에서 두 번째 요소는 삭제한 뒤 출력하세요. 출력 결과는 리스트 형태라야 합니다.\n"
      ],
      "metadata": {
        "id": "5YuS3_Om_fEb"
      }
    },
    {
      "cell_type": "markdown",
      "source": [
        "1. 첫번쨰 정수 입력, 1~20\n",
        "2. 두번쨰 정수 입력, 10~30\n",
        "첫번째가 항상 두번쨰보다 작아야 한다.\n",
        "\n",
        "3. 첫번째부터 두번째 수의 범위로 2의 지수승을 출력\n",
        "4. 출력 결과는 리스트로 할것 "
      ],
      "metadata": {
        "id": "tDfv0__ZEUw5"
      }
    },
    {
      "cell_type": "code",
      "execution_count": 25,
      "source": [
        "num1, num2 = map(int, input('').split())\r\n",
        "# num2 = int(input(''))\r\n",
        "# num1, num2\r\n",
        "#l = list(range(num1, num2 + 1))\r\n",
        "l =[i for i in range(num1, num2+1)]\r\n",
        "l\r\n",
        "result = [2**i for i in l ]\r\n",
        "result"
      ],
      "outputs": [
        {
          "output_type": "stream",
          "name": "stdout",
          "text": [
            "5 8\n"
          ]
        },
        {
          "output_type": "execute_result",
          "data": {
            "text/plain": [
              "[32, 64, 128, 256]"
            ]
          },
          "metadata": {
            "tags": []
          },
          "execution_count": 25
        }
      ],
      "metadata": {
        "colab": {
          "base_uri": "https://localhost:8080/"
        },
        "id": "afMmNhisLfkJ",
        "outputId": "38eaa976-8cb4-41f5-89d6-3eeae01133c2"
      }
    },
    {
      "cell_type": "code",
      "execution_count": 11,
      "source": [
        "num1, num2 = map(int, input('').split())\r\n",
        "l =[i for i in range(num1, num2+1)]\r\n",
        "result = [2**i for i in l ]\r\n",
        "result"
      ],
      "outputs": [
        {
          "output_type": "execute_result",
          "data": {
            "text/plain": [
              "[32, 64, 128, 256]"
            ]
          },
          "metadata": {},
          "execution_count": 11
        }
      ],
      "metadata": {
        "colab": {
          "base_uri": "https://localhost:8080/"
        },
        "id": "30QJE2F9LpPo",
        "outputId": "1930c35d-3a69-4dd4-9c76-88ebb916a64c"
      }
    },
    {
      "cell_type": "markdown",
      "source": [
        "## unit 23 심사문제 _ 지뢰찾기\r\n",
        "\r\n",
        "표준 입력으로 2차원 리스트의 가로(col)와 세로(row)가 입력되고 그 다음 줄부터 리스트의 요소로 들어갈 문자가 입력됩니다. 이때 2차원 리스트 안에서 *는 지뢰이고 .은 지뢰가 아닙니다. 지뢰가 아닌 요소에는 인접한 지뢰의 개수를 출력하는 프로그램을 만드세요(input에서 안내 문자열은 출력하지 않아야 합니다).\r\n",
        "\r\n",
        "여러 줄을 입력 받으려면 다음과 같이 for 반복문에서 input을 호출한 뒤 append로 각 줄을 추가하면 됩니다(list 안에 문자열을 넣으면 문자열이 문자 리스트로 변환됩니다)."
      ],
      "metadata": {
        "id": "0V4-wyW6Rdml"
      }
    },
    {
      "cell_type": "code",
      "execution_count": 18,
      "source": [
        "a = int(input('')) # 행렬 값 입력\r\n",
        "#b = a+2\r\n",
        "print(b)\r\n",
        "\r\n",
        "\r\n",
        "l = [] # 빈 리스트 생성\r\n",
        "\r\n",
        "for i in range(a+2):  #입력값 +2(지뢰찾기 패딩)의 정방 행렬을 리스트 형태로 생성\r\n",
        "    line=[] # 행\r\n",
        "    for j in range(a+2): #열\r\n",
        "        line.append(0)\r\n",
        "        pass\r\n",
        "    l.append(line)# 열을 행에 삽입\r\n",
        "print(l)\r\n"
      ],
      "outputs": [
        {
          "output_type": "stream",
          "name": "stdout",
          "text": [
            "5\n",
            "[[0, 0, 0, 0, 0], [0, 0, 0, 0, 0], [0, 0, 0, 0, 0], [0, 0, 0, 0, 0], [0, 0, 0, 0, 0]]\n"
          ]
        }
      ],
      "metadata": {}
    },
    {
      "cell_type": "markdown",
      "source": [
        "## unit 24 심사문제 (1)\r\n",
        "표준 입력으로 문자열이 입력됩니다. 입력된 문자열에서 'the'의 개수를 출력하는 프로그램을 만드세요(input에서 안내 문자열은 출력하지 않아야 합니다). 단, 모든 문자가 소문자인 'the'만 찾으면 되며 'them', 'there', 'their' 등은 포함하지 않아야 합니다.\r\n",
        "\r\n",
        "judge_string_count.py"
      ],
      "metadata": {
        "id": "WbcgHkXWT03E"
      }
    },
    {
      "cell_type": "code",
      "execution_count": 8,
      "source": [
        "string_the = input('').split()\r\n",
        "print(string_the)\r\n",
        "\r\n",
        "count = 0\r\n",
        "\r\n",
        "for i in string_the:\r\n",
        "    if i.strip(',.') == 'the':\r\n",
        "        count +=1\r\n",
        "\r\n",
        "\r\n",
        "print(count)\r\n"
      ],
      "outputs": [
        {
          "output_type": "stream",
          "name": "stdout",
          "text": [
            "['the', 'they', 'them']\n",
            "1\n"
          ]
        }
      ],
      "metadata": {}
    },
    {
      "cell_type": "markdown",
      "source": [
        "## unit 24 심사문제 (2)\r\n",
        "표준 입력으로 물품 가격 여러 개가 문자열 한 줄로 입력되고, 각 가격은 ;(세미콜론)으로 구분되어 있습니다. 입력된 가격을 높은 가격순으로 출력하는 프로그램을 만드세요(input에서 안내 문자열은 출력하지 않아야 합니다). 이때 가격은 길이를 9로 만든 뒤 오른쪽으로 정렬하고 천단위로 ,(콤마)를 넣으세요."
      ],
      "metadata": {
        "id": "zZcPX_1ZUU2s"
      }
    },
    {
      "cell_type": "code",
      "execution_count": 13,
      "source": [
        "list_gakyuk = list(input().split(':'))\r\n",
        "\r\n",
        "sort_list_gakyuk = []\r\n",
        "\r\n",
        "for i in list_gakyuk:\r\n",
        "    sort_list_gakyuk.append(int(i))\r\n",
        "\r\n",
        "sort_list_gakyuk.sort(reverse=True)\r\n",
        "\r\n",
        "for i in sort_list_gakyuk:\r\n",
        "    print(str(\"{:,}\".format(i)).rjust(9))\r\n",
        "\r\n"
      ],
      "outputs": [
        {
          "output_type": "stream",
          "name": "stdout",
          "text": [
            "5,645,444\n",
            "    3,455\n",
            "    1,500\n"
          ]
        }
      ],
      "metadata": {}
    },
    {
      "cell_type": "markdown",
      "source": [
        "## unit 25 심사문제\n",
        "표준 입력으로 문자열 여러 개와 숫자 여러 개가 두 줄로 입력되고, 첫 번째 줄은 키, 두 번째 줄은 값으로 하여 딕셔너리를 생성합니다. 다음 코드를 완성하여 딕셔너리에서 키가 'delta'인 키-값 쌍과 값이 30인 키-값 쌍을 삭제하도록 만드세요."
      ],
      "metadata": {
        "id": "O0osNn6NUWXT"
      }
    },
    {
      "cell_type": "markdown",
      "source": [
        "## unit 26 심사문제\n",
        "표준 입력으로 양의 정수 두 개가 입력됩니다. 다음 소스 코드를 완성하여 두 숫자의 공약수를 세트 형태로 구하도록 만드세요. 단, 최종 결과는 공약수의 합으로 판단합니다."
      ],
      "metadata": {
        "id": "1bn38iUbWs2r"
      }
    },
    {
      "cell_type": "code",
      "execution_count": null,
      "source": [],
      "outputs": [],
      "metadata": {
        "id": "SZG2PbqwWzez"
      }
    }
  ]
}