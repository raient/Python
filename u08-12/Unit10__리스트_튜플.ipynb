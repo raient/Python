{
  "nbformat": 4,
  "nbformat_minor": 0,
  "metadata": {
    "colab": {
      "name": "Unit10_ 리스트_튜플.ipynb",
      "provenance": [],
      "collapsed_sections": []
    },
    "kernelspec": {
      "name": "python3",
      "display_name": "Python 3"
    },
    "language_info": {
      "name": "python"
    }
  },
  "cells": [
    {
      "cell_type": "markdown",
      "metadata": {
        "id": "gpsWZgs1gQuH"
      },
      "source": [
        "# Unit 10. 리스트와 튜플"
      ]
    },
    {
      "cell_type": "markdown",
      "metadata": {
        "id": "Nyoxk1d6gjwb"
      },
      "source": [
        "## 10.1 리스트 만들기"
      ]
    },
    {
      "cell_type": "markdown",
      "metadata": {
        "id": "L_6yKL9mg3v6"
      },
      "source": [
        "- 리스트는 반복문 및 함수 사용에 용이<br>\n",
        "  리스트는 [ ] 기호 사용\n"
      ]
    },
    {
      "cell_type": "code",
      "metadata": {
        "id": "PsLUX6azg4Yq",
        "colab": {
          "base_uri": "https://localhost:8080/"
        },
        "outputId": "ddc49ea6-7728-4a01-98a1-b058bcc736b1"
      },
      "source": [
        "a = [38, 21, 56, 62, 19]\n",
        "a\n",
        "# 파이썬에서는 리스트 엘리멘트가 다른 자료형도 가능하다"
      ],
      "execution_count": 7,
      "outputs": [
        {
          "output_type": "execute_result",
          "data": {
            "text/plain": [
              "[38, 21, 56, 62, 19]"
            ]
          },
          "metadata": {
            "tags": []
          },
          "execution_count": 7
        }
      ]
    },
    {
      "cell_type": "code",
      "metadata": {
        "colab": {
          "base_uri": "https://localhost:8080/"
        },
        "id": "hH3i20UIiUOS",
        "outputId": "5fe4ae6a-25e3-4e48-80a1-3278e08c2bed"
      },
      "source": [
        "# 리스트는, 순서가 보장\n",
        "person = ['james', 19, 175.4,True, [120, 80]]\n",
        "person"
      ],
      "execution_count": 9,
      "outputs": [
        {
          "output_type": "execute_result",
          "data": {
            "text/plain": [
              "['james', 19, 175.4, True, [120, 80]]"
            ]
          },
          "metadata": {
            "tags": []
          },
          "execution_count": 9
        }
      ]
    },
    {
      "cell_type": "code",
      "metadata": {
        "colab": {
          "base_uri": "https://localhost:8080/"
        },
        "id": "-fx0S8Uag5DM",
        "outputId": "9ec9ecdf-2a16-459a-cf39-1384f9ea56a5"
      },
      "source": [
        "# 위의 person은 다음과 같은 딕셔너리로 사용하는 것을 권장\n",
        "# 딕셔너리는 순서가 보장되지 않음\n",
        "person_dict = {'name':'james', 'age':19, 'height':175.4,\n",
        "               'is_male':True, 'bp':[120, 80]}\n",
        "person"
      ],
      "execution_count": 13,
      "outputs": [
        {
          "output_type": "execute_result",
          "data": {
            "text/plain": [
              "['james', 19, 175.4, True, [120, 80]]"
            ]
          },
          "metadata": {
            "tags": []
          },
          "execution_count": 13
        }
      ]
    },
    {
      "cell_type": "markdown",
      "metadata": {
        "id": "flQjuU7gg5Vp"
      },
      "source": [
        "### 빈 리스트 만들기"
      ]
    },
    {
      "cell_type": "code",
      "metadata": {
        "colab": {
          "base_uri": "https://localhost:8080/"
        },
        "id": "qw8cPE3gjznC",
        "outputId": "d8f6fdca-9d47-4318-84f8-34f1ebe23473"
      },
      "source": [
        "a = []\n",
        "b = list()\n",
        "a, b"
      ],
      "execution_count": 14,
      "outputs": [
        {
          "output_type": "execute_result",
          "data": {
            "text/plain": [
              "([], [])"
            ]
          },
          "metadata": {
            "tags": []
          },
          "execution_count": 14
        }
      ]
    },
    {
      "cell_type": "code",
      "metadata": {
        "id": "3ZSXlzVvkT6o"
      },
      "source": [
        "a,b = [], [] \n",
        "#파이썬스로운 코드"
      ],
      "execution_count": 15,
      "outputs": []
    },
    {
      "cell_type": "markdown",
      "metadata": {
        "id": "ZHBOimSfkcaJ"
      },
      "source": [
        "### range\n",
        "- range( [시작 숫자], 끝나는 숫자(원소의 개수) +1, [증가분] \n",
        ")<br>\n",
        "시작숫자 생략시 0부터 시작"
      ]
    },
    {
      "cell_type": "code",
      "metadata": {
        "colab": {
          "base_uri": "https://localhost:8080/"
        },
        "id": "BpXwge2Ek6RA",
        "outputId": "e545876e-de08-42fb-f204-00855cdfdc7e"
      },
      "source": [
        "a = range(10)\n",
        "a"
      ],
      "execution_count": 17,
      "outputs": [
        {
          "output_type": "execute_result",
          "data": {
            "text/plain": [
              "range(0, 10)"
            ]
          },
          "metadata": {
            "tags": []
          },
          "execution_count": 17
        }
      ]
    },
    {
      "cell_type": "code",
      "metadata": {
        "colab": {
          "base_uri": "https://localhost:8080/"
        },
        "id": "67AVjQiWlCiH",
        "outputId": "8c91eedb-a201-41e9-8902-afcfec857078"
      },
      "source": [
        "list(a)"
      ],
      "execution_count": 18,
      "outputs": [
        {
          "output_type": "execute_result",
          "data": {
            "text/plain": [
              "[0, 1, 2, 3, 4, 5, 6, 7, 8, 9]"
            ]
          },
          "metadata": {
            "tags": []
          },
          "execution_count": 18
        }
      ]
    },
    {
      "cell_type": "code",
      "metadata": {
        "colab": {
          "base_uri": "https://localhost:8080/"
        },
        "id": "PjQI7M9ZlDeI",
        "outputId": "f5c2e09b-6306-4e0d-bc59-162bb096f849"
      },
      "source": [
        "list(range(1,11))\n"
      ],
      "execution_count": 19,
      "outputs": [
        {
          "output_type": "execute_result",
          "data": {
            "text/plain": [
              "[1, 2, 3, 4, 5, 6, 7, 8, 9, 10]"
            ]
          },
          "metadata": {
            "tags": []
          },
          "execution_count": 19
        }
      ]
    },
    {
      "cell_type": "code",
      "metadata": {
        "colab": {
          "base_uri": "https://localhost:8080/"
        },
        "id": "QF0ViNtulDug",
        "outputId": "206bd50a-f288-4596-d2a9-2109c3905673"
      },
      "source": [
        "list(range(1,10,2))"
      ],
      "execution_count": 23,
      "outputs": [
        {
          "output_type": "execute_result",
          "data": {
            "text/plain": [
              "[1, 3, 5, 7, 9]"
            ]
          },
          "metadata": {
            "tags": []
          },
          "execution_count": 23
        }
      ]
    },
    {
      "cell_type": "code",
      "metadata": {
        "colab": {
          "base_uri": "https://localhost:8080/"
        },
        "id": "-BtYBtdDl1D_",
        "outputId": "76da5cb6-46e6-41f7-96d8-8ce559c630ef"
      },
      "source": [
        "list(range(2,11,2))"
      ],
      "execution_count": 24,
      "outputs": [
        {
          "output_type": "execute_result",
          "data": {
            "text/plain": [
              "[2, 4, 6, 8, 10]"
            ]
          },
          "metadata": {
            "tags": []
          },
          "execution_count": 24
        }
      ]
    },
    {
      "cell_type": "markdown",
      "metadata": {
        "id": "fVRyIv5dgvdi"
      },
      "source": [
        "## 10.2 튜플 사용하기"
      ]
    },
    {
      "cell_type": "markdown",
      "metadata": {
        "id": "4uMi3kZog22L"
      },
      "source": [
        "튜플은 () 기호 사용<br>\n",
        "딕셔너리는 {}기호 사용\n"
      ]
    },
    {
      "cell_type": "code",
      "metadata": {
        "id": "GBNa1JANhrhI"
      },
      "source": [
        ""
      ],
      "execution_count": null,
      "outputs": []
    }
  ]
}