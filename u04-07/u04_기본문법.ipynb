{
  "nbformat": 4,
  "nbformat_minor": 0,
  "metadata": {
    "colab": {
      "name": "u04_기본문법.ipynb",
      "provenance": []
    },
    "kernelspec": {
      "name": "python3",
      "display_name": "Python 3"
    },
    "language_info": {
      "name": "python"
    }
  },
  "cells": [
    {
      "cell_type": "markdown",
      "metadata": {
        "id": "9IOAWjYBfd7r"
      },
      "source": [
        "# Unit 4. 기본 문법 알아보기"
      ]
    },
    {
      "cell_type": "markdown",
      "metadata": {
        "id": "D1VHnYrhbC4m"
      },
      "source": [
        "## 4.1 세미콜론"
      ]
    },
    {
      "cell_type": "code",
      "metadata": {
        "colab": {
          "base_uri": "https://localhost:8080/"
        },
        "id": "DbqDLPNxay-r",
        "outputId": "6ba10c08-33ea-48c5-de97-1143ee32e5fb"
      },
      "source": [
        "print('heelo, world!')"
      ],
      "execution_count": 1,
      "outputs": [
        {
          "output_type": "stream",
          "text": [
            "heelo, world!\n"
          ],
          "name": "stdout"
        }
      ]
    },
    {
      "cell_type": "markdown",
      "metadata": {
        "id": "zHxr1oNXbPsj"
      },
      "source": [
        "## 4.2 주석\n"
      ]
    },
    {
      "cell_type": "markdown",
      "metadata": {
        "id": "eGgCl8JRb-Zc"
      },
      "source": [
        "### 4.2.1 한 줄 주석"
      ]
    },
    {
      "cell_type": "code",
      "metadata": {
        "colab": {
          "base_uri": "https://localhost:8080/"
        },
        "id": "KgByge7bcBhs",
        "outputId": "f09a5fd5-f2bc-4f56-a799-d3e0a68b8bbb"
      },
      "source": [
        "# Hellow, world! 출력\n",
        "print('Hello, world')"
      ],
      "execution_count": 2,
      "outputs": [
        {
          "output_type": "stream",
          "text": [
            "Hello, world\n"
          ],
          "name": "stdout"
        }
      ]
    },
    {
      "cell_type": "markdown",
      "metadata": {
        "id": "J7yUU_amcMO5"
      },
      "source": [
        "### 4.2.2 블록 주석\n"
      ]
    },
    {
      "cell_type": "code",
      "metadata": {
        "colab": {
          "base_uri": "https://localhost:8080/",
          "height": 36
        },
        "id": "bKGRhvqqetuU",
        "outputId": "7eabb4d7-17ba-4dad-b817-775bee964780"
      },
      "source": [
        "# 더하기\n",
        "''' a = 1+2\n",
        " print('Hello')'''"
      ],
      "execution_count": 4,
      "outputs": [
        {
          "output_type": "execute_result",
          "data": {
            "application/vnd.google.colaboratory.intrinsic+json": {
              "type": "string"
            },
            "text/plain": [
              "\" a = 1+2\\n print('Hello')\""
            ]
          },
          "metadata": {
            "tags": []
          },
          "execution_count": 4
        }
      ]
    },
    {
      "cell_type": "markdown",
      "metadata": {
        "id": "63WJ3sJjfFlq"
      },
      "source": [
        "## 4.3 들여쓰기(Indentation)"
      ]
    },
    {
      "cell_type": "code",
      "metadata": {
        "colab": {
          "base_uri": "https://localhost:8080/",
          "height": 36
        },
        "id": "-hKeTIk6itVM",
        "outputId": "1398b36e-05c2-4a24-dae0-e6a8b4ecc2e6"
      },
      "source": [
        "''' C 프로그래밍 예\n",
        "sum =0;\n",
        "for (i=1; i<=10; i++){\n",
        "  sum +=i;\n",
        "}\n",
        "printf(sum);\n",
        "'''\n",
        "# 파이썬에서는 들여쓰기 오류시 에러 발생"
      ],
      "execution_count": 5,
      "outputs": [
        {
          "output_type": "execute_result",
          "data": {
            "application/vnd.google.colaboratory.intrinsic+json": {
              "type": "string"
            },
            "text/plain": [
              "' C 프로그래밍 예\\nsum =0;\\nfor (i=1; i<=10; i++){\\n  sum +=i;\\n}\\nprintf(sum);\\n'"
            ]
          },
          "metadata": {
            "tags": []
          },
          "execution_count": 5
        }
      ]
    },
    {
      "cell_type": "code",
      "metadata": {
        "colab": {
          "base_uri": "https://localhost:8080/"
        },
        "id": "TX4pUf-wjKJc",
        "outputId": "6770813c-ec32-4f58-c82f-1a4b483e6fb9"
      },
      "source": [
        "#파이썬 예\n",
        "sum = 0\n",
        "for i in range(1,11):\n",
        "  sum += i\n",
        "print(sum)\n",
        "#  파이썬 들여쓰기 콜론 : 다음에 의미가 있다"
      ],
      "execution_count": 12,
      "outputs": [
        {
          "output_type": "stream",
          "text": [
            "55\n"
          ],
          "name": "stdout"
        }
      ]
    },
    {
      "cell_type": "code",
      "metadata": {
        "colab": {
          "base_uri": "https://localhost:8080/",
          "height": 141
        },
        "id": "Iort_Br8jTSl",
        "outputId": "fb60419e-7e45-4efe-e344-10e93985b3ea"
      },
      "source": [
        "sum = 0\n",
        "for i in range(1,11):\n",
        "  sum += i\n",
        " "
      ],
      "execution_count": 13,
      "outputs": [
        {
          "output_type": "error",
          "ename": "SyntaxError",
          "evalue": "ignored",
          "traceback": [
            "\u001b[0;36m  File \u001b[0;32m\"<ipython-input-13-4f237b111dc3>\"\u001b[0;36m, line \u001b[0;32m4\u001b[0m\n\u001b[0;31m    if(i>9):\u001b[0m\n\u001b[0m            ^\u001b[0m\n\u001b[0;31mSyntaxError\u001b[0m\u001b[0;31m:\u001b[0m unexpected EOF while parsing\n"
          ]
        }
      ]
    },
    {
      "cell_type": "code",
      "metadata": {
        "id": "cKpV3JHukUbm"
      },
      "source": [
        ""
      ],
      "execution_count": null,
      "outputs": []
    }
  ]
}