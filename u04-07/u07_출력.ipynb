{
  "nbformat": 4,
  "nbformat_minor": 0,
  "metadata": {
    "colab": {
      "name": "u07_출력.ipynb",
      "provenance": [],
      "collapsed_sections": []
    },
    "kernelspec": {
      "name": "python3",
      "display_name": "Python 3"
    },
    "language_info": {
      "name": "python"
    }
  },
  "cells": [
    {
      "cell_type": "markdown",
      "metadata": {
        "id": "PP59ep6qZtrX"
      },
      "source": [
        "# Unit7. 출력"
      ]
    },
    {
      "cell_type": "markdown",
      "metadata": {
        "id": "dvxQOb7cagIM"
      },
      "source": [
        "##7.1 여려개 값을 출력"
      ]
    },
    {
      "cell_type": "code",
      "metadata": {
        "colab": {
          "base_uri": "https://localhost:8080/"
        },
        "id": "WqVZRz_KZ3oP",
        "outputId": "f2afe485-a587-4246-b251-1e866fe5103a"
      },
      "source": [
        "a,b = map(int, input('숫자 두개 입력').split(','))\n",
        "print(a)\n",
        "print(b)"
      ],
      "execution_count": 4,
      "outputs": [
        {
          "output_type": "stream",
          "text": [
            "숫자 두개 입력152, 5667\n",
            "152\n",
            "5667\n"
          ],
          "name": "stdout"
        }
      ]
    },
    {
      "cell_type": "code",
      "metadata": {
        "colab": {
          "base_uri": "https://localhost:8080/"
        },
        "id": "fapHB_hPaDcj",
        "outputId": "640c8d93-f218-40d2-d635-f51e470c5b22"
      },
      "source": [
        "print(a,b)"
      ],
      "execution_count": 5,
      "outputs": [
        {
          "output_type": "stream",
          "text": [
            "152 5667\n"
          ],
          "name": "stdout"
        }
      ]
    },
    {
      "cell_type": "code",
      "metadata": {
        "colab": {
          "base_uri": "https://localhost:8080/"
        },
        "id": "7DKnnTmBatoE",
        "outputId": "55d04813-d2b1-4306-f0a6-b7820dc544bb"
      },
      "source": [
        "print(a,b, sep=',')\n",
        "# 중간 사이 출력되는 기호 sep"
      ],
      "execution_count": 7,
      "outputs": [
        {
          "output_type": "stream",
          "text": [
            "152,5667\n"
          ],
          "name": "stdout"
        }
      ]
    },
    {
      "cell_type": "markdown",
      "metadata": {
        "id": "2pkTA9r1azTG"
      },
      "source": [
        "##7.2 줄바꿈 활용"
      ]
    },
    {
      "cell_type": "code",
      "metadata": {
        "colab": {
          "base_uri": "https://localhost:8080/"
        },
        "id": "AmmGjQi-bHbW",
        "outputId": "cac9ef9f-c083-44da-8f54-460d4649b0a0"
      },
      "source": [
        "print(a,b, sep ='\\n')\n",
        "# 라인 줄바꿈  \\n\n"
      ],
      "execution_count": 9,
      "outputs": [
        {
          "output_type": "stream",
          "text": [
            "152\n",
            "5667\n"
          ],
          "name": "stdout"
        }
      ]
    },
    {
      "cell_type": "code",
      "metadata": {
        "colab": {
          "base_uri": "https://localhost:8080/"
        },
        "id": "kkUuI2hkbRK2",
        "outputId": "c5714d43-8a03-4010-d02c-3fcf6915522f"
      },
      "source": [
        "print(a,b, sep ='/\\\\')\n",
        "# \\는 예약어 이기 때문에 출력을 우너할땐 \\\\  이렇게 사용\n"
      ],
      "execution_count": 11,
      "outputs": [
        {
          "output_type": "stream",
          "text": [
            "152/\\5667\n"
          ],
          "name": "stdout"
        }
      ]
    },
    {
      "cell_type": "code",
      "metadata": {
        "colab": {
          "base_uri": "https://localhost:8080/"
        },
        "id": "KW2YaRZFbv60",
        "outputId": "44d08961-b015-4e49-f2f4-a6f2a066d06a"
      },
      "source": [
        "print(a, end ='                           ')\n",
        "print(b)"
      ],
      "execution_count": 13,
      "outputs": [
        {
          "output_type": "stream",
          "text": [
            "152                           5667\n"
          ],
          "name": "stdout"
        }
      ]
    },
    {
      "cell_type": "code",
      "metadata": {
        "colab": {
          "base_uri": "https://localhost:8080/"
        },
        "id": "i_LiWQqecx8V",
        "outputId": "70779a6f-1d00-4063-a82f-beb8f19517ad"
      },
      "source": [
        "for i in range(5):\n",
        "  print(i, end='   ')"
      ],
      "execution_count": 14,
      "outputs": [
        {
          "output_type": "stream",
          "text": [
            "0   1   2   3   4   "
          ],
          "name": "stdout"
        }
      ]
    },
    {
      "cell_type": "code",
      "metadata": {
        "id": "u_6R3cKCdJCl"
      },
      "source": [
        ""
      ],
      "execution_count": null,
      "outputs": []
    }
  ]
}