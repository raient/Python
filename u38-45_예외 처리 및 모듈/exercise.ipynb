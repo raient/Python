{
 "cells": [
  {
   "cell_type": "code",
   "execution_count": 2,
   "source": [
    "import u45_square2 as sq\r\n",
    "\r\n",
    "\r\n",
    "print(sq.base)\r\n",
    "print(sq.square(10))"
   ],
   "outputs": [
    {
     "output_type": "stream",
     "name": "stdout",
     "text": [
      "2\n",
      "1024\n"
     ]
    }
   ],
   "metadata": {}
  },
  {
   "cell_type": "code",
   "execution_count": 3,
   "source": [
    "!ls -l"
   ],
   "outputs": [
    {
     "output_type": "stream",
     "name": "stderr",
     "text": [
      "'ls'��(��) ���� �Ǵ� �ܺ� ����, ������ �� �ִ� ���α׷�, �Ǵ�\n",
      "��ġ ������ �ƴմϴ�.\n"
     ]
    }
   ],
   "metadata": {}
  },
  {
   "cell_type": "code",
   "execution_count": 4,
   "source": [
    "!dir"
   ],
   "outputs": [
    {
     "output_type": "stream",
     "name": "stdout",
     "text": [
      " D ����̺��� �������� �̸��� �����ϴ�.\n",
      " ���� �Ϸ� ��ȣ: 50F4-C6B3\n",
      "\n",
      " d:\\workspace\\01_Python\\Python\\u38-45_���� ó�� �� ��� ���͸�\n",
      "\n",
      "2021-08-05  ���� 02:08    <DIR>          .\n",
      "2021-08-05  ���� 02:08    <DIR>          ..\n",
      "2021-08-05  ���� 02:08                 0 exercise.ipynb\n",
      "2021-08-05  ���� 10:31             7,508 u38_����ó��.ipynb\n",
      "2021-08-05  ���� 11:40             6,877 u43_����ǥ����.ipynb\n",
      "2021-08-05  ���� 02:02             4,556 u44 ���ְ� ���.ipynb\n",
      "2021-08-05  ���� 02:05                53 u45_square2.py\n",
      "2021-08-05  ���� 02:02                 0 u45_��� �����.ipynb\n",
      "2021-08-05  ���� 02:07    <DIR>          __pycache__\n",
      "               6�� ����              18,994 ����Ʈ\n",
      "               3�� ���͸�  1,510,428,725,248 ����Ʈ ����\n"
     ]
    }
   ],
   "metadata": {}
  },
  {
   "cell_type": "code",
   "execution_count": null,
   "source": [],
   "outputs": [],
   "metadata": {}
  }
 ],
 "metadata": {
  "orig_nbformat": 4,
  "language_info": {
   "name": "python",
   "version": "3.8.10",
   "mimetype": "text/x-python",
   "codemirror_mode": {
    "name": "ipython",
    "version": 3
   },
   "pygments_lexer": "ipython3",
   "nbconvert_exporter": "python",
   "file_extension": ".py"
  },
  "kernelspec": {
   "name": "python3",
   "display_name": "Python 3.8.10 64-bit ('base': conda)"
  },
  "interpreter": {
   "hash": "6d46af94c2bbce495f1e668725902fa517c90b1782bcfe2fce0dd9868df553d3"
  }
 },
 "nbformat": 4,
 "nbformat_minor": 2
}