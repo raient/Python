{
  "nbformat": 4,
  "nbformat_minor": 0,
  "metadata": {
    "colab": {
      "name": "02day_summary.ipynb",
      "provenance": [],
      "collapsed_sections": []
    },
    "kernelspec": {
      "name": "python3",
      "display_name": "Python 3"
    },
    "language_info": {
      "name": "python"
    }
  },
  "cells": [
    {
      "cell_type": "markdown",
      "metadata": {
        "id": "-jIWbn9_DfNv"
      },
      "source": [
        "#  빅데이터 개요"
      ]
    },
    {
      "cell_type": "markdown",
      "metadata": {
        "id": "u0gxxxhiEY7V"
      },
      "source": [
        "## 빅데이터의 정의\n",
        "- 데이터를 기반으로 예측 하고 과학적으로 의사를 결정하는 분야"
      ]
    },
    {
      "cell_type": "markdown",
      "metadata": {
        "id": "3CcbWQ36EiXw"
      },
      "source": [
        "## 문제 해결을 위한 과학적 사고"
      ]
    },
    {
      "cell_type": "markdown",
      "metadata": {
        "id": "_29ZZtJXEzzG"
      },
      "source": [
        "- 문제해결을 위한 과학적 사고\n",
        " <br>복잡한 문제를 작은 문제로 분해하여 해결하고 종합하여 큰문제를 해결"
      ]
    },
    {
      "cell_type": "markdown",
      "metadata": {
        "id": "mEjI3c-6FF3_"
      },
      "source": [
        "- 컴퓨테이셔널 씽킹<br>\n",
        "  : 현실 세계의 문제를 분석하여 해결책을 찾는 과학적 사고법\n",
        "\n",
        "- 컴퓨터 프로그래밍<br>\n",
        "  : 컴퓨테이셔널 씽킹을 찾은 해결책을 컴퓨터의 명령어로 작성하는 것\n",
        "\n",
        "- 과정\n",
        "  : 작은 문제로 분해 -> 패턴 파악 -> 사용할 데이터 결정 => 일반화 및 모델링"
      ]
    },
    {
      "cell_type": "markdown",
      "metadata": {
        "id": "XtDuU9MbFiUG"
      },
      "source": [
        "## 알고리즘과 코딩"
      ]
    },
    {
      "cell_type": "markdown",
      "metadata": {
        "id": "eUyrqODNGcr1"
      },
      "source": [
        "- 알고리즘\n",
        ": 문제에서 일정한 패턴 발견 및 패턴을 토대로 문제를 해결하는 절차\n",
        "- 코딩\n",
        ": 알고리즘을 코드로 표현하는 작업"
      ]
    },
    {
      "cell_type": "code",
      "metadata": {
        "id": "tacr1ZiGGvWl"
      },
      "source": [
        ""
      ],
      "execution_count": null,
      "outputs": []
    }
  ]
}