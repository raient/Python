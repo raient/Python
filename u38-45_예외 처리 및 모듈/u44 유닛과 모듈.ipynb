{
 "cells": [
  {
   "cell_type": "markdown",
   "source": [
    "# Unit 44. 모듈과 패키지 "
   ],
   "metadata": {}
  },
  {
   "cell_type": "markdown",
   "source": [
    "- 모듈 : 각종 변수, 함수, 클래스를 담고 있는 파일 .py 파일 형태\r\n",
    "- 패키지 : 여러 모듈을 묶은 것"
   ],
   "metadata": {}
  },
  {
   "cell_type": "markdown",
   "source": [
    "만들어진 모듈을 사용하는 방법과 내가 필요한 모듈을 제작하는 방법을 알아야 한다\r\n"
   ],
   "metadata": {}
  },
  {
   "cell_type": "markdown",
   "source": [
    "## 44.1 import"
   ],
   "metadata": {}
  },
  {
   "cell_type": "code",
   "execution_count": 9,
   "source": [
    "import math\r\n",
    "math.sqrt(2), math.log2(2), math.sin(math.pi/2)"
   ],
   "outputs": [
    {
     "output_type": "execute_result",
     "data": {
      "text/plain": [
       "(1.4142135623730951, 1.0, 1.0)"
      ]
     },
     "metadata": {},
     "execution_count": 9
    }
   ],
   "metadata": {}
  },
  {
   "cell_type": "markdown",
   "source": [
    "import math\r\n",
    "\r\n",
    "math.pi"
   ],
   "metadata": {}
  },
  {
   "cell_type": "code",
   "execution_count": 10,
   "source": [
    "# 알리아스로 모듈 사용하기\r\n",
    "import math as m\r\n",
    "m.pi\r\n",
    "round(m.pi,4), m.log2(2), round(m.sqrt(2),4)"
   ],
   "outputs": [
    {
     "output_type": "execute_result",
     "data": {
      "text/plain": [
       "(3.1416, 1.0, 1.4142)"
      ]
     },
     "metadata": {},
     "execution_count": 10
    }
   ],
   "metadata": {}
  },
  {
   "cell_type": "code",
   "execution_count": 11,
   "source": [
    "# from을 통해 함수, 클래스, 전역변수 등을 가져 올 수 있다.\r\n",
    "from math import sqrt, pi \r\n",
    "\r\n",
    "round(pi, 4), round(sqrt(2),4 )"
   ],
   "outputs": [
    {
     "output_type": "execute_result",
     "data": {
      "text/plain": [
       "(3.1416, 1.4142)"
      ]
     },
     "metadata": {},
     "execution_count": 11
    }
   ],
   "metadata": {}
  },
  {
   "cell_type": "code",
   "execution_count": 13,
   "source": [
    "# 모듈 명 없이 해당 모듈의 내용을 사용 가능, 모듈의 모든것을 가져 옴\r\n",
    "\r\n",
    "from math import *\r\n",
    "log2(2), sin(pi/2)"
   ],
   "outputs": [
    {
     "output_type": "execute_result",
     "data": {
      "text/plain": [
       "(1.0, 1.0)"
      ]
     },
     "metadata": {},
     "execution_count": 13
    }
   ],
   "metadata": {}
  },
  {
   "cell_type": "markdown",
   "source": [
    "## 44.2 import 패키지\r\n"
   ],
   "metadata": {}
  },
  {
   "cell_type": "code",
   "execution_count": 15,
   "source": [
    "import urllib.request\r\n",
    "res = urllib.request.urlopen('http://www.google.co.kr')\r\n",
    "res.status # status 200이면 ok"
   ],
   "outputs": [
    {
     "output_type": "execute_result",
     "data": {
      "text/plain": [
       "200"
      ]
     },
     "metadata": {},
     "execution_count": 15
    }
   ],
   "metadata": {}
  },
  {
   "cell_type": "code",
   "execution_count": 17,
   "source": [
    "from urllib.request import urlopen\r\n",
    "\r\n",
    "res = urlopen('http://www.google.co.kr')\r\n",
    "res.status"
   ],
   "outputs": [
    {
     "output_type": "execute_result",
     "data": {
      "text/plain": [
       "200"
      ]
     },
     "metadata": {},
     "execution_count": 17
    }
   ],
   "metadata": {}
  },
  {
   "cell_type": "code",
   "execution_count": 18,
   "source": [
    "# Scikit - Learn 패키지\r\n",
    "# from sklearn.model_selection import train_test_split, GridSearchCV"
   ],
   "outputs": [],
   "metadata": {}
  },
  {
   "cell_type": "markdown",
   "source": [
    "### 남이 만든 패키지를 잘 사용하는 것도 내 실력이다."
   ],
   "metadata": {}
  },
  {
   "cell_type": "code",
   "execution_count": null,
   "source": [
    "import"
   ],
   "outputs": [],
   "metadata": {}
  }
 ],
 "metadata": {
  "orig_nbformat": 4,
  "language_info": {
   "name": "python",
   "version": "3.8.10",
   "mimetype": "text/x-python",
   "codemirror_mode": {
    "name": "ipython",
    "version": 3
   },
   "pygments_lexer": "ipython3",
   "nbconvert_exporter": "python",
   "file_extension": ".py"
  },
  "kernelspec": {
   "name": "python3",
   "display_name": "Python 3.8.10 64-bit ('base': conda)"
  },
  "interpreter": {
   "hash": "6d46af94c2bbce495f1e668725902fa517c90b1782bcfe2fce0dd9868df553d3"
  }
 },
 "nbformat": 4,
 "nbformat_minor": 2
}