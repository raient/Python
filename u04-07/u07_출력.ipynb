{
  "nbformat": 4,
  "nbformat_minor": 2,
  "metadata": {
    "colab": {
      "name": "u07_출력.ipynb",
      "provenance": [],
      "collapsed_sections": []
    },
    "kernelspec": {
      "name": "python3",
      "display_name": "Python 3.8.10 64-bit ('base': conda)"
    },
    "language_info": {
      "name": "python",
      "version": "3.8.10",
      "mimetype": "text/x-python",
      "codemirror_mode": {
        "name": "ipython",
        "version": 3
      },
      "pygments_lexer": "ipython3",
      "nbconvert_exporter": "python",
      "file_extension": ".py"
    },
    "interpreter": {
      "hash": "6d46af94c2bbce495f1e668725902fa517c90b1782bcfe2fce0dd9868df553d3"
    }
  },
  "cells": [
    {
      "cell_type": "markdown",
      "source": [
        "# Unit7. 출력"
      ],
      "metadata": {
        "id": "PP59ep6qZtrX"
      }
    },
    {
      "cell_type": "markdown",
      "source": [
        "##7.1 여려개 값을 출력"
      ],
      "metadata": {
        "id": "dvxQOb7cagIM"
      }
    },
    {
      "cell_type": "code",
      "execution_count": 4,
      "source": [
        "a,b=map(int, input('숫자 두개 입력').split(','))\r\n",
        "print(a)\r\n",
        "print(b)"
      ],
      "outputs": [
        {
          "output_type": "stream",
          "name": "stdout",
          "text": [
            "1\n",
            "2\n"
          ]
        }
      ],
      "metadata": {
        "colab": {
          "base_uri": "https://localhost:8080/"
        },
        "id": "WqVZRz_KZ3oP",
        "outputId": "f2afe485-a587-4246-b251-1e866fe5103a"
      }
    },
    {
      "cell_type": "code",
      "execution_count": 5,
      "source": [
        "print(a,b)"
      ],
      "outputs": [
        {
          "output_type": "stream",
          "name": "stdout",
          "text": [
            "152 5667\n"
          ]
        }
      ],
      "metadata": {
        "colab": {
          "base_uri": "https://localhost:8080/"
        },
        "id": "fapHB_hPaDcj",
        "outputId": "640c8d93-f218-40d2-d635-f51e470c5b22"
      }
    },
    {
      "cell_type": "code",
      "execution_count": 7,
      "source": [
        "print(a,b, sep=',')\r\n",
        "# 중간 사이 출력되는 기호 sep"
      ],
      "outputs": [
        {
          "output_type": "stream",
          "name": "stdout",
          "text": [
            "152,5667\n"
          ]
        }
      ],
      "metadata": {
        "colab": {
          "base_uri": "https://localhost:8080/"
        },
        "id": "7DKnnTmBatoE",
        "outputId": "55d04813-d2b1-4306-f0a6-b7820dc544bb"
      }
    },
    {
      "cell_type": "markdown",
      "source": [
        "##7.2 줄바꿈 활용"
      ],
      "metadata": {
        "id": "2pkTA9r1azTG"
      }
    },
    {
      "cell_type": "code",
      "execution_count": 4,
      "source": [
        "print(a,b, sep ='\\n')\r\n",
        "# 라인 줄바꿈  \\n\r\n"
      ],
      "outputs": [
        {
          "output_type": "error",
          "ename": "NameError",
          "evalue": "name 'a' is not defined",
          "traceback": [
            "\u001b[1;31m---------------------------------------------------------------------------\u001b[0m",
            "\u001b[1;31mNameError\u001b[0m                                 Traceback (most recent call last)",
            "\u001b[1;32m<ipython-input-4-31653a8ee874>\u001b[0m in \u001b[0;36m<module>\u001b[1;34m\u001b[0m\n\u001b[1;32m----> 1\u001b[1;33m \u001b[0mprint\u001b[0m\u001b[1;33m(\u001b[0m\u001b[0ma\u001b[0m\u001b[1;33m,\u001b[0m\u001b[0mb\u001b[0m\u001b[1;33m,\u001b[0m \u001b[0msep\u001b[0m \u001b[1;33m=\u001b[0m\u001b[1;34m'\\n'\u001b[0m\u001b[1;33m)\u001b[0m\u001b[1;33m\u001b[0m\u001b[1;33m\u001b[0m\u001b[0m\n\u001b[0m\u001b[0;32m      2\u001b[0m \u001b[1;31m# 라인 줄바꿈  \\n\u001b[0m\u001b[1;33m\u001b[0m\u001b[1;33m\u001b[0m\u001b[1;33m\u001b[0m\u001b[0m\n",
            "\u001b[1;31mNameError\u001b[0m: name 'a' is not defined"
          ]
        }
      ],
      "metadata": {
        "colab": {
          "base_uri": "https://localhost:8080/"
        },
        "id": "AmmGjQi-bHbW",
        "outputId": "cac9ef9f-c083-44da-8f54-460d4649b0a0"
      }
    },
    {
      "cell_type": "code",
      "execution_count": 11,
      "source": [
        "print(a,b, sep ='/\\\\')\r\n",
        "# \\는 예약어 이기 때문에 출력을 우너할땐 \\\\  이렇게 사용\r\n"
      ],
      "outputs": [
        {
          "output_type": "stream",
          "name": "stdout",
          "text": [
            "152/\\5667\n"
          ]
        }
      ],
      "metadata": {
        "colab": {
          "base_uri": "https://localhost:8080/"
        },
        "id": "kkUuI2hkbRK2",
        "outputId": "c5714d43-8a03-4010-d02c-3fcf6915522f"
      }
    },
    {
      "cell_type": "code",
      "execution_count": 13,
      "source": [
        "print(a, end ='                           ')\r\n",
        "print(b)"
      ],
      "outputs": [
        {
          "output_type": "stream",
          "name": "stdout",
          "text": [
            "152                           5667\n"
          ]
        }
      ],
      "metadata": {
        "colab": {
          "base_uri": "https://localhost:8080/"
        },
        "id": "KW2YaRZFbv60",
        "outputId": "44d08961-b015-4e49-f2f4-a6f2a066d06a"
      }
    },
    {
      "cell_type": "code",
      "execution_count": null,
      "source": [
        "for i in range(5):\r\n",
        "  print(i, end='   ')"
      ],
      "outputs": [
        {
          "output_type": "stream",
          "name": "stdout",
          "text": [
            "0   1   2   3   4   "
          ]
        }
      ],
      "metadata": {
        "colab": {
          "base_uri": "https://localhost:8080/"
        },
        "id": "i_LiWQqecx8V",
        "outputId": "70779a6f-1d00-4063-a82f-beb8f19517ad"
      }
    },
    {
      "cell_type": "code",
      "execution_count": null,
      "source": [],
      "outputs": [],
      "metadata": {
        "id": "u_6R3cKCdJCl"
      }
    }
  ]
}