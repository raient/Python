{
  "nbformat": 4,
  "nbformat_minor": 0,
  "metadata": {
    "colab": {
      "name": "unit15_elif.ipynb",
      "provenance": [],
      "collapsed_sections": []
    },
    "kernelspec": {
      "name": "python3",
      "display_name": "Python 3"
    },
    "language_info": {
      "name": "python"
    }
  },
  "cells": [
    {
      "cell_type": "code",
      "metadata": {
        "id": "aFNQN1d7q67u"
      },
      "source": [
        ""
      ],
      "execution_count": null,
      "outputs": []
    },
    {
      "cell_type": "code",
      "metadata": {
        "colab": {
          "base_uri": "https://localhost:8080/"
        },
        "id": "InfjIg25hv_h",
        "outputId": "fd40dedf-f401-45ca-bf62-9edf76544d43"
      },
      "source": [
        "# if, else, elif\n",
        "\n",
        "x =20 \n",
        "if x ==10:\n",
        "    print('it is 10.')\n",
        "elif x ==20:\n",
        "    print('it is 20.')\n",
        "else:\n",
        "    print('10, 20이 아닙니다.')"
      ],
      "execution_count": 3,
      "outputs": [
        {
          "output_type": "stream",
          "text": [
            "it is 20.\n"
          ],
          "name": "stdout"
        }
      ]
    },
    {
      "cell_type": "code",
      "metadata": {
        "colab": {
          "base_uri": "https://localhost:8080/"
        },
        "id": "UpXMBv0Joel-",
        "outputId": "3bdc6ed5-e90f-49b4-dcde-7f9160f569b9"
      },
      "source": [
        "# 숫자를 입력\n",
        "# 3의 배수이면 fizz 출력\n",
        "# 5의 배수이면, buzz 출력\n",
        "# 15의 배수이면, fizzbuzz 출력\n",
        "\n",
        "x = int(input('숫자 입력 >'))\n",
        "\n",
        "if (x % 15) ==0:\n",
        "    print(\"fizzbuzz\")\n",
        "elif (x % 5) ==0:\n",
        "    print(\"buzz\")\n",
        "elif (x % 3) ==0:\n",
        "    print(\"fizz\")\n",
        "else:\n",
        "    print(\"당신이 입력한 숫자 '\",x,\"'는 3, 5, 15의 배수가 아닙니다.\")"
      ],
      "execution_count": 10,
      "outputs": [
        {
          "output_type": "stream",
          "text": [
            "숫자 입력 >14\n",
            "당신이 입력한 숫자 ' 14 '는 3, 5, 15의 배수가 아닙니다.\n"
          ],
          "name": "stdout"
        }
      ]
    },
    {
      "cell_type": "code",
      "metadata": {
        "id": "SoaU1nrFqsa9"
      },
      "source": [
        "print('Fizz'*(nuber%3==0))"
      ],
      "execution_count": null,
      "outputs": []
    },
    {
      "cell_type": "markdown",
      "metadata": {
        "id": "OK8V_QW6pq-F"
      },
      "source": [
        "- 다중 이프 조건식 순서에 유의점\n",
        "1. 조건이 엄격한순(경우의수가 가장 적은 것부터)\n"
      ]
    },
    {
      "cell_type": "markdown",
      "metadata": {
        "id": "6agqEbv1qHYO"
      },
      "source": [
        ""
      ]
    }
  ]
}