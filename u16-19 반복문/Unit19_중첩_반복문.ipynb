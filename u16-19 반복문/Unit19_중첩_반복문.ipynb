{
  "nbformat": 4,
  "nbformat_minor": 0,
  "metadata": {
    "colab": {
      "name": "Unit 19  중첩 반복문.ipynb",
      "provenance": [],
      "collapsed_sections": []
    },
    "kernelspec": {
      "name": "python3",
      "display_name": "Python 3"
    },
    "language_info": {
      "name": "python"
    }
  },
  "cells": [
    {
      "cell_type": "markdown",
      "metadata": {
        "id": "AwuBKRxbbRNP"
      },
      "source": [
        "# Unit 19. 중첩 반복문\n"
      ]
    },
    {
      "cell_type": "markdown",
      "metadata": {
        "id": "1czSzmYlbg7B"
      },
      "source": [
        "## 19.1 중첩(Nested) for loop"
      ]
    },
    {
      "cell_type": "code",
      "metadata": {
        "id": "z2aRQGchbn0Q"
      },
      "source": [
        "# 앞으로 다루는 데이터는 2차원 이상의 데이터이다."
      ],
      "execution_count": 2,
      "outputs": []
    },
    {
      "cell_type": "code",
      "metadata": {
        "colab": {
          "base_uri": "https://localhost:8080/"
        },
        "id": "yakDZsHKbq1i",
        "outputId": "86f40e56-9937-4c5d-ac34-eab00292aa9e"
      },
      "source": [
        "for i in range(1, 6):\n",
        "    for k in range(10, 60, 10):\n",
        "        print(k, end=' ')\n",
        "    print(i)"
      ],
      "execution_count": 5,
      "outputs": [
        {
          "output_type": "stream",
          "text": [
            "10 20 30 40 50 1\n",
            "10 20 30 40 50 2\n",
            "10 20 30 40 50 3\n",
            "10 20 30 40 50 4\n",
            "10 20 30 40 50 5\n"
          ],
          "name": "stdout"
        }
      ]
    },
    {
      "cell_type": "markdown",
      "metadata": {
        "id": "ThPwReQecVuB"
      },
      "source": [
        "## 19.2  별 사각형"
      ]
    },
    {
      "cell_type": "code",
      "metadata": {
        "colab": {
          "base_uri": "https://localhost:8080/"
        },
        "id": "ZNYV4mjRczuA",
        "outputId": "2c9f9b2b-075d-4d9c-84b9-ff9e458bfebe"
      },
      "source": [
        "for i in range(5):\n",
        "    for _ in range(5):\n",
        "        print('*', end= '' )\n",
        "    print()\n",
        "\n"
      ],
      "execution_count": 6,
      "outputs": [
        {
          "output_type": "stream",
          "text": [
            "*****\n",
            "*****\n",
            "*****\n",
            "*****\n",
            "*****\n"
          ],
          "name": "stdout"
        }
      ]
    },
    {
      "cell_type": "markdown",
      "metadata": {
        "id": "sNHdHCMtdwvv"
      },
      "source": [
        "- 평행 사변형"
      ]
    },
    {
      "cell_type": "code",
      "metadata": {
        "colab": {
          "base_uri": "https://localhost:8080/"
        },
        "id": "Ij3bsXqudBKo",
        "outputId": "c04dc723-fd16-4bfe-b799-06b0c6936fc3"
      },
      "source": [
        "# 평행 사변형\n",
        "for i in range(4): # 공백을 위한 반복\n",
        "    for _ in range(0,i):\n",
        "        print(' ', end = '')\n",
        "    for _ in range(5):\n",
        "        print('*', end= '')\n",
        "    print()"
      ],
      "execution_count": 9,
      "outputs": [
        {
          "output_type": "stream",
          "text": [
            "*****\n",
            " *****\n",
            "  *****\n",
            "   *****\n"
          ],
          "name": "stdout"
        }
      ]
    },
    {
      "cell_type": "code",
      "metadata": {
        "colab": {
          "base_uri": "https://localhost:8080/"
        },
        "id": "19LIgE1Zd2CZ",
        "outputId": "e9271e0d-d207-4fae-92fa-47472bb4822a"
      },
      "source": [
        "for i in range(4):\n",
        "    print(' '*i, '*'*5, sep ='')"
      ],
      "execution_count": 11,
      "outputs": [
        {
          "output_type": "stream",
          "text": [
            "*****\n",
            " *****\n",
            "  *****\n",
            "   *****\n"
          ],
          "name": "stdout"
        }
      ]
    },
    {
      "cell_type": "markdown",
      "metadata": {
        "id": "jisFDEVFe-V3"
      },
      "source": [
        "## 19.3 계단식 별 모양"
      ]
    },
    {
      "cell_type": "code",
      "metadata": {
        "colab": {
          "base_uri": "https://localhost:8080/"
        },
        "id": "ri7TkIrUfSmY",
        "outputId": "e0582708-6819-4388-f33b-cb6963f944fb"
      },
      "source": [
        "for i in range(5):\n",
        "    for _ in range(0, i+1):\n",
        "        print('*', end = '')\n",
        "    print()"
      ],
      "execution_count": 12,
      "outputs": [
        {
          "output_type": "stream",
          "text": [
            "*\n",
            "**\n",
            "***\n",
            "****\n",
            "*****\n"
          ],
          "name": "stdout"
        }
      ]
    },
    {
      "cell_type": "code",
      "metadata": {
        "colab": {
          "base_uri": "https://localhost:8080/"
        },
        "id": "9Ub6ie-Bg8hF",
        "outputId": "540984ab-6c36-44c6-c5d0-b1652bd66810"
      },
      "source": [
        "for i in range(1,6):\n",
        "    print('*' * i)"
      ],
      "execution_count": 18,
      "outputs": [
        {
          "output_type": "stream",
          "text": [
            "*\n",
            "**\n",
            "***\n",
            "****\n",
            "*****\n"
          ],
          "name": "stdout"
        }
      ]
    },
    {
      "cell_type": "code",
      "metadata": {
        "colab": {
          "base_uri": "https://localhost:8080/"
        },
        "id": "WWCl8-gDf1JO",
        "outputId": "35b851ce-0c7a-47f0-d2e9-729718826bda"
      },
      "source": [
        "for i in range(5):\n",
        "    for _ in range(i):\n",
        "        print(' ', end = '')\n",
        "    for _ in range(5-i):\n",
        "        print('*', end ='')\n",
        "    print()"
      ],
      "execution_count": 15,
      "outputs": [
        {
          "output_type": "stream",
          "text": [
            "*****\n",
            " ****\n",
            "  ***\n",
            "   **\n",
            "    *\n"
          ],
          "name": "stdout"
        }
      ]
    },
    {
      "cell_type": "code",
      "metadata": {
        "colab": {
          "base_uri": "https://localhost:8080/"
        },
        "id": "ne8hui1ngdtf",
        "outputId": "37b12b63-8f3e-4240-d243-45fa6ad6f245"
      },
      "source": [
        "for i in range(5):\n",
        "    print(' '*i, '*'*(5-i), sep = '')"
      ],
      "execution_count": 19,
      "outputs": [
        {
          "output_type": "stream",
          "text": [
            "*****\n",
            " ****\n",
            "  ***\n",
            "   **\n",
            "    *\n"
          ],
          "name": "stdout"
        }
      ]
    },
    {
      "cell_type": "markdown",
      "metadata": {
        "id": "71Mq4eyWkEgU"
      },
      "source": [
        "- 다잉아몬드 그리기\n"
      ]
    },
    {
      "cell_type": "code",
      "metadata": {
        "colab": {
          "base_uri": "https://localhost:8080/"
        },
        "id": "IkKLSZnNkKEv",
        "outputId": "cf253e18-b840-4ce0-c126-e92647a5cb1c"
      },
      "source": [
        "for i in range(6):\n",
        "    for _ in range(5-i):\n",
        "        print(' ', end='')\n",
        "    for _ in range(2*i-1):\n",
        "        print('*', end ='')\n",
        "    print()\n",
        "\n",
        "for i in range(4):\n",
        "    for _ in range(i+1):\n",
        "        print(' ', end='')\n",
        "    for _ in range(7-2*i):\n",
        "        print('*', end ='')\n",
        "    print()\n"
      ],
      "execution_count": 34,
      "outputs": [
        {
          "output_type": "stream",
          "text": [
            "     \n",
            "    *\n",
            "   ***\n",
            "  *****\n",
            " *******\n",
            "*********\n",
            " *******\n",
            "  *****\n",
            "   ***\n",
            "    *\n"
          ],
          "name": "stdout"
        }
      ]
    },
    {
      "cell_type": "code",
      "metadata": {
        "id": "g-SwEj6OhVMO"
      },
      "source": [
        "# 김재용\n",
        "# i 행 반복\n",
        "# j 별 반복\n",
        "# k 공백 반복\n",
        "\n",
        "for i in range(1,10):\n",
        "    for k in range ()\n",
        "    print(' '*abs(5-i)), '*' * i, ' '*abs(5-i))\n",
        "    "
      ],
      "execution_count": null,
      "outputs": []
    }
  ]
}