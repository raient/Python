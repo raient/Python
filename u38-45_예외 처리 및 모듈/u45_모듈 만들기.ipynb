{
 "cells": [
  {
   "cell_type": "markdown",
   "source": [
    "# 모듈 만들기\r\n"
   ],
   "metadata": {}
  },
  {
   "cell_type": "code",
   "execution_count": 7,
   "source": [
    "import u45_square2 as sq\r\n",
    "print(sq.base)\r\n",
    "print(sq.square(10))"
   ],
   "outputs": [
    {
     "output_type": "stream",
     "name": "stdout",
     "text": [
      "2\n",
      "1024\n"
     ]
    }
   ],
   "metadata": {}
  },
  {
   "cell_type": "code",
   "execution_count": 4,
   "source": [
    "##  클래스\r\n",
    "from u45_person import Person\r\n",
    "\r\n",
    "maria = Person('마리아', 25, '서울시 강남구 도곡동')\r\n",
    "\r\n",
    "maria.greeting()\r\n"
   ],
   "outputs": [
    {
     "output_type": "stream",
     "name": "stdout",
     "text": [
      "안녕하세요. 저는 마리아입니다.\n"
     ]
    }
   ],
   "metadata": {}
  },
  {
   "cell_type": "code",
   "execution_count": 8,
   "source": [
    "# from '디렉토리'.'파일이름' import '클래스'\r\n",
    "\r\n",
    "\r\n",
    "from bank.u45_util import Account"
   ],
   "outputs": [],
   "metadata": {}
  },
  {
   "cell_type": "code",
   "execution_count": 9,
   "source": [
    "acc = Account('123456', 'james', 1000000) \r\n",
    "acc2 = Account('123456', 'james2', 1000000) \r\n",
    "\r\n",
    "print(acc)\r\n",
    "print(acc2)"
   ],
   "outputs": [
    {
     "output_type": "stream",
     "name": "stdout",
     "text": [
      "ano: 123456, owner: james, balance 1,000,000\n",
      "ano: 123456, owner: james2, balance 1,000,000\n"
     ]
    }
   ],
   "metadata": {}
  },
  {
   "cell_type": "code",
   "execution_count": 1,
   "source": [
    "#test"
   ],
   "outputs": [],
   "metadata": {}
  },
  {
   "cell_type": "code",
   "execution_count": null,
   "source": [],
   "outputs": [],
   "metadata": {}
  }
 ],
 "metadata": {
  "orig_nbformat": 4,
  "language_info": {
   "name": "python",
   "version": "3.8.10",
   "mimetype": "text/x-python",
   "codemirror_mode": {
    "name": "ipython",
    "version": 3
   },
   "pygments_lexer": "ipython3",
   "nbconvert_exporter": "python",
   "file_extension": ".py"
  },
  "kernelspec": {
   "name": "python3",
   "display_name": "Python 3.8.10 64-bit ('base': conda)"
  },
  "interpreter": {
   "hash": "6d46af94c2bbce495f1e668725902fa517c90b1782bcfe2fce0dd9868df553d3"
  }
 },
 "nbformat": 4,
 "nbformat_minor": 2
}