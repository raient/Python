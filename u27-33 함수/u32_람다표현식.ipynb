{
 "cells": [
  {
   "cell_type": "markdown",
   "source": [
    "# Unit 32. 람다 함수"
   ],
   "metadata": {}
  },
  {
   "cell_type": "markdown",
   "source": [
    "- 람다 표현식은 익명으로 변수 및 함수 이름을 만든다."
   ],
   "metadata": {}
  },
  {
   "cell_type": "code",
   "execution_count": 1,
   "source": [
    "def plus_ten(x):\r\n",
    "    return x+10"
   ],
   "outputs": [],
   "metadata": {}
  },
  {
   "cell_type": "code",
   "execution_count": 3,
   "source": [
    "plus_ten(5)"
   ],
   "outputs": [
    {
     "output_type": "execute_result",
     "data": {
      "text/plain": [
       "15"
      ]
     },
     "metadata": {},
     "execution_count": 3
    }
   ],
   "metadata": {}
  },
  {
   "cell_type": "code",
   "execution_count": 10,
   "source": [
    "plus_ten2 = lambda x: x+10\r\n",
    "#간단하지만 반드시 필요한 함수에 사용\r\n",
    "# 주로 1회성 변수 및 함수에 사용된다.\r\n",
    "plus_ten2(5)"
   ],
   "outputs": [
    {
     "output_type": "execute_result",
     "data": {
      "text/plain": [
       "15"
      ]
     },
     "metadata": {},
     "execution_count": 10
    }
   ],
   "metadata": {}
  },
  {
   "cell_type": "code",
   "execution_count": 6,
   "source": [
    "(lambda x: x +10)(5)\r\n"
   ],
   "outputs": [
    {
     "output_type": "execute_result",
     "data": {
      "text/plain": [
       "15"
      ]
     },
     "metadata": {},
     "execution_count": 6
    }
   ],
   "metadata": {}
  },
  {
   "cell_type": "code",
   "execution_count": 7,
   "source": [
    "list(map(lambda x: int(x)+1, input().split()))"
   ],
   "outputs": [
    {
     "output_type": "execute_result",
     "data": {
      "text/plain": [
       "[3, 6, 11]"
      ]
     },
     "metadata": {},
     "execution_count": 7
    }
   ],
   "metadata": {}
  },
  {
   "cell_type": "code",
   "execution_count": 9,
   "source": [
    "def plus_ten(x):\r\n",
    "    return int(x)+10\r\n",
    "list(map(plus_ten, input().split()))"
   ],
   "outputs": [
    {
     "output_type": "execute_result",
     "data": {
      "text/plain": [
       "[12, 15, 20]"
      ]
     },
     "metadata": {},
     "execution_count": 9
    }
   ],
   "metadata": {}
  },
  {
   "cell_type": "markdown",
   "source": [
    "### 제약 사항"
   ],
   "metadata": {}
  },
  {
   "cell_type": "code",
   "execution_count": 11,
   "source": [
    "# 람다함수에서 변수를 만들 수 없음\r\n",
    "(lambda x: y=10; x+y)(3)"
   ],
   "outputs": [
    {
     "output_type": "error",
     "ename": "SyntaxError",
     "evalue": "invalid syntax (<ipython-input-11-dc13aecefe14>, line 2)",
     "traceback": [
      "\u001b[1;36m  File \u001b[1;32m\"<ipython-input-11-dc13aecefe14>\"\u001b[1;36m, line \u001b[1;32m2\u001b[0m\n\u001b[1;33m    (lambda x: y=10; x+y)(3)\u001b[0m\n\u001b[1;37m                ^\u001b[0m\n\u001b[1;31mSyntaxError\u001b[0m\u001b[1;31m:\u001b[0m invalid syntax\n"
     ]
    }
   ],
   "metadata": {}
  },
  {
   "cell_type": "code",
   "execution_count": 12,
   "source": [
    "y =10\r\n",
    "(lambda x: x+y)(3)"
   ],
   "outputs": [
    {
     "output_type": "execute_result",
     "data": {
      "text/plain": [
       "13"
      ]
     },
     "metadata": {},
     "execution_count": 12
    }
   ],
   "metadata": {}
  },
  {
   "cell_type": "code",
   "execution_count": 14,
   "source": [
    "# a = 3; b = 5; c = a+5;"
   ],
   "outputs": [],
   "metadata": {}
  },
  {
   "cell_type": "markdown",
   "source": [
    "### 조건부 함수\r\n"
   ],
   "metadata": {}
  },
  {
   "cell_type": "code",
   "execution_count": 16,
   "source": [
    "# 3의 배수를 문자열로 반환\r\n",
    "a = list(range(1,11))\r\n",
    "list(map(lambda x: str(x) if x%3==0 else x, a)) #3항 연산자\r\n",
    "#print(list)"
   ],
   "outputs": [
    {
     "output_type": "execute_result",
     "data": {
      "text/plain": [
       "[1, 2, '3', 4, 5, '6', 7, 8, '9', 10]"
      ]
     },
     "metadata": {},
     "execution_count": 16
    }
   ],
   "metadata": {}
  },
  {
   "cell_type": "code",
   "execution_count": 18,
   "source": [
    "# 리스트 a에서 3의 배수는 문자열로, 5의 배수는 실수로 반환\r\n",
    "# 람다에서 if 를 사용하면 else도 사용해야 한다. -> 3항연산자만 사용 할 수 있다.\r\n",
    "\r\n",
    "list(map(lambda x: str(x) if x%3==0 else float(x) if x%5==0 else x, a))"
   ],
   "outputs": [
    {
     "output_type": "execute_result",
     "data": {
      "text/plain": [
       "[1, 2, '3', 4, 5.0, '6', 7, 8, '9', 10.0]"
      ]
     },
     "metadata": {},
     "execution_count": 18
    }
   ],
   "metadata": {}
  },
  {
   "cell_type": "markdown",
   "source": [
    "### 별로 복잡하지 않은 조건인데도 알아보기가 힘듭니다. 이런 경우에는 억지로 람다 표현식을 사용하기 보다는 그냥 def로 함수를 만들고 if, elif, else를 사용하는 것을 권장합니다."
   ],
   "metadata": {}
  },
  {
   "cell_type": "markdown",
   "source": [
    "## map에 여러개의 객체 넣기"
   ],
   "metadata": {}
  },
  {
   "cell_type": "code",
   "execution_count": 19,
   "source": [
    "a = [1,2,3,4,5]\r\n",
    "b = [6,7,8,9,10]\r\n",
    "\r\n",
    "list(map(lambda x, y: x*y, a, b))"
   ],
   "outputs": [
    {
     "output_type": "execute_result",
     "data": {
      "text/plain": [
       "[6, 14, 24, 36, 50]"
      ]
     },
     "metadata": {},
     "execution_count": 19
    }
   ],
   "metadata": {}
  },
  {
   "cell_type": "markdown",
   "source": [
    "## filter"
   ],
   "metadata": {}
  },
  {
   "cell_type": "code",
   "execution_count": 20,
   "source": [
    "a =list(range(1, 11))\r\n",
    "list(filter(lambda x: 4 <= x <8, a))"
   ],
   "outputs": [
    {
     "output_type": "execute_result",
     "data": {
      "text/plain": [
       "[4, 5, 6, 7]"
      ]
     },
     "metadata": {},
     "execution_count": 20
    }
   ],
   "metadata": {}
  },
  {
   "cell_type": "markdown",
   "source": [
    "### "
   ],
   "metadata": {}
  }
 ],
 "metadata": {
  "orig_nbformat": 4,
  "language_info": {
   "name": "python",
   "version": "3.8.10",
   "mimetype": "text/x-python",
   "codemirror_mode": {
    "name": "ipython",
    "version": 3
   },
   "pygments_lexer": "ipython3",
   "nbconvert_exporter": "python",
   "file_extension": ".py"
  },
  "kernelspec": {
   "name": "python3",
   "display_name": "Python 3.8.10 64-bit ('base': conda)"
  },
  "interpreter": {
   "hash": "6d46af94c2bbce495f1e668725902fa517c90b1782bcfe2fce0dd9868df553d3"
  }
 },
 "nbformat": 4,
 "nbformat_minor": 2
}