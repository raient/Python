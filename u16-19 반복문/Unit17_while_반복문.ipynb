{
  "nbformat": 4,
  "nbformat_minor": 0,
  "metadata": {
    "colab": {
      "name": "Unit17_while 반복문.ipynb",
      "provenance": [],
      "collapsed_sections": []
    },
    "kernelspec": {
      "name": "python3",
      "display_name": "Python 3"
    },
    "language_info": {
      "name": "python"
    }
  },
  "cells": [
    {
      "cell_type": "markdown",
      "metadata": {
        "id": "k6Em7DpIA2XP"
      },
      "source": [
        "# Unit 17. while 반복문"
      ]
    },
    {
      "cell_type": "markdown",
      "metadata": {
        "id": "bUPKJyjzBCsa"
      },
      "source": [
        "## 17.1 while 반복문\n",
        "- 반복 회수가 정해져 있는 반복문은 while을 사용하지 않는다."
      ]
    },
    {
      "cell_type": "code",
      "metadata": {
        "id": "4GRnkZfvBFUJ"
      },
      "source": [
        "# while True:\n",
        " #   조건이 참인 동안 loop를 반복"
      ],
      "execution_count": 3,
      "outputs": []
    },
    {
      "cell_type": "code",
      "metadata": {
        "colab": {
          "base_uri": "https://localhost:8080/"
        },
        "id": "xAH2-zmzBHjI",
        "outputId": "804d3666-aa6a-4c78-891f-d72ccfab4a5d"
      },
      "source": [
        "import random\n",
        "random.random()\n"
      ],
      "execution_count": 4,
      "outputs": [
        {
          "output_type": "execute_result",
          "data": {
            "text/plain": [
              "0.12298514294249241"
            ]
          },
          "metadata": {
            "tags": []
          },
          "execution_count": 4
        }
      ]
    },
    {
      "cell_type": "code",
      "metadata": {
        "colab": {
          "base_uri": "https://localhost:8080/"
        },
        "id": "e78Bw_4DCmuY",
        "outputId": "bd27198e-b51d-4815-d254-ce8ca77a6de5"
      },
      "source": [
        "import random\n",
        "random.randint(1,6)\n",
        "# randint 함수는 끝 숫자를 계산에 포함한다"
      ],
      "execution_count": 12,
      "outputs": [
        {
          "output_type": "execute_result",
          "data": {
            "text/plain": [
              "1"
            ]
          },
          "metadata": {
            "tags": []
          },
          "execution_count": 12
        }
      ]
    },
    {
      "cell_type": "code",
      "metadata": {
        "colab": {
          "base_uri": "https://localhost:8080/"
        },
        "id": "iPOFEEANCWxI",
        "outputId": "af417c11-1008-40b7-ddcc-0fe252b81b6c"
      },
      "source": [
        "i = 0\n",
        "while i !=3:\n",
        "    i =random.randint(1,6)\n",
        "    print(i)"
      ],
      "execution_count": 13,
      "outputs": [
        {
          "output_type": "stream",
          "text": [
            "4\n",
            "6\n",
            "6\n",
            "5\n",
            "6\n",
            "4\n",
            "6\n",
            "5\n",
            "2\n",
            "5\n",
            "1\n",
            "5\n",
            "1\n",
            "1\n",
            "4\n",
            "3\n"
          ],
          "name": "stdout"
        }
      ]
    },
    {
      "cell_type": "code",
      "metadata": {
        "colab": {
          "base_uri": "https://localhost:8080/"
        },
        "id": "0iaoDd0FDBvX",
        "outputId": "c28842bc-619f-4150-9300-6c977ed1fc78"
      },
      "source": [
        "i = 0 \n",
        "dice = [1,2,3,4,5,6]\n",
        "while i != 3:\n",
        "    i = random.choice(dice)\n",
        "    print(i)"
      ],
      "execution_count": 14,
      "outputs": [
        {
          "output_type": "stream",
          "text": [
            "1\n",
            "3\n"
          ],
          "name": "stdout"
        }
      ]
    },
    {
      "cell_type": "code",
      "metadata": {
        "colab": {
          "base_uri": "https://localhost:8080/"
        },
        "id": "RfzJ_yhfDm4P",
        "outputId": "e779aa86-b196-41ea-fe3f-7e8073609690"
      },
      "source": [
        "random.sample(dice, 6)"
      ],
      "execution_count": 15,
      "outputs": [
        {
          "output_type": "execute_result",
          "data": {
            "text/plain": [
              "[5, 4, 2, 6, 3, 1]"
            ]
          },
          "metadata": {
            "tags": []
          },
          "execution_count": 15
        }
      ]
    },
    {
      "cell_type": "code",
      "metadata": {
        "id": "pVTYrrCLER_f"
      },
      "source": [
        ""
      ],
      "execution_count": null,
      "outputs": []
    }
  ]
}