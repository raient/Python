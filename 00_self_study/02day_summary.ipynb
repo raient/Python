{
  "nbformat": 4,
  "nbformat_minor": 0,
  "metadata": {
    "colab": {
      "name": "02day_summary.ipynb",
      "provenance": [],
      "collapsed_sections": [],
      "toc_visible": true
    },
    "kernelspec": {
      "name": "python3",
      "display_name": "Python 3"
    },
    "language_info": {
      "name": "python"
    }
  },
  "cells": [
    {
      "cell_type": "markdown",
      "metadata": {
        "id": "-jIWbn9_DfNv"
      },
      "source": [
        "#  빅데이터 개요"
      ]
    },
    {
      "cell_type": "markdown",
      "metadata": {
        "id": "u0gxxxhiEY7V"
      },
      "source": [
        "## 빅데이터의 정의\n",
        "- 데이터를 기반으로 예측 하고 과학적으로 의사를 결정하는 분야"
      ]
    },
    {
      "cell_type": "markdown",
      "metadata": {
        "id": "3CcbWQ36EiXw"
      },
      "source": [
        "## 문제 해결을 위한 과학적 사고"
      ]
    },
    {
      "cell_type": "markdown",
      "metadata": {
        "id": "_29ZZtJXEzzG"
      },
      "source": [
        "- 문제해결을 위한 과학적 사고\n",
        " <br>복잡한 문제를 작은 문제로 분해하여 해결하고 종합하여 큰문제를 해결"
      ]
    },
    {
      "cell_type": "markdown",
      "metadata": {
        "id": "mEjI3c-6FF3_"
      },
      "source": [
        "- 컴퓨테이셔널 씽킹<br>\n",
        "  : 현실 세계의 문제를 분석하여 해결책을 찾는 과학적 사고법\n",
        "\n",
        "- 컴퓨터 프로그래밍<br>\n",
        "  : 컴퓨테이셔널 씽킹을 찾은 해결책을 컴퓨터의 명령어로 작성하는 것\n",
        "\n",
        "- 과정\n",
        "  : 작은 문제로 분해 -> 패턴 파악 -> 사용할 데이터 결정 => 일반화 및 모델링"
      ]
    },
    {
      "cell_type": "markdown",
      "metadata": {
        "id": "XtDuU9MbFiUG"
      },
      "source": [
        "## 알고리즘과 코딩"
      ]
    },
    {
      "cell_type": "markdown",
      "metadata": {
        "id": "eUyrqODNGcr1"
      },
      "source": [
        "- 알고리즘\n",
        ": 문제에서 일정한 패턴 발견 및 패턴을 토대로 문제를 해결하는 절차\n",
        "- 코딩\n",
        ": 알고리즘을 코드로 표현하는 작업"
      ]
    },
    {
      "cell_type": "code",
      "metadata": {
        "id": "tacr1ZiGGvWl"
      },
      "source": [
        ""
      ],
      "execution_count": null,
      "outputs": []
    },
    {
      "cell_type": "code",
      "metadata": {
        "id": "5TtFeEhHIp0c"
      },
      "source": [
        ""
      ],
      "execution_count": null,
      "outputs": []
    },
    {
      "cell_type": "markdown",
      "metadata": {
        "id": "OwIxdTapIrHP"
      },
      "source": [
        "# Unit04_파이썬 기본문법"
      ]
    },
    {
      "cell_type": "markdown",
      "metadata": {
        "id": "1KQqA8iSIxKc"
      },
      "source": [
        "- 4.1 세미콜론\n",
        "<br> 사용하지 않음"
      ]
    },
    {
      "cell_type": "markdown",
      "metadata": {
        "id": "Jbpa9enzJGy9"
      },
      "source": [
        "- 4.2 주석\n",
        "<br> # 한줄주석\n",
        "<br> ''' 블록주석1\n",
        "<br>     블록주석 2 '''"
      ]
    },
    {
      "cell_type": "markdown",
      "metadata": {
        "id": "yCuhUz0nJjPV"
      },
      "source": [
        "- 4.3 들여쓰기()\n",
        "<br> 파이썬은 들여쓰기가 문법\n",
        "<br> 공백 2칸, 공백 4칸, 탭 등 여러가지 방법"
      ]
    },
    {
      "cell_type": "markdown",
      "metadata": {
        "id": "TBhB7bfQJlWl"
      },
      "source": [
        "- 4.4 코드 블록\n",
        "<br>특정한 동작을 위해서 코드가 모여 있는 상태\n",
        "<br>같은 블록은 동일한 들여쓰기 수준을 유지"
      ]
    },
    {
      "cell_type": "code",
      "metadata": {
        "id": "irN8xGDHJmtd"
      },
      "source": [
        ""
      ],
      "execution_count": null,
      "outputs": []
    },
    {
      "cell_type": "markdown",
      "metadata": {
        "id": "-w4nkrjLK9JF"
      },
      "source": [
        "# Unit05_숫자 계산하기"
      ]
    },
    {
      "cell_type": "markdown",
      "metadata": {
        "id": "zjpheczqMKiN"
      },
      "source": [
        "## 5.1 정수"
      ]
    },
    {
      "cell_type": "markdown",
      "metadata": {
        "id": "5arNwJEILC3M"
      },
      "source": [
        "- 사칙연산"
      ]
    },
    {
      "cell_type": "markdown",
      "metadata": {
        "id": "UI83hqi3LXBs"
      },
      "source": [
        "- 몫( // ), 나머지 연산( % )"
      ]
    },
    {
      "cell_type": "markdown",
      "metadata": {
        "id": "oi9zHyXSLaf2"
      },
      "source": [
        "- 거듭제곱 연산( ** )"
      ]
    },
    {
      "cell_type": "markdown",
      "metadata": {
        "id": "Hpk8b0n9Ln0c"
      },
      "source": [
        "- 정수 형변환 int()\n"
      ]
    },
    {
      "cell_type": "markdown",
      "metadata": {
        "id": "YrPLmiEMLwjb"
      },
      "source": [
        "- 자료형 type(값)"
      ]
    },
    {
      "cell_type": "markdown",
      "metadata": {
        "id": "kIqtEoMJMOuW"
      },
      "source": [
        "## 5.2 실수#"
      ]
    },
    {
      "cell_type": "markdown",
      "metadata": {
        "id": "Q82QUvDkMbxF"
      },
      "source": [
        ""
      ]
    },
    {
      "cell_type": "markdown",
      "metadata": {
        "id": "K2RttG7jMArG"
      },
      "source": [
        "## 5.3 괄호\n"
      ]
    },
    {
      "cell_type": "markdown",
      "metadata": {
        "id": "wjsVAsf3Md6t"
      },
      "source": [
        ""
      ]
    },
    {
      "cell_type": "markdown",
      "metadata": {
        "id": "xjI0eI7BMpQj"
      },
      "source": [
        "## 5.5 연스문제: 아파트에서 소음이 가장 심한 층수 출력하기\n",
        "<br>국립환경과학원에서는 아파트에서 소음이 가장 심한 층수를 구하는 계산식을 발표했습니다. <br>소음이 가장 심한 층은 0.2467 * 도로와의 거리(m) + 4.159입니다. <br>다음 소스 코드를 완성하여 소음이 가장 심한 층수가 출력되게 만드세요. 단, 층수를 출력할 때는 소수점 이하 자리는 버립니다(정수로 출력).\n",
        "<br>  도로와의 거리 :12m\n"
      ]
    },
    {
      "cell_type": "code",
      "metadata": {
        "colab": {
          "base_uri": "https://localhost:8080/"
        },
        "id": "QksOzG05MzDS",
        "outputId": "2154ff9c-2e5d-4710-d9e2-70f78563372e"
      },
      "source": [
        "m = 12\n",
        "result = int(0.2467*m+4.159)\n",
        "\n",
        "print(result)\n",
        "\n",
        "\n",
        "\n",
        "print(int(0.2467*m+4.159))\n"
      ],
      "execution_count": 3,
      "outputs": [
        {
          "output_type": "stream",
          "text": [
            "7\n",
            "7\n"
          ],
          "name": "stdout"
        }
      ]
    },
    {
      "cell_type": "markdown",
      "metadata": {
        "id": "cQFA3DymN0C6"
      },
      "source": [
        "## 5.6 심사문제: 스킬 공격력 출력하기\n",
        "<br>L이라는 게임에서 \"왜곡\"이라는 스킬이 AP * 0.6 + 225의 피해를 입힙니다. 참고로 이 게임에서 AP(Ability Power, 주문력)는 마법 능력치를 뜻합니다. 다음 소스 코드를 완성하여 스킬의 피해량이 출력되게 만드세요.\n",
        "\n",
        "AP: 102"
      ]
    },
    {
      "cell_type": "code",
      "metadata": {
        "colab": {
          "base_uri": "https://localhost:8080/"
        },
        "id": "2KdSw1cmOZg0",
        "outputId": "274556c4-cc6c-446c-98b5-4bdb19010ea5"
      },
      "source": [
        "print(102*0.6+225)"
      ],
      "execution_count": 4,
      "outputs": [
        {
          "output_type": "stream",
          "text": [
            "286.2\n"
          ],
          "name": "stdout"
        }
      ]
    },
    {
      "cell_type": "markdown",
      "metadata": {
        "id": "iKx7E9iBOu3c"
      },
      "source": [
        "# Unit06_변수와 입력 사용하기"
      ]
    },
    {
      "cell_type": "markdown",
      "metadata": {
        "id": "DqQQJF6cQ3vU"
      },
      "source": [
        "## 6.1  변수 만들기"
      ]
    },
    {
      "cell_type": "markdown",
      "metadata": {
        "id": "f9ehWmQqQ9Lz"
      },
      "source": [
        "## 6.2  변수로 계산하기"
      ]
    },
    {
      "cell_type": "markdown",
      "metadata": {
        "id": "pHNgElFDRBXc"
      },
      "source": [
        "## 6.3  입력 값을 변수에 저장하기"
      ]
    },
    {
      "cell_type": "markdown",
      "metadata": {
        "id": "ZlWdWfptRFet"
      },
      "source": [
        "## 6.4 입력 값을 변수 두개에 저장하기"
      ]
    },
    {
      "cell_type": "markdown",
      "metadata": {
        "id": "EJ9nPLLZROx0"
      },
      "source": [
        ""
      ]
    }
  ]
}