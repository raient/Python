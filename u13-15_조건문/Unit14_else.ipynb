{
  "nbformat": 4,
  "nbformat_minor": 0,
  "metadata": {
    "colab": {
      "name": "Unit14_else.ipynb",
      "provenance": [],
      "collapsed_sections": []
    },
    "kernelspec": {
      "name": "python3",
      "display_name": "Python 3"
    },
    "language_info": {
      "name": "python"
    }
  },
  "cells": [
    {
      "cell_type": "markdown",
      "metadata": {
        "id": "1k8JnsSel4PZ"
      },
      "source": [
        "#Unit 14. else\n"
      ]
    },
    {
      "cell_type": "code",
      "metadata": {
        "colab": {
          "base_uri": "https://localhost:8080/"
        },
        "id": "i5Y_LufNl_TW",
        "outputId": "8117ffe4-de26-4a77-861c-b26351ecc698"
      },
      "source": [
        "x = 5\n",
        "if x ==10:\n",
        "    print('it is 10.')\n",
        "else:\n",
        "    print('it is not 10')\n"
      ],
      "execution_count": 4,
      "outputs": [
        {
          "output_type": "stream",
          "text": [
            "it is not 10\n"
          ],
          "name": "stdout"
        }
      ]
    },
    {
      "cell_type": "markdown",
      "metadata": {
        "id": "tVEd9igAmqS-"
      },
      "source": [
        "### 3항 연산자\n",
        "- java, js: a = (조건) ? 참일때의 값: 거짓일때의 값<br>\n",
        "- 파이썬 a = 참일때의 값 if 조건 else 거짓일때의 값"
      ]
    },
    {
      "cell_type": "code",
      "metadata": {
        "colab": {
          "base_uri": "https://localhost:8080/",
          "height": 36
        },
        "id": "HvrXZ62Rm4A4",
        "outputId": "40212747-039d-42b0-c8e3-79e4a87aa76e"
      },
      "source": [
        "x =1\n",
        "if x % 2 == 0:\n",
        "    y ='even'\n",
        "else:\n",
        "    y = 'odd'\n",
        "y"
      ],
      "execution_count": 7,
      "outputs": [
        {
          "output_type": "execute_result",
          "data": {
            "application/vnd.google.colaboratory.intrinsic+json": {
              "type": "string"
            },
            "text/plain": [
              "'odd'"
            ]
          },
          "metadata": {
            "tags": []
          },
          "execution_count": 7
        }
      ]
    },
    {
      "cell_type": "code",
      "metadata": {
        "colab": {
          "base_uri": "https://localhost:8080/",
          "height": 36
        },
        "id": "6SrhB4Crm_rV",
        "outputId": "7982e5c7-c2de-4aca-99c3-64ab056d3d7b"
      },
      "source": [
        "y = 'even' if x%2 == 0 else 'odd'\n",
        "y"
      ],
      "execution_count": 12,
      "outputs": [
        {
          "output_type": "execute_result",
          "data": {
            "application/vnd.google.colaboratory.intrinsic+json": {
              "type": "string"
            },
            "text/plain": [
              "'odd'"
            ]
          },
          "metadata": {
            "tags": []
          },
          "execution_count": 12
        }
      ]
    },
    {
      "cell_type": "code",
      "metadata": {
        "id": "SM0QUK_9nvcF"
      },
      "source": [
        "# 90점 이상이면 'A', 80에서 89  사이면 'B', 70에서 79이면 C\n",
        "# \n",
        " "
      ],
      "execution_count": 13,
      "outputs": []
    },
    {
      "cell_type": "code",
      "metadata": {
        "colab": {
          "base_uri": "https://localhost:8080/"
        },
        "id": "UyplyCJsnwud",
        "outputId": "31d67ec5-7020-4e5e-aafc-8b205c7516b7"
      },
      "source": [
        "score = int(input('점수 입력 >'))\n",
        "\n",
        "if score>= 90:\n",
        "    print('A')\n",
        "else:\n",
        "        if score>= 80:\n",
        "            print('B')\n",
        "        else:\n",
        "            if score>= 70:\n",
        "                print('C')\n",
        "            else:\n",
        "                if score>= 60:\n",
        "                    print('D')\n",
        "                else:\n",
        "                    print('F')"
      ],
      "execution_count": 18,
      "outputs": [
        {
          "output_type": "stream",
          "text": [
            "점수 입력 >1\n",
            "F\n"
          ],
          "name": "stdout"
        }
      ]
    },
    {
      "cell_type": "code",
      "metadata": {
        "colab": {
          "base_uri": "https://localhost:8080/",
          "height": 36
        },
        "id": "LfKKpGGSnw3e",
        "outputId": "b7e9d0c7-9c31-468b-879c-b0712730ebc4"
      },
      "source": [
        "# \\는 다음문장을 연결 시켜주는 역할\n",
        "grade = 'A' if score >= 90 else \\\n",
        "            'B' if score >= 80 else \\\n",
        "                'C' if score >= 70 else \\\n",
        "                    'D' if score >= 60 else 'F'\n",
        "grade"
      ],
      "execution_count": 26,
      "outputs": [
        {
          "output_type": "execute_result",
          "data": {
            "application/vnd.google.colaboratory.intrinsic+json": {
              "type": "string"
            },
            "text/plain": [
              "'F'"
            ]
          },
          "metadata": {
            "tags": []
          },
          "execution_count": 26
        }
      ]
    },
    {
      "cell_type": "code",
      "metadata": {
        "colab": {
          "base_uri": "https://localhost:8080/"
        },
        "id": "48pvmAOeuq6S",
        "outputId": "92e904b0-8f9f-49c7-962c-8f018a14134e"
      },
      "source": [
        "# 타 랭귀지 문법 \n",
        "x = 5\n",
        "if x > 0 and x<10:\n",
        "    print('10보다 작은 양의 정수입니다.')\n"
      ],
      "execution_count": 29,
      "outputs": [
        {
          "output_type": "stream",
          "text": [
            "10보다 작은 양의 정수입니다.\n"
          ],
          "name": "stdout"
        }
      ]
    },
    {
      "cell_type": "code",
      "metadata": {
        "colab": {
          "base_uri": "https://localhost:8080/"
        },
        "id": "P5iSCJzbu7L6",
        "outputId": "0acb529e-d210-4516-c2f2-42b29008e13d"
      },
      "source": [
        "# 파이썬에서 가능한 문법\n",
        "if 0 < x < 10:\n",
        "    print('10보다 작은 양의 정수입니다.')\n"
      ],
      "execution_count": 30,
      "outputs": [
        {
          "output_type": "stream",
          "text": [
            "10보다 작은 양의 정수입니다.\n"
          ],
          "name": "stdout"
        }
      ]
    },
    {
      "cell_type": "code",
      "metadata": {
        "id": "ILlhJTXSvM9J"
      },
      "source": [
        ""
      ],
      "execution_count": null,
      "outputs": []
    },
    {
      "cell_type": "code",
      "metadata": {
        "id": "ZhzDZjzEnv5t"
      },
      "source": [
        ""
      ],
      "execution_count": null,
      "outputs": []
    },
    {
      "cell_type": "code",
      "metadata": {
        "id": "VVes5MQbnRsm"
      },
      "source": [
        ""
      ],
      "execution_count": null,
      "outputs": []
    }
  ]
}