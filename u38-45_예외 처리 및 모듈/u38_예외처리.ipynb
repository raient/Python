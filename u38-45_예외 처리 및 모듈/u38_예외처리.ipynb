{
 "cells": [
  {
   "cell_type": "markdown",
   "source": [
    "# u38 예외처리 사용하기 \r\n"
   ],
   "metadata": {}
  },
  {
   "cell_type": "code",
   "execution_count": 2,
   "source": [
    "# 인덱스 에러\r\n",
    "a = [1,2,3]\r\n",
    "a[4]"
   ],
   "outputs": [
    {
     "output_type": "error",
     "ename": "IndexError",
     "evalue": "list index out of range",
     "traceback": [
      "\u001b[1;31m---------------------------------------------------------------------------\u001b[0m",
      "\u001b[1;31mIndexError\u001b[0m                                Traceback (most recent call last)",
      "\u001b[1;32m<ipython-input-2-7ce3b7d5fb9e>\u001b[0m in \u001b[0;36m<module>\u001b[1;34m\u001b[0m\n\u001b[0;32m      1\u001b[0m \u001b[1;31m# 인덱스 에러\u001b[0m\u001b[1;33m\u001b[0m\u001b[1;33m\u001b[0m\u001b[1;33m\u001b[0m\u001b[0m\n\u001b[0;32m      2\u001b[0m \u001b[0ma\u001b[0m \u001b[1;33m=\u001b[0m \u001b[1;33m[\u001b[0m\u001b[1;36m1\u001b[0m\u001b[1;33m,\u001b[0m\u001b[1;36m2\u001b[0m\u001b[1;33m,\u001b[0m\u001b[1;36m3\u001b[0m\u001b[1;33m]\u001b[0m\u001b[1;33m\u001b[0m\u001b[1;33m\u001b[0m\u001b[0m\n\u001b[1;32m----> 3\u001b[1;33m \u001b[0ma\u001b[0m\u001b[1;33m[\u001b[0m\u001b[1;36m4\u001b[0m\u001b[1;33m]\u001b[0m\u001b[1;33m\u001b[0m\u001b[1;33m\u001b[0m\u001b[0m\n\u001b[0m",
      "\u001b[1;31mIndexError\u001b[0m: list index out of range"
     ]
    }
   ],
   "metadata": {}
  },
  {
   "cell_type": "code",
   "execution_count": 7,
   "source": [
    "# 인덱스 에러\r\n",
    "try:\r\n",
    "    a = [1,2,3]\r\n",
    "    a[4]\r\n",
    "except Exception as e:\r\n",
    "    print(e)"
   ],
   "outputs": [
    {
     "output_type": "stream",
     "name": "stdout",
     "text": [
      "list index out of range\n"
     ]
    }
   ],
   "metadata": {}
  },
  {
   "cell_type": "markdown",
   "source": [
    "- 예외처리 예시\r\n",
    "<br>웹서버에서 인덱스 오류는 웹서버가 죽는다. 별거 아니 오류에 서버가 중지되는것을 막기 위해 예외처리 코드를 삽입한다."
   ],
   "metadata": {}
  },
  {
   "cell_type": "markdown",
   "source": [
    "## 38.1 try except"
   ],
   "metadata": {}
  },
  {
   "cell_type": "code",
   "execution_count": 4,
   "source": [
    "a = [1,2,3]\r\n",
    "try:\r\n",
    "    a[4] # 실행할 코드\r\n",
    "except:\r\n",
    "    print('예외 발생') # 예외 발생시 처리 할 코드"
   ],
   "outputs": [
    {
     "output_type": "stream",
     "name": "stdout",
     "text": [
      "예외 발생\n"
     ]
    }
   ],
   "metadata": {}
  },
  {
   "cell_type": "markdown",
   "source": [
    "### 특정 예외만 처리하기"
   ],
   "metadata": {}
  },
  {
   "cell_type": "code",
   "execution_count": 5,
   "source": [
    "try:\r\n",
    "    int('10d')\r\n",
    "except ZeroDivisionError:\r\n",
    "    print('0으로 나눌수 없습니다.')\r\n",
    "except IndexError:\r\n",
    "    print('Index Error 발생')\r\n",
    "except ValueError:\r\n",
    "    print('Value Error 발생')\r\n"
   ],
   "outputs": [
    {
     "output_type": "stream",
     "name": "stdout",
     "text": [
      "Value Error 발생\n"
     ]
    }
   ],
   "metadata": {}
  },
  {
   "cell_type": "markdown",
   "source": [
    "### 예외의 에러 메세지 받아오기"
   ],
   "metadata": {}
  },
  {
   "cell_type": "code",
   "execution_count": 8,
   "source": [
    "try:\r\n",
    "    int('10d')\r\n",
    "except Exception as e: # alias\r\n",
    "    print(e)           # Exception 객체의 __str__() method"
   ],
   "outputs": [
    {
     "output_type": "stream",
     "name": "stdout",
     "text": [
      "invalid literal for int() with base 10: '10d'\n"
     ]
    }
   ],
   "metadata": {}
  },
  {
   "cell_type": "markdown",
   "source": [
    "## 38.2 else-finally"
   ],
   "metadata": {}
  },
  {
   "cell_type": "code",
   "execution_count": 12,
   "source": [
    "try:\r\n",
    "    x = int(input('나눌 숫자 입력 >'))\r\n",
    "    y = 10/x\r\n",
    "except Exception as e:\r\n",
    "    print(e)\r\n",
    "else:\r\n",
    "    print(y) # 예외처리 한 에러가 발생하지 않을 떄"
   ],
   "outputs": [
    {
     "output_type": "stream",
     "name": "stdout",
     "text": [
      "invalid literal for int() with base 10: '5r'\n"
     ]
    }
   ],
   "metadata": {}
  },
  {
   "cell_type": "code",
   "execution_count": 14,
   "source": [
    "# 예외와 상관없이 항상 실행\r\n",
    "\r\n",
    "try:\r\n",
    "    x = int(input('나눌 숫자 입력 >')) # try 안의 변수는 전역변수, 바깥에서도 사용 가능\r\n",
    "    y = 10/x\r\n",
    "except Exception as e:\r\n",
    "    print(e)\r\n",
    "else:\r\n",
    "    print(y) \r\n",
    "finally:\r\n",
    "    print('코드 실행 종료')\r\n",
    "    "
   ],
   "outputs": [
    {
     "output_type": "stream",
     "name": "stdout",
     "text": [
      "2.0\n",
      "코드 실행 종료\n"
     ]
    }
   ],
   "metadata": {}
  },
  {
   "cell_type": "code",
   "execution_count": null,
   "source": [
    "with open() as file:\r\n",
    "    key =file.read() #key with 바깥에서도 사용할수 있다."
   ],
   "outputs": [],
   "metadata": {}
  },
  {
   "cell_type": "markdown",
   "source": [
    "## 38.3 예외 발생시키기"
   ],
   "metadata": {}
  },
  {
   "cell_type": "code",
   "execution_count": 15,
   "source": [
    "import random\r\n",
    "try:\r\n",
    "    x = random.randint(1,10)\r\n",
    "    print(x)\r\n",
    "    \r\n",
    "    if x % 3 !=0:\r\n",
    "        raise Exception('3의 배수가 아닙니다.')\r\n",
    "    \r\n",
    "except Exception as e:\r\n",
    "    print('예외 발생', e)"
   ],
   "outputs": [
    {
     "output_type": "stream",
     "name": "stdout",
     "text": [
      "10\n",
      "예외 발생 3의 배수가 아닙니다.\n"
     ]
    }
   ],
   "metadata": {}
  },
  {
   "cell_type": "code",
   "execution_count": 18,
   "source": [
    "def multiple11(x):\r\n",
    "    if x % 11 != 0:\r\n",
    "        raise Exception('11의 배수가 아닙니다.')\r\n",
    "    print(x)"
   ],
   "outputs": [],
   "metadata": {}
  },
  {
   "cell_type": "code",
   "execution_count": 22,
   "source": [
    "try:\r\n",
    "    multiple11(100)\r\n",
    "except Exception as e:\r\n",
    "    print('예외 발생 -', e)"
   ],
   "outputs": [
    {
     "output_type": "stream",
     "name": "stdout",
     "text": [
      "예외 발생 - 11의 배수가 아닙니다.\n"
     ]
    }
   ],
   "metadata": {}
  },
  {
   "cell_type": "code",
   "execution_count": 20,
   "source": [
    "multiple11(11)"
   ],
   "outputs": [
    {
     "output_type": "stream",
     "name": "stdout",
     "text": [
      "11\n"
     ]
    }
   ],
   "metadata": {}
  },
  {
   "cell_type": "code",
   "execution_count": null,
   "source": [],
   "outputs": [],
   "metadata": {}
  }
 ],
 "metadata": {
  "orig_nbformat": 4,
  "language_info": {
   "name": "python",
   "version": "3.8.10",
   "mimetype": "text/x-python",
   "codemirror_mode": {
    "name": "ipython",
    "version": 3
   },
   "pygments_lexer": "ipython3",
   "nbconvert_exporter": "python",
   "file_extension": ".py"
  },
  "kernelspec": {
   "name": "python3",
   "display_name": "Python 3.8.10 64-bit ('base': conda)"
  },
  "interpreter": {
   "hash": "6d46af94c2bbce495f1e668725902fa517c90b1782bcfe2fce0dd9868df553d3"
  }
 },
 "nbformat": 4,
 "nbformat_minor": 2
}