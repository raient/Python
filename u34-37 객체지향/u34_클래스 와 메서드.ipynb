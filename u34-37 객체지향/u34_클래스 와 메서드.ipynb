{
 "cells": [
  {
   "cell_type": "markdown",
   "source": [
    "## 34.1 클래스와 메소드 만들기"
   ],
   "metadata": {}
  },
  {
   "cell_type": "code",
   "execution_count": 6,
   "source": [
    "class Person: # 클래스 이름은 대문자로 시작\r\n",
    "    def greeting(self): # 함수의 첫번째 인자는 self여야 한다.\r\n",
    "        print('Hello')\r\n",
    "\r\n"
   ],
   "outputs": [],
   "metadata": {}
  },
  {
   "cell_type": "code",
   "execution_count": 7,
   "source": [
    "#  인스턴스(객체) 만들기\r\n",
    "\r\n",
    "james = Person()\r\n",
    "maria = Person()"
   ],
   "outputs": [],
   "metadata": {}
  },
  {
   "cell_type": "code",
   "execution_count": 8,
   "source": [
    "james.greeting()"
   ],
   "outputs": [
    {
     "output_type": "stream",
     "name": "stdout",
     "text": [
      "Hello\n"
     ]
    }
   ],
   "metadata": {}
  },
  {
   "cell_type": "code",
   "execution_count": 9,
   "source": [
    "maria.greeting()\r\n"
   ],
   "outputs": [
    {
     "output_type": "stream",
     "name": "stdout",
     "text": [
      "Hello\n"
     ]
    }
   ],
   "metadata": {}
  },
  {
   "cell_type": "code",
   "execution_count": 16,
   "source": [
    "Person().greeting()"
   ],
   "outputs": [
    {
     "output_type": "stream",
     "name": "stdout",
     "text": [
      "Hello\n"
     ]
    }
   ],
   "metadata": {}
  },
  {
   "cell_type": "code",
   "execution_count": 11,
   "source": [],
   "outputs": [
    {
     "output_type": "execute_result",
     "data": {
      "text/plain": [
       "int"
      ]
     },
     "metadata": {},
     "execution_count": 11
    }
   ],
   "metadata": {}
  },
  {
   "cell_type": "code",
   "execution_count": 17,
   "source": [
    "# 클래스 내의 메소드가 다른 메소드 호출\r\n",
    "\r\n",
    "class Person: \r\n",
    "    def greeting(self): \r\n",
    "        print('Hello')\r\n",
    "\r\n",
    "    def hello(self):\r\n",
    "        self.greeting()\r\n",
    "\r\n"
   ],
   "outputs": [],
   "metadata": {}
  },
  {
   "cell_type": "code",
   "execution_count": 18,
   "source": [
    "james = Person()\r\n",
    "james.hello()"
   ],
   "outputs": [
    {
     "output_type": "stream",
     "name": "stdout",
     "text": [
      "Hello\n"
     ]
    }
   ],
   "metadata": {}
  },
  {
   "cell_type": "code",
   "execution_count": 20,
   "source": [
    "isinstance(james, Person)"
   ],
   "outputs": [
    {
     "output_type": "execute_result",
     "data": {
      "text/plain": [
       "True"
      ]
     },
     "metadata": {},
     "execution_count": 20
    }
   ],
   "metadata": {}
  },
  {
   "cell_type": "code",
   "execution_count": 22,
   "source": [
    "def factorial(n):\r\n",
    "    if not isinstance(n, int) or n<0:\r\n",
    "        return None\r\n",
    "    if n == 0:\r\n",
    "        return 1\r\n",
    "    return n*factorial(n-1)\r\n",
    "    \r\n"
   ],
   "outputs": [],
   "metadata": {}
  },
  {
   "cell_type": "code",
   "execution_count": 23,
   "source": [
    "factorial(6)\r\n"
   ],
   "outputs": [
    {
     "output_type": "execute_result",
     "data": {
      "text/plain": [
       "720"
      ]
     },
     "metadata": {},
     "execution_count": 23
    }
   ],
   "metadata": {}
  },
  {
   "cell_type": "markdown",
   "source": [
    "## 34.2 속성"
   ],
   "metadata": {}
  },
  {
   "cell_type": "code",
   "execution_count": 24,
   "source": [
    "class Person:\r\n",
    "    def __init__(self):\r\n",
    "        self.hello = '안녕하세요' # hello  속성의 값은 '안녕하세요' 이다.\r\n",
    "    \r\n",
    "    def greeting(self):\r\n",
    "        print(self.hello)"
   ],
   "outputs": [],
   "metadata": {}
  },
  {
   "cell_type": "code",
   "execution_count": 25,
   "source": [
    "maria = Person()"
   ],
   "outputs": [],
   "metadata": {}
  },
  {
   "cell_type": "code",
   "execution_count": 26,
   "source": [
    "maria.greeting()"
   ],
   "outputs": [
    {
     "output_type": "stream",
     "name": "stdout",
     "text": [
      "안녕하세요\n"
     ]
    }
   ],
   "metadata": {}
  },
  {
   "cell_type": "code",
   "execution_count": 27,
   "source": [
    "maria.hello = 'How are you?'\r\n",
    "maria.greeting()"
   ],
   "outputs": [
    {
     "output_type": "stream",
     "name": "stdout",
     "text": [
      "How are you?\n"
     ]
    }
   ],
   "metadata": {}
  },
  {
   "cell_type": "code",
   "execution_count": 28,
   "source": [
    "class Person:\r\n",
    "    def __init__(self, hello):\r\n",
    "        self.hello = hello\r\n",
    "\r\n",
    "    def greeting(self):\r\n",
    "        print(self.hello)"
   ],
   "outputs": [],
   "metadata": {}
  },
  {
   "cell_type": "code",
   "execution_count": 29,
   "source": [
    "james = Person('안녕하세요?')\r\n",
    "maria = Person('How are you?')"
   ],
   "outputs": [],
   "metadata": {}
  },
  {
   "cell_type": "code",
   "execution_count": 30,
   "source": [
    "james.greeting()\r\n",
    "maria.greeting()"
   ],
   "outputs": [
    {
     "output_type": "stream",
     "name": "stdout",
     "text": [
      "안녕하세요?\n",
      "How are you?\n"
     ]
    }
   ],
   "metadata": {}
  },
  {
   "cell_type": "code",
   "execution_count": 39,
   "source": [
    "class Person:\r\n",
    "    def __init__(self, name, age, addr):\r\n",
    "        self.hello = '안녕하세요?'\r\n",
    "        self.name = name\r\n",
    "        self.age =age\r\n",
    "        self.addr = addr\r\n",
    "\r\n",
    "    def greeting(self):\r\n",
    "        print(f' {self.hello} 저는 {self.name} 입니다. ')\r\n",
    "\r\n",
    "    def __str__(self):\r\n",
    "        return f'hello:{self.hello}, name: {self.name}, age: {self.age}, addr : {self.addr}'"
   ],
   "outputs": [],
   "metadata": {}
  },
  {
   "cell_type": "code",
   "execution_count": 40,
   "source": [
    "maria = Person('마리아', 23, '서울시 도곡동')\r\n",
    "maria.greeting()"
   ],
   "outputs": [
    {
     "output_type": "stream",
     "name": "stdout",
     "text": [
      " 안녕하세요? 저는 마리아 입니다. \n"
     ]
    }
   ],
   "metadata": {}
  },
  {
   "cell_type": "code",
   "execution_count": 41,
   "source": [
    "print(maria)"
   ],
   "outputs": [
    {
     "output_type": "stream",
     "name": "stdout",
     "text": [
      "hello:안녕하세요?, name: 마리아, age: 23, addr : 서울시 도곡동\n"
     ]
    }
   ],
   "metadata": {}
  },
  {
   "cell_type": "markdown",
   "source": [
    "##  34.3 비공개 속성"
   ],
   "metadata": {}
  },
  {
   "cell_type": "code",
   "execution_count": 42,
   "source": [
    "maria.age = 30\r\n",
    "print(maria)"
   ],
   "outputs": [
    {
     "output_type": "stream",
     "name": "stdout",
     "text": [
      "hello:안녕하세요?, name: 마리아, age: 30, addr : 서울시 도곡동\n"
     ]
    }
   ],
   "metadata": {}
  },
  {
   "cell_type": "code",
   "execution_count": 164,
   "source": [
    "class Person:\r\n",
    "    def __init__(self, name, age, addr, wallet):\r\n",
    "        self.name = name\r\n",
    "        self.age =age\r\n",
    "        self.addr = addr\r\n",
    "        self.__wallet = wallet # __ 를 붙여 비공개 속성을 생성\r\n",
    "\r\n",
    "    def greeting(self):\r\n",
    "        print(f' {self.hello} 저는 {self.name} 입니다. ')\r\n",
    "\r\n",
    "    def pay(self, amount): # 비공개 속성 클래스 내 메소드에서 수정 할 수 있다.\r\n",
    "        if self.__wallet - amount < 0 : \r\n",
    "            print('지갑에 돈이 부족합니다.')\r\n",
    "            return\r\n",
    "        self.__wallet -=amount\r\n",
    "        print(f'지갑에 남은 돈은 {self.__wallet}입니다.')\r\n",
    "\r\n",
    "\r\n",
    "    def __str__(self):\r\n",
    "        return f'name: {self.name}, age: {self.age}, addr : {self.addr}, wallet:{self.__wallet}'"
   ],
   "outputs": [],
   "metadata": {}
  },
  {
   "cell_type": "code",
   "execution_count": 165,
   "source": [
    "james = Person('제임스', 28, '서울 강남구', 10000)"
   ],
   "outputs": [],
   "metadata": {}
  },
  {
   "cell_type": "code",
   "execution_count": 166,
   "source": [
    "# 비공개 속성은 클래스 밖에서 변경할 수 없다.\r\n",
    "james.__wallet = 5000\r\n"
   ],
   "outputs": [],
   "metadata": {}
  },
  {
   "cell_type": "code",
   "execution_count": 167,
   "source": [
    "print(james)"
   ],
   "outputs": [
    {
     "output_type": "stream",
     "name": "stdout",
     "text": [
      "name: 제임스, age: 28, addr : 서울 강남구, wallet:10000\n"
     ]
    }
   ],
   "metadata": {}
  },
  {
   "cell_type": "code",
   "execution_count": 148,
   "source": [
    "james.pay(5000)"
   ],
   "outputs": [
    {
     "output_type": "stream",
     "name": "stdout",
     "text": [
      "지갑에 남은 돈은 5000입니다.\n"
     ]
    }
   ],
   "metadata": {}
  },
  {
   "cell_type": "code",
   "execution_count": 149,
   "source": [
    "print(james)"
   ],
   "outputs": [
    {
     "output_type": "stream",
     "name": "stdout",
     "text": [
      "name: 제임스, age: 28, addr : 서울 강남구, wallet:5000\n"
     ]
    }
   ],
   "metadata": {}
  },
  {
   "cell_type": "code",
   "execution_count": 150,
   "source": [
    "# 은행 계좌 개설\r\n",
    "'''\r\n",
    "Account 클래스\r\n",
    "    속성\r\n",
    "    - ano: 문자열 6글자, '123456'\r\n",
    "    - owner : 소유주, 문자열\r\n",
    "    - balance: 잔액 , 비공개 \r\n",
    "\r\n",
    "    메소드\r\n",
    "    - 생성자 \r\n",
    "    - deposit(amount),잔액  1000만원 이상은 입금할 수 없음\r\n",
    "    - withdraw(amoutn), 인출 잔액이 0원 미만이면 출금할 수 없음\r\n",
    "    - 출력 가능하게 메소드\r\n",
    "\r\n",
    "'''"
   ],
   "outputs": [
    {
     "output_type": "execute_result",
     "data": {
      "text/plain": [
       "\"\\nAccount 클래스\\n    속성\\n    - ano: 문자열 6글자, '123456'\\n    - owner : 소유주, 문자열\\n    - balance: 잔액 , 비공개 \\n\\n    메소드\\n    - 생성자 \\n    - deposit(amount),잔액  1000만원 이상은 입금할 수 없음\\n    - withdraw(amoutn), 인출 잔액이 0원 미만이면 출금할 수 없음\\n    - 출력 가능하게 메소드\\n\\n\""
      ]
     },
     "metadata": {},
     "execution_count": 150
    }
   ],
   "metadata": {}
  },
  {
   "cell_type": "code",
   "execution_count": 172,
   "source": [
    "class Account:\r\n",
    "    def __init__(self, ano, owner, balance):\r\n",
    "\r\n",
    "       self.ano = ano\r\n",
    "       self.owner = owner\r\n",
    "       self.__balance = balance\r\n",
    "\r\n",
    "\r\n",
    "    def deposit(self, amount):\r\n",
    "        if amount + self.__balance >= 10000000:\r\n",
    "            print('잔액은 천만원이 넘을 수 없습니다.')\r\n",
    "            return\r\n",
    "        self.__balance += amount\r\n",
    "\r\n",
    "    def withdraw(self, amount):\r\n",
    "        if self.__balance - amount <0:\r\n",
    "            print('잔액이 부족합니다.')\r\n",
    "            return\r\n",
    "        self.__balance -= amount\r\n",
    "\r\n",
    "\r\n",
    "    def __str__(self):\r\n",
    "        return f'ano: {self.ano}, owner: {self.owner}, balance {self.__balance:9,d}' \r\n",
    "        "
   ],
   "outputs": [],
   "metadata": {}
  },
  {
   "cell_type": "code",
   "execution_count": 173,
   "source": [
    " \r\n",
    "acc = Account('123456', 'james', 1000000) \r\n",
    "acc2 = Account('123456', 'james2', 1000000) "
   ],
   "outputs": [],
   "metadata": {}
  },
  {
   "cell_type": "code",
   "execution_count": 174,
   "source": [
    "print(acc)\r\n",
    "print(acc2)"
   ],
   "outputs": [
    {
     "output_type": "stream",
     "name": "stdout",
     "text": [
      "ano: 123456, owner: james, balance 1,000,000\n",
      "ano: 123456, owner: james2, balance 1,000,000\n"
     ]
    }
   ],
   "metadata": {}
  },
  {
   "cell_type": "markdown",
   "source": [],
   "metadata": {}
  },
  {
   "cell_type": "code",
   "execution_count": 175,
   "source": [
    "acc.deposit(3999)"
   ],
   "outputs": [],
   "metadata": {}
  },
  {
   "cell_type": "code",
   "execution_count": 176,
   "source": [
    "print(acc)"
   ],
   "outputs": [
    {
     "output_type": "stream",
     "name": "stdout",
     "text": [
      "ano: 123456, owner: james, balance 1,003,999\n"
     ]
    }
   ],
   "metadata": {}
  },
  {
   "cell_type": "code",
   "execution_count": 177,
   "source": [
    "acc_list = [acc, acc2]"
   ],
   "outputs": [],
   "metadata": {}
  },
  {
   "cell_type": "code",
   "execution_count": 178,
   "source": [
    "acc = Account('123456', 'james', 1000000) \r\n",
    "acc2 = Account('123456', 'james2', 1000000) \r\n",
    "\r\n",
    "print(acc)"
   ],
   "outputs": [
    {
     "output_type": "stream",
     "name": "stdout",
     "text": [
      "ano: 123456, owner: james, balance 1,000,000\n"
     ]
    }
   ],
   "metadata": {}
  },
  {
   "cell_type": "markdown",
   "source": [
    "### 1: 계좌생성, 2: 계좌목록, 3: 입금, 4:출금, 5: 종료\r\n"
   ],
   "metadata": {}
  },
  {
   "cell_type": "markdown",
   "source": [
    "# 사용자로부터 필요한 정보를 입력 받아서 계좌를 생성함\r\n",
    "\r\n"
   ],
   "metadata": {}
  },
  {
   "cell_type": "code",
   "execution_count": 179,
   "source": [
    "def create_account():\r\n",
    "    s = input('계좌번호 성명 금액> ').split()\r\n",
    "    ano, owner = s[0], s[1]\r\n",
    "    amount = int(s[2])\r\n",
    "    acc = Account(ano, owner, amount)\r\n",
    "    acc_list.append(acc)"
   ],
   "outputs": [],
   "metadata": {}
  },
  {
   "cell_type": "code",
   "execution_count": 180,
   "source": [
    "# 사용자로부터 필요한 정보를 입력 받아서 계좌에 돈을 입금함\r\n",
    "def deposit_account():\r\n",
    "    s = input('계좌번호 금액> ').split()\r\n",
    "    ano, amount = s[0], int(s[1])\r\n",
    "    for acc in acc_list:\r\n",
    "        if acc.ano == ano:\r\n",
    "            acc.deposit(amount)\r\n",
    "            return"
   ],
   "outputs": [],
   "metadata": {}
  },
  {
   "cell_type": "code",
   "execution_count": 181,
   "source": [
    "# 사용자로부터 필요한 정보를 입력 받아서 계좌에서 돈을 출금함\r\n",
    "def withdraw_account():\r\n",
    "    s = input('계좌번호 금액> ').split()\r\n",
    "    ano, amount = s[0], int(s[1])\r\n",
    "    for acc in acc_list:\r\n",
    "        if acc.ano == ano:\r\n",
    "            acc.withdraw(amount)\r\n",
    "            return"
   ],
   "outputs": [],
   "metadata": {}
  },
  {
   "cell_type": "code",
   "execution_count": 182,
   "source": [
    "while True:\r\n",
    "    menu = int(input('1:계좌생성, 2:계좌목록, 3:입금, 4:출금, 5:종료> '))\r\n",
    "    if menu == 5:\r\n",
    "        break\r\n",
    "    if menu == 1:\r\n",
    "        create_account()\r\n",
    "    elif menu == 2:\r\n",
    "        for account in acc_list:\r\n",
    "            print(account)\r\n",
    "    elif menu == 3:\r\n",
    "        deposit_account()\r\n",
    "    elif menu == 4:\r\n",
    "        withdraw_account()\r\n",
    "    else:\r\n",
    "        print('잘못된 명령어입니다.')\r\n",
    "\r\n",
    "    print()"
   ],
   "outputs": [
    {
     "output_type": "error",
     "ename": "IndexError",
     "evalue": "list index out of range",
     "traceback": [
      "\u001b[1;31m---------------------------------------------------------------------------\u001b[0m",
      "\u001b[1;31mIndexError\u001b[0m                                Traceback (most recent call last)",
      "\u001b[1;32m<ipython-input-182-03a4b57a956c>\u001b[0m in \u001b[0;36m<module>\u001b[1;34m\u001b[0m\n\u001b[0;32m      4\u001b[0m         \u001b[1;32mbreak\u001b[0m\u001b[1;33m\u001b[0m\u001b[1;33m\u001b[0m\u001b[0m\n\u001b[0;32m      5\u001b[0m     \u001b[1;32mif\u001b[0m \u001b[0mmenu\u001b[0m \u001b[1;33m==\u001b[0m \u001b[1;36m1\u001b[0m\u001b[1;33m:\u001b[0m\u001b[1;33m\u001b[0m\u001b[1;33m\u001b[0m\u001b[0m\n\u001b[1;32m----> 6\u001b[1;33m         \u001b[0mcreate_account\u001b[0m\u001b[1;33m(\u001b[0m\u001b[1;33m)\u001b[0m\u001b[1;33m\u001b[0m\u001b[1;33m\u001b[0m\u001b[0m\n\u001b[0m\u001b[0;32m      7\u001b[0m     \u001b[1;32melif\u001b[0m \u001b[0mmenu\u001b[0m \u001b[1;33m==\u001b[0m \u001b[1;36m2\u001b[0m\u001b[1;33m:\u001b[0m\u001b[1;33m\u001b[0m\u001b[1;33m\u001b[0m\u001b[0m\n\u001b[0;32m      8\u001b[0m         \u001b[1;32mfor\u001b[0m \u001b[0maccount\u001b[0m \u001b[1;32min\u001b[0m \u001b[0macc_list\u001b[0m\u001b[1;33m:\u001b[0m\u001b[1;33m\u001b[0m\u001b[1;33m\u001b[0m\u001b[0m\n",
      "\u001b[1;32m<ipython-input-179-1bb06fae501f>\u001b[0m in \u001b[0;36mcreate_account\u001b[1;34m()\u001b[0m\n\u001b[0;32m      1\u001b[0m \u001b[1;32mdef\u001b[0m \u001b[0mcreate_account\u001b[0m\u001b[1;33m(\u001b[0m\u001b[1;33m)\u001b[0m\u001b[1;33m:\u001b[0m\u001b[1;33m\u001b[0m\u001b[1;33m\u001b[0m\u001b[0m\n\u001b[0;32m      2\u001b[0m     \u001b[0ms\u001b[0m \u001b[1;33m=\u001b[0m \u001b[0minput\u001b[0m\u001b[1;33m(\u001b[0m\u001b[1;34m'계좌번호 성명 금액> '\u001b[0m\u001b[1;33m)\u001b[0m\u001b[1;33m.\u001b[0m\u001b[0msplit\u001b[0m\u001b[1;33m(\u001b[0m\u001b[1;33m)\u001b[0m\u001b[1;33m\u001b[0m\u001b[1;33m\u001b[0m\u001b[0m\n\u001b[1;32m----> 3\u001b[1;33m     \u001b[0mano\u001b[0m\u001b[1;33m,\u001b[0m \u001b[0mowner\u001b[0m \u001b[1;33m=\u001b[0m \u001b[0ms\u001b[0m\u001b[1;33m[\u001b[0m\u001b[1;36m0\u001b[0m\u001b[1;33m]\u001b[0m\u001b[1;33m,\u001b[0m \u001b[0ms\u001b[0m\u001b[1;33m[\u001b[0m\u001b[1;36m1\u001b[0m\u001b[1;33m]\u001b[0m\u001b[1;33m\u001b[0m\u001b[1;33m\u001b[0m\u001b[0m\n\u001b[0m\u001b[0;32m      4\u001b[0m     \u001b[0mamount\u001b[0m \u001b[1;33m=\u001b[0m \u001b[0mint\u001b[0m\u001b[1;33m(\u001b[0m\u001b[0ms\u001b[0m\u001b[1;33m[\u001b[0m\u001b[1;36m2\u001b[0m\u001b[1;33m]\u001b[0m\u001b[1;33m)\u001b[0m\u001b[1;33m\u001b[0m\u001b[1;33m\u001b[0m\u001b[0m\n\u001b[0;32m      5\u001b[0m     \u001b[0macc\u001b[0m \u001b[1;33m=\u001b[0m \u001b[0mAccount\u001b[0m\u001b[1;33m(\u001b[0m\u001b[0mano\u001b[0m\u001b[1;33m,\u001b[0m \u001b[0mowner\u001b[0m\u001b[1;33m,\u001b[0m \u001b[0mamount\u001b[0m\u001b[1;33m)\u001b[0m\u001b[1;33m\u001b[0m\u001b[1;33m\u001b[0m\u001b[0m\n",
      "\u001b[1;31mIndexError\u001b[0m: list index out of range"
     ]
    }
   ],
   "metadata": {}
  },
  {
   "cell_type": "code",
   "execution_count": null,
   "source": [],
   "outputs": [],
   "metadata": {}
  }
 ],
 "metadata": {
  "orig_nbformat": 4,
  "language_info": {
   "name": "python",
   "version": "3.8.10",
   "mimetype": "text/x-python",
   "codemirror_mode": {
    "name": "ipython",
    "version": 3
   },
   "pygments_lexer": "ipython3",
   "nbconvert_exporter": "python",
   "file_extension": ".py"
  },
  "kernelspec": {
   "name": "python3",
   "display_name": "Python 3.8.10 64-bit ('base': conda)"
  },
  "interpreter": {
   "hash": "6d46af94c2bbce495f1e668725902fa517c90b1782bcfe2fce0dd9868df553d3"
  }
 },
 "nbformat": 4,
 "nbformat_minor": 2
}