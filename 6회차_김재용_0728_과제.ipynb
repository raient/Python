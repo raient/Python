{
  "nbformat": 4,
  "nbformat_minor": 0,
  "metadata": {
    "colab": {
      "name": "6회차 김재용_0728 과제.ipynb",
      "provenance": [],
      "collapsed_sections": []
    },
    "kernelspec": {
      "name": "python3",
      "display_name": "Python 3"
    },
    "language_info": {
      "name": "python"
    }
  },
  "cells": [
    {
      "cell_type": "markdown",
      "metadata": {
        "id": "o9p0DU3Qv5bD"
      },
      "source": [
        "# 과제 \n",
        "- 8 ~ 14장 심사 문제"
      ]
    },
    {
      "cell_type": "markdown",
      "metadata": {
        "id": "V3iTyNOWwOvS"
      },
      "source": [
        "## Unit 08 불과 비교, 논리 연산자 알아보기"
      ]
    },
    {
      "cell_type": "markdown",
      "metadata": {
        "id": "bp8CTXELwaEp"
      },
      "source": [
        "### 8.5 심사문제: 합격 여부 출력하기"
      ]
    },
    {
      "cell_type": "markdown",
      "metadata": {
        "id": "wn8Hkz5wwfhI"
      },
      "source": [
        "표준 입력으로 국어, 영어, 수학, 과학 점수가 입력됩니다. 국어는 90점 이상, 영어는 80점 초과, 수학은 85점 초과, 과학은 80점 이상일 때 합격이라고 정했습니다(한 과목이라도 조건에 만족하지 않으면 불합격). 다음 소스 코드를 완성하여 합격이면 True, 불합격이면 False가 출력되게 만드세요(input에서 안내 문자열은 출력하지 않아야 합니다)."
      ]
    },
    {
      "cell_type": "code",
      "metadata": {
        "colab": {
          "base_uri": "https://localhost:8080/"
        },
        "id": "nTOAw5Dcw6_p",
        "outputId": "d107719c-12f9-4d6d-b585-39d4325138d4"
      },
      "source": [
        "kor, eng, mat, sci = map(int, input('').split())\n",
        "kor>=90 and eng >80 and mat > 85 and sci >=80\n"
      ],
      "execution_count": null,
      "outputs": [
        {
          "output_type": "stream",
          "text": [
            "90 90 90 90\n"
          ],
          "name": "stdout"
        },
        {
          "output_type": "execute_result",
          "data": {
            "text/plain": [
              "True"
            ]
          },
          "metadata": {
            "tags": []
          },
          "execution_count": 11
        }
      ]
    },
    {
      "cell_type": "markdown",
      "metadata": {
        "id": "r_oEzP8yxpfA"
      },
      "source": [
        "## Unit 9. 문자열 사용하기\n"
      ]
    },
    {
      "cell_type": "markdown",
      "metadata": {
        "id": "1C2CQ_7G046u"
      },
      "source": [
        "### 9.4 심사문제: 여러 줄로 된 문자열 사용하기\n"
      ]
    },
    {
      "cell_type": "markdown",
      "metadata": {
        "id": "o-2IcUkx1A1e"
      },
      "source": [
        "다음 소스 코드를 완성하여 실행 결과대로 문자열이 출력되게 만드세요.<br>\n"
      ]
    },
    {
      "cell_type": "code",
      "metadata": {
        "colab": {
          "base_uri": "https://localhost:8080/"
        },
        "id": "0sOc0Azw1Vsn",
        "outputId": "b3389482-d879-48a4-eb32-67e198f550af"
      },
      "source": [
        "s= ''''Python' is a \"programming language\"\n",
        "that lets you work quickly\n",
        "and\n",
        "integrate systems more effectively.'''\n",
        "print(s)"
      ],
      "execution_count": null,
      "outputs": [
        {
          "output_type": "stream",
          "text": [
            "'Python' is a \"programming language\"\n",
            "that lets you work quickly\n",
            "and\n",
            "integrate systems more effectively.\n"
          ],
          "name": "stdout"
        }
      ]
    },
    {
      "cell_type": "code",
      "metadata": {
        "id": "fwypMsZw1sJf"
      },
      "source": [
        ""
      ],
      "execution_count": null,
      "outputs": []
    },
    {
      "cell_type": "markdown",
      "metadata": {
        "id": "N1TrBQDp2fjG"
      },
      "source": [
        "## Unit 10 리스트와 튜플 사용하기"
      ]
    },
    {
      "cell_type": "markdown",
      "metadata": {
        "id": "lKyTTHT_2hA2"
      },
      "source": [
        "### 10.5 심사문제: range로 튜플 만들기\n",
        "표준 입력으로 정수가 입력됩니다. range의 시작하는 숫자는 -10, 끝나는 숫자는 10이며 입력된 정수만큼 증가하는 숫자가 들어가도록 튜플을 만들고, 해당 튜플을 출력하는 프로그램을 만드세요(input에서 안내 문자열은 출력하지 않아야 합니다).\n"
      ]
    },
    {
      "cell_type": "code",
      "metadata": {
        "colab": {
          "base_uri": "https://localhost:8080/"
        },
        "id": "PQh1tucC2yuV",
        "outputId": "26777efe-f867-42d2-e607-2c6467980ea8"
      },
      "source": [
        "a = int(input(''))\n",
        "t =tuple(range(-10,10,a))\n",
        "print(t)"
      ],
      "execution_count": null,
      "outputs": [
        {
          "output_type": "stream",
          "text": [
            "3\n",
            "(-10, -7, -4, -1, 2, 5, 8)\n"
          ],
          "name": "stdout"
        }
      ]
    },
    {
      "cell_type": "markdown",
      "metadata": {
        "id": "e4GPTYuZE1FG"
      },
      "source": [
        "- 해설<br>"
      ]
    },
    {
      "cell_type": "markdown",
      "metadata": {
        "id": "pHhHcBwM4Iad"
      },
      "source": [
        "range로 튜플을 만드는 문제입니다. 먼저 표준 입력으로 증가폭이 입력되므로 input을 사용하여 변수에 값을 저장합니다(변수는 이하 step). 이때 input으로 입력받은 값은 문자열 상태이므로 int를 사용하여 정수로 변환해줍니다.\n",
        "\n",
        "문제에서 range의 시작하는 숫자는 -10, 끝나는 숫자는 10이라고 했고, 증가폭도 변수 step에 저장했으므로 튜플은 tuple(range(-10, 10, step))과 같이 만들면 됩니다. 이 튜플을 다른 변수에 저장한 뒤 print로 출력하거나 print 안에 tuple(range(-10, 10, step))을 바로 넣어서 출력해도 됩니다.\n",
        "\n",
        "특히 range의 시작하는 숫자는 -10, 끝나는 숫자는 10일 때 끝나는 숫자는 생성되는 숫자에 포함되지 않습니다('10.1.3 range를 사용하여 리스트 만들기', '10.4 연습문제: range로 리스트 만들기' 참조). 즉, 테스트 케이스 예제 (-10, -8, -6, -4, -2, 0, 2, 4, 6, 8)은 -10부터 2씩 증가해서 8까지 늘어나고, (-10, -7, -4, -1, 2, 5, 8)은 -10부터 3씩 증가해서 8까지 늘어납니다. 따라서 끝나는 숫자 10은 포함되지 않는 것을 알 수 있습니다.\n",
        "\n",
        "또한, 이 문제에서 끝나는 숫자는 생성되는 숫자의 마지막을 뜻하는 것이 아니라 range에 지정하는 끝나는 숫자를 의미하므로 이 부분에 주의해야 합니다.\n"
      ]
    },
    {
      "cell_type": "markdown",
      "metadata": {
        "id": "k2FnczsG6G78"
      },
      "source": [
        "## Unit 11. 시퀀스 자료형 활용하기"
      ]
    },
    {
      "cell_type": "markdown",
      "metadata": {
        "id": "bFPZKvIG7UOV"
      },
      "source": [
        "### 11.8 심사문제: 리스트의 마지막 부분 삭제하기"
      ]
    },
    {
      "cell_type": "markdown",
      "metadata": {
        "id": "_aGbcoM07WgD"
      },
      "source": [
        "표준 입력으로 숫자 또는 문자열 여러 개가 입력되어 리스트 x에 저장됩니다(입력되는 숫자 또는 문자열의 개수는 정해져 있지 않음). 다음 소스 코드를 완성하여 리스트 x의 마지막 요소 5개를 삭제한 뒤 튜플로 출력되게 만드세요."
      ]
    },
    {
      "cell_type": "markdown",
      "metadata": {
        "id": "umFujpjO7qoD"
      },
      "source": [
        "해결 방법 :\n",
        "1. 숫자 및 문자열을 리스트X에 표준 입력( 개수 제한 없음)\n",
        "2. 리스트 X의마지막 요소 5개를 삭제\n",
        "3. 리스트 X를 튜플 형태로 출력\n"
      ]
    },
    {
      "cell_type": "code",
      "metadata": {
        "colab": {
          "base_uri": "https://localhost:8080/"
        },
        "id": "-0H5J2lK79Tr",
        "outputId": "c2bcf174-9f60-40e7-d4cb-ef46914f46c3"
      },
      "source": [
        "l = list(map(int, input('').split()))\n",
        "print(l)\n",
        "\n",
        "del l[-5:] \n",
        "print(l)\n",
        "\n",
        "t = tuple(l)\n",
        "\n",
        "print(t)"
      ],
      "execution_count": null,
      "outputs": [
        {
          "output_type": "stream",
          "text": [
            "1 2 3 4 5 6 8 7 \n",
            "[1, 2, 3, 4, 5, 6, 8, 7]\n",
            "[1, 2, 3]\n",
            "(1, 2, 3)\n"
          ],
          "name": "stdout"
        }
      ]
    },
    {
      "cell_type": "code",
      "metadata": {
        "colab": {
          "base_uri": "https://localhost:8080/"
        },
        "id": "xBmOeCdO8dtM",
        "outputId": "bc84c257-a8f9-471d-fb7f-5bade0dc60ad"
      },
      "source": [
        "x = input().split()\n",
        "del x[-5:] \n",
        "print(tuple(x))"
      ],
      "execution_count": null,
      "outputs": [
        {
          "output_type": "stream",
          "text": [
            "1 2 3 4 5 6 8 7\n",
            "('1', '2', '3')\n"
          ],
          "name": "stdout"
        }
      ]
    },
    {
      "cell_type": "markdown",
      "metadata": {
        "id": "VzdYFstDC1h4"
      },
      "source": [
        "- 해설 <br>"
      ]
    },
    {
      "cell_type": "markdown",
      "metadata": {
        "id": "kvT1Zwkw_ewJ"
      },
      "source": [
        "리스트 x의 마지막 요소 5개를 삭제하는 문제입니다.\n",
        "\n",
        "먼저 시퀀스 객체는 인덱스에 음수를 지정하면 뒤에서부터 요소에 접근한다고 했습니다. 따라서 인덱스에 -5를 지정하면 뒤에서 5번째 요소에 접근할 수 있습니다. 그리고 슬라이스를 사용하여 시작 인덱스를 -5으로 지정하고, 끝 인덱스를 생략하면 리스트의 마지막 요소 5개에 접근할 수 있습니다. 이때 요소를 삭제해야 하므로 del x[-5:]과 같이 슬라이스를 삭제해줍니다.\n",
        "\n",
        "물론 x[len(x) - 5:]처럼 len 함수로 리스트의 길이를 구한 뒤 5를 빼서 시작 인덱스에 지정하는 방법도 가능하지만, 그냥 -5를 지정하는 방법이 더 간단합니다. 마찬가지로 x[-5:len(x)]처럼 끝 인덱스에도 len 함수로 리스트의 길이를 구해서 넣어도 되지만, 마지막 요소들을 출력할 때는 끝 인덱스를 생략하는 방법을 주로 사용합니다.\n",
        "\n",
        "그리고 삭제한 리스트를 튜플로 출력하라고 했으므로 리스트 x를 tuple에 넣은 뒤 print로 출력해주면 됩니다."
      ]
    },
    {
      "cell_type": "markdown",
      "metadata": {
        "id": "xgKp3GyIBtEg"
      },
      "source": [
        "### 11.9 심사문제: 문자열에서 인덱스가 홀수인 문자와 짝수인 문자 연결하기\n"
      ]
    },
    {
      "cell_type": "markdown",
      "metadata": {
        "id": "pzewOiw_B4Qw"
      },
      "source": [
        "표준 입력으로 문자열 두 개가 각 줄에 입력됩니다(문자열의 길이는 정해져 있지 않음). 첫 번째 문자열에서 인덱스가 홀수인 문자와 두 번째 문자열에서 인덱스가 짝수인 문자를 연결하여 출력하는 프로그램을 만드세요(input에서 안내 문자열은 출력하지 않아야 합니다). 연결 순서는 첫 번째 문자열, 두 번째 문자열 순입니다. 그리고 0은 짝수로 처리합니다.\n"
      ]
    },
    {
      "cell_type": "markdown",
      "metadata": {
        "id": "84D_WoV2Ctlv"
      },
      "source": [
        "- 해결방법\n",
        "1. 각 문자열 2개를 각각 입력\n",
        "2. 첫번쨰 문자열 중 홀수 문자 추출\n",
        "3. 두번쨰 문자열 중 짝수 문자 추출\n",
        "4. 각 추출된 문자열을 연결하여 출력\n"
      ]
    },
    {
      "cell_type": "code",
      "metadata": {
        "colab": {
          "base_uri": "https://localhost:8080/"
        },
        "id": "noNhYip3Cxuw",
        "outputId": "2531b6cb-fc9a-4061-bd26-d8286cbc3978"
      },
      "source": [
        "#str1, str2 = map(str, input('').split())\n",
        "\n",
        "str1 = str(input(''))\n",
        "str2 = str(input(''))\n",
        "\n",
        "str3 =str1[0::2] + str2[1::2]\n",
        "print(str3)"
      ],
      "execution_count": null,
      "outputs": [
        {
          "output_type": "stream",
          "text": [
            "ㅁㄴㅇㄻㄴㅇㄹ\n",
            "ㅓㅏㅏㅗㅓㅣㅏㅣ\n",
            "ㅁㅇㄴㄹㅏㅗㅣㅣ\n"
          ],
          "name": "stdout"
        }
      ]
    },
    {
      "cell_type": "markdown",
      "metadata": {
        "id": "O6yRxgx3N466"
      },
      "source": [
        "- 해설"
      ]
    },
    {
      "cell_type": "markdown",
      "metadata": {
        "id": "PaHrRGbZN-OZ"
      },
      "source": [
        "문자열 두 개가 각 줄에 입력된다고 했으므로 input을 두 번 사용해야 합니다. 먼저 input을 사용하여 첫 번째 문자열을 변수에 저장합니다(이하 변수는 a). 그리고 다시 input을 사용하여 두 번째 문자열을 다른 변수에 저장합니다(이하 변수는 b).\n",
        "\n",
        "그다음에 a에서 인덱스가 홀수인 요소를 구하고, b에서 인덱스가 짝수인 요소를 구합니다. 먼저 홀수는 1부터 시작하고 2씩 증가하므로 시작 인덱스는 1, 인덱스 증가폭은 2입니다. 그리고 짝수는 0부터 시작하고 2씩 증가하므로 시작 인덱스는 0, 인덱스 증가폭은 2입니다.\n",
        "\n",
        "여기서 문자열의 길이는 정해져 있지 않다고 했으므로 끝 인덱스를 생략하여 문자열의 마지막까지 가져올 수 있도록 만듭니다. 물론 len을 사용하여 문자열의 길이를 구해서 넣어도 됩니다.\n",
        "\n",
        "이렇게 a[1::2]와 b[0::2] 문자열 슬라이스를 얻었으면 두 슬라이스를 +로 더한 뒤 print로 출력해주면 됩니다.\n"
      ]
    },
    {
      "cell_type": "markdown",
      "metadata": {
        "id": "0JP5AOUG_2AJ"
      },
      "source": [
        "## unit 12. 딕셔너리 사용하기\n"
      ]
    },
    {
      "cell_type": "markdown",
      "metadata": {
        "id": "72TMugefAR1p"
      },
      "source": [
        "### 12.5 심사문제: 딕셔너리에 게임 캐릭터 능력치 저장하기"
      ]
    },
    {
      "cell_type": "markdown",
      "metadata": {
        "id": "ZwuezmFUAbLx"
      },
      "source": [
        "표준 입력으로 문자열 여러 개와 숫자(실수) 여러 개가 두 줄로 입력됩니다. 입력된 첫 번째 줄은 키, 두 번째 줄은 값으로 하여 딕셔너리를 생성한 뒤 딕셔너리를 출력하는 프로그램을 만드세요. input().split()의 결과를 변수 한 개에 저장하면 리스트로 저장됩니다.\n",
        "\n",
        "judge_dict.py"
      ]
    },
    {
      "cell_type": "markdown",
      "metadata": {
        "id": "fZEj6zmvAfyA"
      },
      "source": [
        "해결 방법:\n",
        "1. 키로 사용할 문자열 입력\n",
        "2. 값으로 사용할 실수 입력\n",
        "3. 입력받은 키와 값으로 딕셔너리 생성\n",
        "4. 생성한 딕셔너리 출력\n"
      ]
    },
    {
      "cell_type": "code",
      "metadata": {
        "colab": {
          "base_uri": "https://localhost:8080/"
        },
        "id": "IrviYxYeA57g",
        "outputId": "5ba64239-2c38-4bc3-d114-ff7e9996e14c"
      },
      "source": [
        "k = list(map(str,input('').split()))\n",
        "\n",
        "v = list(map(float,input('').split()))\n",
        "\n",
        "d = dict(zip(k,v))\n",
        "d"
      ],
      "execution_count": null,
      "outputs": [
        {
          "output_type": "stream",
          "text": [
            "키1 키2 키3\n",
            "1 2 3 \n"
          ],
          "name": "stdout"
        },
        {
          "output_type": "execute_result",
          "data": {
            "text/plain": [
              "{'키1': 1.0, '키2': 2.0, '키3': 3.0}"
            ]
          },
          "metadata": {
            "tags": []
          },
          "execution_count": 73
        }
      ]
    },
    {
      "cell_type": "markdown",
      "metadata": {
        "id": "wZ69ElQgQdAg"
      },
      "source": [
        "## Unit13 if 조건문"
      ]
    },
    {
      "cell_type": "markdown",
      "metadata": {
        "id": "CLDvYodiSOQA"
      },
      "source": [
        "### 13.7 심사문제: 온라인 할인 쿠폰 시스템 만들기"
      ]
    },
    {
      "cell_type": "markdown",
      "metadata": {
        "id": "6oBEzNcASYLe"
      },
      "source": [
        "표준 입력으로 가격(정수)과 쿠폰 이름이 각 줄에 입력됩니다. Cash3000 쿠폰은 3,000원, Cash5000 쿠폰은 5,000원을 할인합니다. 쿠폰에 따라 할인된 가격을 출력하는 프로그램을 만드세요(input에서 안내 문자열은 출력하지 않아야 합니다)."
      ]
    },
    {
      "cell_type": "code",
      "metadata": {
        "id": "ZsnUleXDScMn",
        "colab": {
          "base_uri": "https://localhost:8080/"
        },
        "outputId": "679edc74-57c7-4d05-aab5-d1540dd99fc0"
      },
      "source": [
        "p = int(input('가격을 입력하세요:'))\n",
        "c = str(input('쿠폰을 입력하세요'))\n",
        "if c == 'Cash3000':\n",
        "    p = p-3000\n",
        "else:\n",
        "    p = p-5000\n",
        "\n",
        "print('가격은 ', p,'원 입니다.')"
      ],
      "execution_count": 77,
      "outputs": [
        {
          "output_type": "stream",
          "text": [
            "가격을 입력하세요:50000\n",
            "쿠폰을 입력하세요Cash5000\n",
            "가격은  45000 원 입니다.\n"
          ],
          "name": "stdout"
        }
      ]
    },
    {
      "cell_type": "markdown",
      "metadata": {
        "id": "ccD6eFV6t6dZ"
      },
      "source": [
        ""
      ]
    },
    {
      "cell_type": "markdown",
      "metadata": {
        "id": "oKl_mWsyeNlP"
      },
      "source": [
        "##Unit 14. else를 사용한 분기"
      ]
    },
    {
      "cell_type": "markdown",
      "metadata": {
        "id": "jtU-AL8pt6Kn"
      },
      "source": [
        ""
      ]
    },
    {
      "cell_type": "markdown",
      "metadata": {
        "id": "Dz-g5NezeS7Y"
      },
      "source": [
        "### 14.7 심사문제: 합격 여부 판단하기"
      ]
    },
    {
      "cell_type": "markdown",
      "metadata": {
        "id": "3_t8Dv2qeU42"
      },
      "source": [
        "표준 입력으로 국어, 영어, 수학, 과학 점수가 입력됩니다. 여기서 네 과목의 평균 점수가 80점 이상일 때 합격이라고 정했습니다. 평균 점수에 따라 '합격', '불합격'을 출력하는 프로그램을 만드세요(input에서 안내 문자열은 출력하지 않아야 합니다). 단, 점수는 0점부터 100점까지만 입력받을 수 있으며 범위를 벗어났다면 '잘못된 점수'를 출력하고 합격, 불합격 여부는 출력하지 않아야 합니다."
      ]
    },
    {
      "cell_type": "code",
      "metadata": {
        "colab": {
          "base_uri": "https://localhost:8080/"
        },
        "id": "FFXULOKgeYy-",
        "outputId": "382e4389-a2e9-4f0d-8df5-52e9e473a06c"
      },
      "source": [
        "kor, eng, math, sci = map(int, input('').split())\n",
        "\n",
        "if kor > 100 or eng > 100 or math > 100 or sci >100:\n",
        "    print('잘못된 점수')\n",
        "else:\n",
        "    ave = (kor+ eng + math + sci )/4\n",
        "    print(ave)\n",
        "    print('합격입니다.')\n",
        "\n"
      ],
      "execution_count": 83,
      "outputs": [
        {
          "output_type": "stream",
          "text": [
            "100 80 90 100\n",
            "92.5\n",
            "합격입니다.\n"
          ],
          "name": "stdout"
        }
      ]
    },
    {
      "cell_type": "code",
      "metadata": {
        "id": "GJZJxTK5s4yZ"
      },
      "source": [
        ""
      ],
      "execution_count": null,
      "outputs": []
    }
  ]
}