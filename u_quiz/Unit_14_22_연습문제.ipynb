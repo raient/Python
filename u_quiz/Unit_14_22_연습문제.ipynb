{
  "nbformat": 4,
  "nbformat_minor": 0,
  "metadata": {
    "colab": {
      "name": "Unit 14_22 연습문제.ipynb",
      "provenance": [],
      "collapsed_sections": []
    },
    "kernelspec": {
      "name": "python3",
      "display_name": "Python 3"
    },
    "language_info": {
      "name": "python"
    }
  },
  "cells": [
    {
      "cell_type": "markdown",
      "metadata": {
        "id": "1Qe_IS03BydT"
      },
      "source": [
        "## 15.4 심사문제\n",
        "표준 입력으로 나이(만 나이)가 입력됩니다(입력 값은 7 이상 입력됨). 교통카드 시스템에서 시내버스 요금은 다음과 같으며 각 나이에 맞게 요금을 차감한 뒤 잔액이 출력되게 만드세요(if, elif 사용). 현재 교통카드에는 9,000원이 들어있습니다.\n"
      ]
    },
    {
      "cell_type": "markdown",
      "metadata": {
        "id": "AFKZ8cEuFH4q"
      },
      "source": [
        "- 해결 방법\n",
        "1. 나이 입력, 7이상\n",
        "2. 나이에 맞는시내버스 요금을 교통카드에서 차감후 출력\n",
        "3. 현재 교통카드는 9000원\n"
      ]
    },
    {
      "cell_type": "code",
      "metadata": {
        "colab": {
          "base_uri": "https://localhost:8080/"
        },
        "id": "uLad9zb5FBUV",
        "outputId": "e21beb21-fe0b-4953-8075-0a3550f9092a"
      },
      "source": [
        "age = int(input('나이를 입력 >'))\n",
        "traffic_card = 9000\n",
        "\n",
        "if age >= 19 :\n",
        "    traffic_card -= 1250\n",
        "elif 13 <= age <= 18:\n",
        "    traffic_card -= 1050\n",
        "elif 7 <= age <= 12: #파이썬스러운 코드\n",
        "    traffic_card -= 650\n",
        "else:\n",
        "    traffic_card\n",
        "\n",
        "    \n",
        "traffic_card"
      ],
      "execution_count": null,
      "outputs": [
        {
          "output_type": "stream",
          "text": [
            "나이를 입력 >13\n"
          ],
          "name": "stdout"
        },
        {
          "output_type": "execute_result",
          "data": {
            "text/plain": [
              "7950"
            ]
          },
          "metadata": {
            "tags": []
          },
          "execution_count": 8
        }
      ]
    },
    {
      "cell_type": "markdown",
      "metadata": {
        "id": "ubDB6m2sGmNM"
      },
      "source": [
        "## 16.6 심사문제: 구구단 출력하기"
      ]
    },
    {
      "cell_type": "code",
      "metadata": {
        "colab": {
          "base_uri": "https://localhost:8080/"
        },
        "id": "lMH1jztrJK7L",
        "outputId": "b384c716-63e5-4902-edb5-893d489c9f63"
      },
      "source": [
        "num_gugudan = int(input('숫자 입력<'))\n",
        "for i in range(2, 10):\n",
        "    print(num_gugudan,' * ', i, '=', num_gugudan*i, )\n",
        "    # 포맷 스트링 print(f'{num_gugudan}*{i}=}')\n"
      ],
      "execution_count": null,
      "outputs": [
        {
          "output_type": "stream",
          "text": [
            "숫자 입력<5\n",
            "5  *  2 = 10\n",
            "5  *  3 = 15\n",
            "5  *  4 = 20\n",
            "5  *  5 = 25\n",
            "5  *  6 = 30\n",
            "5  *  7 = 35\n",
            "5  *  8 = 40\n",
            "5  *  9 = 45\n"
          ],
          "name": "stdout"
        }
      ]
    },
    {
      "cell_type": "markdown",
      "metadata": {
        "id": "bVvReolGKM-b"
      },
      "source": [
        "## 17.6 심사문제 교통카드 출력 하기"
      ]
    },
    {
      "cell_type": "markdown",
      "metadata": {
        "id": "O4NZv4ltLB4r"
      },
      "source": [
        "표준 입력으로 금액(정수)이 입력됩니다. 1회당 요금은 1,350원이고, 교통카드를 사용했을 때마다의 잔액을 각 줄에 출력하는 프로그램을 만드세요(input에서 안내 문자열은 출력하지 않아야 합니다). 단, 최초 금액은 출력하지 않아야 합니다. 그리고 잔액은 음수가 될 수 없으며 잔액이 부족하면 출력을 끝냅니다.\n"
      ]
    },
    {
      "cell_type": "markdown",
      "metadata": {
        "id": "xAHXleYgLGph"
      },
      "source": [
        "- 해결방법\n",
        "1. 금액 입력\n",
        "2. 1회 요금 1350원\n",
        "3. 사용시 출력\n",
        "4. 잔액이 부족할때까지 사용 후 잔액 출력"
      ]
    },
    {
      "cell_type": "code",
      "metadata": {
        "colab": {
          "base_uri": "https://localhost:8080/"
        },
        "id": "tgHcjtjVLjpK",
        "outputId": "b604b5d6-bccd-487d-dc27-ea20f7788e33"
      },
      "source": [
        "traffic_card = int(input(''))\n",
        "\n",
        "charge = 1350\n",
        "\n",
        "while traffic_card >= charge:\n",
        "    traffic_card -= charge\n",
        "    print(traffic_card,)\n"
      ],
      "execution_count": null,
      "outputs": [
        {
          "output_type": "stream",
          "text": [
            "10000\n",
            "8650\n",
            "7300\n",
            "5950\n",
            "4600\n",
            "3250\n",
            "1900\n",
            "550\n"
          ],
          "name": "stdout"
        }
      ]
    },
    {
      "cell_type": "markdown",
      "metadata": {
        "id": "KU2iIihUMQzT"
      },
      "source": [
        "## 18.6 심사문제: 두 수 사이의 숫자 중 3으로 끝나지 않는 숫자 출력하기\n",
        "표준 입력으로 정수 두 개가 입력됩니다(첫 번째 입력 값의 범위는 1 \\~ 200, 두 번째 입력 값의 범위는 10~200이며 첫 번째 입력 값은 두 번째 입력 값보다 항상 작습니다). 다음 소스 코드를 완성하여 첫 번째 정수와 두 번째 정수 사이의 숫자 중 3으로 끝나지 않는 숫자가 출력되게 만드세요. 정답에 코드를 작성할 때는 while True:에 맞춰서 들여쓰기를 해주세요.\n"
      ]
    },
    {
      "cell_type": "code",
      "metadata": {
        "id": "izJYt-dSVRIw"
      },
      "source": [
        "start, stop = map(int, input().split())\n",
        "\n",
        "i = start\n",
        "\n",
        "while True:\n",
        "\n",
        "    "
      ],
      "execution_count": null,
      "outputs": []
    },
    {
      "cell_type": "code",
      "metadata": {
        "id": "IYzr0ch-VjMy"
      },
      "source": [
        "# 리스트 표현식\n",
        "a,b = map(int, input().split())\n",
        "while"
      ],
      "execution_count": null,
      "outputs": []
    },
    {
      "cell_type": "code",
      "metadata": {
        "colab": {
          "base_uri": "https://localhost:8080/"
        },
        "id": "TTpNyiTowlre",
        "outputId": "34a6d8ce-5287-46fd-de9a-66a816410250"
      },
      "source": [
        "[(a,b,c) for a in range(1,333)\n",
        "            for b in range(a+1, 500)\n",
        "                for c in range(b+1, 1000)\n",
        "                    if a + b+ c == 0 and a*a + b*c == c*c\n",
        "]"
      ],
      "execution_count": 1,
      "outputs": [
        {
          "output_type": "execute_result",
          "data": {
            "text/plain": [
              "[]"
            ]
          },
          "metadata": {
            "tags": []
          },
          "execution_count": 1
        }
      ]
    },
    {
      "cell_type": "markdown",
      "metadata": {
        "id": "ZyXj7upMwnHV"
      },
      "source": [
        "### 3. 디지털 시계"
      ]
    },
    {
      "cell_type": "code",
      "metadata": {
        "id": "sMSrZMubwnQV"
      },
      "source": [
        ""
      ],
      "execution_count": null,
      "outputs": []
    }
  ]
}