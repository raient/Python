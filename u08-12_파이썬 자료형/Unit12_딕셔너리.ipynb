{
  "nbformat": 4,
  "nbformat_minor": 0,
  "metadata": {
    "colab": {
      "name": "Unit12_딕셔너리.ipynb",
      "provenance": [],
      "collapsed_sections": []
    },
    "kernelspec": {
      "name": "python3",
      "display_name": "Python 3"
    },
    "language_info": {
      "name": "python"
    }
  },
  "cells": [
    {
      "cell_type": "markdown",
      "metadata": {
        "id": "QC8ir6DlRjIy"
      },
      "source": [
        "# Unit12_딕셔너리 사용하기"
      ]
    },
    {
      "cell_type": "code",
      "metadata": {
        "colab": {
          "base_uri": "https://localhost:8080/"
        },
        "id": "3-nsMkHNRvdB",
        "outputId": "80273af1-2148-46de-e698-1e22e2d3f011"
      },
      "source": [
        "lux = [490, 334, 550, 18.72]\n",
        "lux"
      ],
      "execution_count": 1,
      "outputs": [
        {
          "output_type": "execute_result",
          "data": {
            "text/plain": [
              "[490, 334, 550, 18.72]"
            ]
          },
          "metadata": {
            "tags": []
          },
          "execution_count": 1
        }
      ]
    },
    {
      "cell_type": "code",
      "metadata": {
        "colab": {
          "base_uri": "https://localhost:8080/"
        },
        "id": "XLwC3ZgISFmP",
        "outputId": "348cbd90-3bd0-4558-f16a-702c480c9c86"
      },
      "source": [
        "# 직접입력\n",
        "lux = {\n",
        "    'health': 490,\n",
        "    'mana' : 334,\n",
        "    'melee' : 550,\n",
        "    'armor': 18.72\n",
        "}\n",
        "lux"
      ],
      "execution_count": 3,
      "outputs": [
        {
          "output_type": "execute_result",
          "data": {
            "text/plain": [
              "{'armor': 18.72, 'health': 490, 'mana': 334, 'melee': 550}"
            ]
          },
          "metadata": {
            "tags": []
          },
          "execution_count": 3
        }
      ]
    },
    {
      "cell_type": "markdown",
      "metadata": {
        "id": "yCFC-3P2SSzA"
      },
      "source": [
        "## 12.1 딕셔너리 생성"
      ]
    },
    {
      "cell_type": "markdown",
      "metadata": {
        "id": "_DQ-PWNgSz2p"
      },
      "source": [
        "- 딕셔너리는 키와 밸류의 쌍을 원소로 구성한다.\n",
        "- 딕셔너리 = {키1: 값1, 키2: 값2}"
      ]
    },
    {
      "cell_type": "code",
      "metadata": {
        "colab": {
          "base_uri": "https://localhost:8080/"
        },
        "id": "b1L5xD8qUBou",
        "outputId": "968ce38f-0373-4d6f-bb45-a11649a75a6b"
      },
      "source": [
        "a = {}\n",
        "b = dict()\n",
        "a,b"
      ],
      "execution_count": 4,
      "outputs": [
        {
          "output_type": "execute_result",
          "data": {
            "text/plain": [
              "({}, {})"
            ]
          },
          "metadata": {
            "tags": []
          },
          "execution_count": 4
        }
      ]
    },
    {
      "cell_type": "code",
      "metadata": {
        "colab": {
          "base_uri": "https://localhost:8080/"
        },
        "id": "NECaIvWrVIPv",
        "outputId": "7aae08f2-660c-4e22-de26-d2f0cac5cbe4"
      },
      "source": [
        "a = set((1,2,3,))\n",
        "a"
      ],
      "execution_count": 5,
      "outputs": [
        {
          "output_type": "execute_result",
          "data": {
            "text/plain": [
              "{1, 2, 3}"
            ]
          },
          "metadata": {
            "tags": []
          },
          "execution_count": 5
        }
      ]
    },
    {
      "cell_type": "code",
      "metadata": {
        "colab": {
          "base_uri": "https://localhost:8080/"
        },
        "id": "1yT4yFuuVI7O",
        "outputId": "c6af185c-3682-43fc-be73-631d2806e929"
      },
      "source": [
        "# 두개의 리스트를 하나의 딕셔너리로 만드는 방법\n",
        "a = ['a','b', 'c', 'd']\n",
        "b = [1,2,3,4]\n",
        "dict(zip(a,b)) "
      ],
      "execution_count": 8,
      "outputs": [
        {
          "output_type": "execute_result",
          "data": {
            "text/plain": [
              "{'a': 1, 'b': 2, 'c': 3, 'd': 4}"
            ]
          },
          "metadata": {
            "tags": []
          },
          "execution_count": 8
        }
      ]
    },
    {
      "cell_type": "code",
      "metadata": {
        "id": "H3ZD5FSZVJIu"
      },
      "source": [
        ""
      ],
      "execution_count": null,
      "outputs": []
    },
    {
      "cell_type": "markdown",
      "metadata": {
        "id": "nucFWh1zSqzK"
      },
      "source": [
        "## 12.1.1  키 이름이 중복되면?\n"
      ]
    },
    {
      "cell_type": "markdown",
      "metadata": {
        "id": "nop0E9EYTqWR"
      },
      "source": [
        "- 키값이 동일하며, 나중에 입력된 값을 사용 "
      ]
    },
    {
      "cell_type": "markdown",
      "metadata": {
        "id": "nJOQdVnLTwRq"
      },
      "source": [
        "## 12.1.2  딕셔너리 키의 자료형"
      ]
    },
    {
      "cell_type": "markdown",
      "metadata": {
        "id": "AqCkHYNmT55P"
      },
      "source": [
        "딕셔너리의 키는 문자열뿐만 아니라 정수, 실수, 불도 사용할 수 있으며 자료형을 섞어서 사용해도 됩니다. 그리고 값에는 리스트, 딕셔너리 등을 포함하여 모든 자료형을 사용할 수 있습니다.\n"
      ]
    },
    {
      "cell_type": "markdown",
      "metadata": {
        "id": "8oyurDGdU29_"
      },
      "source": [
        "단, 키에는 리스트와 딕셔너리를 사용할수 없다.\n"
      ]
    },
    {
      "cell_type": "markdown",
      "metadata": {
        "id": "BahLQwxcU_fX"
      },
      "source": [
        "## 12.1.3  빈 딕셔너리 만들기\n"
      ]
    },
    {
      "cell_type": "code",
      "metadata": {
        "id": "UaVhJROqVBuG"
      },
      "source": [
        ""
      ],
      "execution_count": null,
      "outputs": []
    },
    {
      "cell_type": "markdown",
      "metadata": {
        "id": "tOyJZ71-WDWP"
      },
      "source": [
        "## 12.2 딕셔너리의 키에 접근하고 값 할당하기"
      ]
    },
    {
      "cell_type": "code",
      "metadata": {
        "colab": {
          "base_uri": "https://localhost:8080/"
        },
        "id": "RvBPYtotWEj-",
        "outputId": "fbb00c84-7bc4-4ff4-ab66-63960cfd825e"
      },
      "source": [
        "lux"
      ],
      "execution_count": 9,
      "outputs": [
        {
          "output_type": "execute_result",
          "data": {
            "text/plain": [
              "{'armor': 18.72, 'health': 490, 'mana': 334, 'melee': 550}"
            ]
          },
          "metadata": {
            "tags": []
          },
          "execution_count": 9
        }
      ]
    },
    {
      "cell_type": "code",
      "metadata": {
        "colab": {
          "base_uri": "https://localhost:8080/"
        },
        "id": "JAhskk--WHOX",
        "outputId": "ca3c5afb-3334-4c5a-f445-37584ffd60b7"
      },
      "source": [
        "lux['mana'], lux['armor']"
      ],
      "execution_count": 11,
      "outputs": [
        {
          "output_type": "execute_result",
          "data": {
            "text/plain": [
              "(334, 18.72)"
            ]
          },
          "metadata": {
            "tags": []
          },
          "execution_count": 11
        }
      ]
    },
    {
      "cell_type": "code",
      "metadata": {
        "colab": {
          "base_uri": "https://localhost:8080/"
        },
        "id": "04c-aqODWHVG",
        "outputId": "795cd533-ab75-488e-9419-f4e67ac18d2b"
      },
      "source": [
        "# 키값이 기존 딕셔너리에 없으면 새롭게 추가\n",
        "lux['new']  =10\n",
        "lux"
      ],
      "execution_count": 12,
      "outputs": [
        {
          "output_type": "execute_result",
          "data": {
            "text/plain": [
              "{'armor': 18.72, 'health': 490, 'mana': 334, 'melee': 550, 'new': 10}"
            ]
          },
          "metadata": {
            "tags": []
          },
          "execution_count": 12
        }
      ]
    },
    {
      "cell_type": "code",
      "metadata": {
        "colab": {
          "base_uri": "https://localhost:8080/"
        },
        "id": "ywPEfF-cWHam",
        "outputId": "91514191-1d19-4fbf-eb01-9632f65789f0"
      },
      "source": [
        "# 키값이 딕셔너리에 있으면 값이 변경\n",
        "lux['mana'] = 1100\n",
        "lux"
      ],
      "execution_count": 14,
      "outputs": [
        {
          "output_type": "execute_result",
          "data": {
            "text/plain": [
              "{'armor': 18.72, 'health': 490, 'mana': 1100, 'melee': 550, 'new': 10}"
            ]
          },
          "metadata": {
            "tags": []
          },
          "execution_count": 14
        }
      ]
    },
    {
      "cell_type": "code",
      "metadata": {
        "colab": {
          "base_uri": "https://localhost:8080/"
        },
        "id": "AhF0lUCpWHgm",
        "outputId": "022271c3-8c2c-498d-cf72-6aa5f5a565aa"
      },
      "source": [
        "'mana' in lux"
      ],
      "execution_count": 21,
      "outputs": [
        {
          "output_type": "execute_result",
          "data": {
            "text/plain": [
              "True"
            ]
          },
          "metadata": {
            "tags": []
          },
          "execution_count": 21
        }
      ]
    },
    {
      "cell_type": "code",
      "metadata": {
        "colab": {
          "base_uri": "https://localhost:8080/"
        },
        "id": "oqCJyacAWHnX",
        "outputId": "ec1041d2-de92-4bd9-9505-fa4336729b70"
      },
      "source": [
        "#'mana' 항목이 존재하면 기존 값 + 100을 하고, 없으면 50을 입력하라\n",
        "\n",
        "e = {'mana': 150}\n",
        "\n",
        "if 'mana' in e:\n",
        "  e['mana']= e['mana'] + 150\n",
        "else:\n",
        "  e['mana']= 50\n",
        "\n",
        "e"
      ],
      "execution_count": 24,
      "outputs": [
        {
          "output_type": "execute_result",
          "data": {
            "text/plain": [
              "{'mana': 300}"
            ]
          },
          "metadata": {
            "tags": []
          },
          "execution_count": 24
        }
      ]
    },
    {
      "cell_type": "markdown",
      "metadata": {
        "id": "z88-sELvZ-ZN"
      },
      "source": [
        "### 딕셔너리 키의 갯수"
      ]
    },
    {
      "cell_type": "code",
      "metadata": {
        "id": "-ZFGmozeWHvX"
      },
      "source": [
        "lux"
      ],
      "execution_count": null,
      "outputs": []
    },
    {
      "cell_type": "code",
      "metadata": {
        "colab": {
          "base_uri": "https://localhost:8080/"
        },
        "id": "WmrhxQhkWH1Y",
        "outputId": "63279621-cef0-45d7-d117-2d9b22a137d3"
      },
      "source": [
        "len(lux)"
      ],
      "execution_count": 27,
      "outputs": [
        {
          "output_type": "execute_result",
          "data": {
            "text/plain": [
              "5"
            ]
          },
          "metadata": {
            "tags": []
          },
          "execution_count": 27
        }
      ]
    },
    {
      "cell_type": "markdown",
      "metadata": {
        "id": "1CMjLNf-WH7W"
      },
      "source": [
        "###  자료형"
      ]
    },
    {
      "cell_type": "code",
      "metadata": {
        "colab": {
          "base_uri": "https://localhost:8080/"
        },
        "id": "VH9dSu3yaNdE",
        "outputId": "a7f2d88c-2709-4763-dcb3-dcf9ebd9fc27"
      },
      "source": [
        "type(lux)"
      ],
      "execution_count": 28,
      "outputs": [
        {
          "output_type": "execute_result",
          "data": {
            "text/plain": [
              "dict"
            ]
          },
          "metadata": {
            "tags": []
          },
          "execution_count": 28
        }
      ]
    },
    {
      "cell_type": "code",
      "metadata": {
        "colab": {
          "base_uri": "https://localhost:8080/"
        },
        "id": "KT1_iMZAWIBW",
        "outputId": "3c77c66e-9233-406a-cef5-b9ee568920fa"
      },
      "source": [
        "type(lux['armor'])"
      ],
      "execution_count": 29,
      "outputs": [
        {
          "output_type": "execute_result",
          "data": {
            "text/plain": [
              "float"
            ]
          },
          "metadata": {
            "tags": []
          },
          "execution_count": 29
        }
      ]
    },
    {
      "cell_type": "code",
      "metadata": {
        "colab": {
          "base_uri": "https://localhost:8080/"
        },
        "id": "1mAYvj_paI9s",
        "outputId": "b3e648f0-18c2-415f-8f54-a66c8a659867"
      },
      "source": [
        "lux['mana'], lux['armor']"
      ],
      "execution_count": 30,
      "outputs": [
        {
          "output_type": "execute_result",
          "data": {
            "text/plain": [
              "(1100, 18.72)"
            ]
          },
          "metadata": {
            "tags": []
          },
          "execution_count": 30
        }
      ]
    },
    {
      "cell_type": "markdown",
      "metadata": {
        "id": "v9FnpZVBblit"
      },
      "source": [
        "### 반복문, 추후 학습예정\n"
      ]
    },
    {
      "cell_type": "code",
      "metadata": {
        "colab": {
          "base_uri": "https://localhost:8080/"
        },
        "id": "gQrFEEIeaJIc",
        "outputId": "eb162349-be20-4c58-afb9-c985cb556a2e"
      },
      "source": [
        "lux.keys()\n"
      ],
      "execution_count": 31,
      "outputs": [
        {
          "output_type": "execute_result",
          "data": {
            "text/plain": [
              "dict_keys(['health', 'mana', 'melee', 'armor', 'new'])"
            ]
          },
          "metadata": {
            "tags": []
          },
          "execution_count": 31
        }
      ]
    },
    {
      "cell_type": "code",
      "metadata": {
        "colab": {
          "base_uri": "https://localhost:8080/"
        },
        "id": "ICe1H86xaJN-",
        "outputId": "ff063877-c3d0-4f3a-a671-5d68fa70be7c"
      },
      "source": [
        "for key in lux.keys():\n",
        "  print(f'{key}: {lux[key]}')"
      ],
      "execution_count": 32,
      "outputs": [
        {
          "output_type": "stream",
          "text": [
            "health: 490\n",
            "mana: 1100\n",
            "melee: 550\n",
            "armor: 18.72\n",
            "new: 10\n"
          ],
          "name": "stdout"
        }
      ]
    },
    {
      "cell_type": "code",
      "metadata": {
        "colab": {
          "base_uri": "https://localhost:8080/"
        },
        "id": "OnR4bw6WaJT8",
        "outputId": "833b9c87-2ca7-47e3-adf9-ca0ce5b23c15"
      },
      "source": [
        "for key, value in lux.items():\n",
        "  print(f'{key}: {value}')"
      ],
      "execution_count": 34,
      "outputs": [
        {
          "output_type": "stream",
          "text": [
            "health: 490\n",
            "mana: 1100\n",
            "melee: 550\n",
            "armor: 18.72\n",
            "new: 10\n"
          ],
          "name": "stdout"
        }
      ]
    },
    {
      "cell_type": "code",
      "metadata": {
        "id": "W9D0iYVSaJZN"
      },
      "source": [
        ""
      ],
      "execution_count": null,
      "outputs": []
    },
    {
      "cell_type": "code",
      "metadata": {
        "colab": {
          "base_uri": "https://localhost:8080/"
        },
        "id": "qfkfJ6F6aJe9",
        "outputId": "5c4875e7-221e-4bbc-e717-7628a61479ef"
      },
      "source": [
        "#'mana' 항목이 존재하면 기존 값 + 100을 하고, 없으면 50을 입력하라\n",
        "\n",
        "d = {'mana': 150}\n",
        "e ={}\n",
        "\n",
        "for item in[d,e]:\n",
        "  if 'mana' in item:\n",
        "    item['mana']= item['mana'] + 150\n",
        "  else:\n",
        "    item['mana']= 50\n",
        "\n",
        "d, e"
      ],
      "execution_count": 38,
      "outputs": [
        {
          "output_type": "execute_result",
          "data": {
            "text/plain": [
              "({'mana': 300}, {'mana': 50})"
            ]
          },
          "metadata": {
            "tags": []
          },
          "execution_count": 38
        }
      ]
    },
    {
      "cell_type": "code",
      "metadata": {
        "id": "-Y2Zd47AaJlc"
      },
      "source": [
        ""
      ],
      "execution_count": null,
      "outputs": []
    },
    {
      "cell_type": "code",
      "metadata": {
        "id": "D_MRQXzBaJrF"
      },
      "source": [
        ""
      ],
      "execution_count": null,
      "outputs": []
    },
    {
      "cell_type": "code",
      "metadata": {
        "id": "jaAmjKlAWIHm"
      },
      "source": [
        ""
      ],
      "execution_count": null,
      "outputs": []
    },
    {
      "cell_type": "code",
      "metadata": {
        "id": "CeZKVZH8WIO2"
      },
      "source": [
        ""
      ],
      "execution_count": null,
      "outputs": []
    },
    {
      "cell_type": "code",
      "metadata": {
        "id": "hJwsVM9KWIVW"
      },
      "source": [
        ""
      ],
      "execution_count": null,
      "outputs": []
    },
    {
      "cell_type": "code",
      "metadata": {
        "id": "Dq46BFeBWIb4"
      },
      "source": [
        ""
      ],
      "execution_count": null,
      "outputs": []
    }
  ]
}