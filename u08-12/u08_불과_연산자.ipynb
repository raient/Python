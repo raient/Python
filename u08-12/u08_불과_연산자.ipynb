{
  "nbformat": 4,
  "nbformat_minor": 0,
  "metadata": {
    "colab": {
      "name": "u08_불과 연산자.ipynb",
      "provenance": [],
      "collapsed_sections": []
    },
    "kernelspec": {
      "name": "python3",
      "display_name": "Python 3"
    },
    "language_info": {
      "name": "python"
    }
  },
  "cells": [
    {
      "cell_type": "markdown",
      "metadata": {
        "id": "PynlstF4elD9"
      },
      "source": [
        "# Unit 8. 불과 비교 / 논리 연산자"
      ]
    },
    {
      "cell_type": "markdown",
      "metadata": {
        "id": "i5fBqUEEe0yX"
      },
      "source": [
        "## 8.1 불(Bool)과 비교연산자"
      ]
    },
    {
      "cell_type": "code",
      "metadata": {
        "colab": {
          "base_uri": "https://localhost:8080/"
        },
        "id": "Dzrc4Xr-e6k3",
        "outputId": "cd569e6b-afd2-48b9-edd4-2f8b205c4507"
      },
      "source": [
        "True, False"
      ],
      "execution_count": null,
      "outputs": [
        {
          "output_type": "execute_result",
          "data": {
            "text/plain": [
              "(True, False)"
            ]
          },
          "metadata": {
            "tags": []
          },
          "execution_count": 1
        }
      ]
    },
    {
      "cell_type": "code",
      "metadata": {
        "colab": {
          "base_uri": "https://localhost:8080/"
        },
        "id": "odVy-KANe7_g",
        "outputId": "59163227-11bd-4d2c-b2c8-42ed0b6fb9b0"
      },
      "source": [
        "# >, >=, <, <=, ==, !=\n",
        "10 >= 5"
      ],
      "execution_count": null,
      "outputs": [
        {
          "output_type": "execute_result",
          "data": {
            "text/plain": [
              "True"
            ]
          },
          "metadata": {
            "tags": []
          },
          "execution_count": 2
        }
      ]
    },
    {
      "cell_type": "code",
      "metadata": {
        "colab": {
          "base_uri": "https://localhost:8080/"
        },
        "id": "cavpKiIigJtO",
        "outputId": "b13ecdb6-0f3e-4715-85c2-5ae8ac4ca5d9"
      },
      "source": [
        "a = 10 != 5\n",
        "a"
      ],
      "execution_count": null,
      "outputs": [
        {
          "output_type": "execute_result",
          "data": {
            "text/plain": [
              "True"
            ]
          },
          "metadata": {
            "tags": []
          },
          "execution_count": 4
        }
      ]
    },
    {
      "cell_type": "markdown",
      "metadata": {
        "id": "JBB2gWHggQT-"
      },
      "source": [
        "## 8.2 논리 연산자"
      ]
    },
    {
      "cell_type": "markdown",
      "metadata": {
        "id": "2h3G_MMfglEJ"
      },
      "source": [
        "- &, |,  !"
      ]
    },
    {
      "cell_type": "code",
      "metadata": {
        "colab": {
          "base_uri": "https://localhost:8080/"
        },
        "id": "mnxC-VRzgtY-",
        "outputId": "2e835b0f-3b7d-4348-ac66-d653bc5f01af"
      },
      "source": [
        "not True and False or not False"
      ],
      "execution_count": null,
      "outputs": [
        {
          "output_type": "execute_result",
          "data": {
            "text/plain": [
              "True"
            ]
          },
          "metadata": {
            "tags": []
          },
          "execution_count": 7
        }
      ]
    },
    {
      "cell_type": "code",
      "metadata": {
        "colab": {
          "base_uri": "https://localhost:8080/"
        },
        "id": "eBTaXs-ykIE_",
        "outputId": "860bae87-f65a-4eb6-d9f7-db14cd149f15"
      },
      "source": [
        "((not True) and False) or (not False)"
      ],
      "execution_count": null,
      "outputs": [
        {
          "output_type": "execute_result",
          "data": {
            "text/plain": [
              "True"
            ]
          },
          "metadata": {
            "tags": []
          },
          "execution_count": 8
        }
      ]
    },
    {
      "cell_type": "code",
      "metadata": {
        "colab": {
          "base_uri": "https://localhost:8080/"
        },
        "id": "v2-DzI-YkSt_",
        "outputId": "ea405949-ac6b-4d7a-d6aa-56c7b6ac1d14"
      },
      "source": [
        "# x > 10, x < 5\n",
        "x =6\n",
        "x > 10 or x< 5"
      ],
      "execution_count": null,
      "outputs": [
        {
          "output_type": "execute_result",
          "data": {
            "text/plain": [
              "False"
            ]
          },
          "metadata": {
            "tags": []
          },
          "execution_count": 10
        }
      ]
    },
    {
      "cell_type": "code",
      "metadata": {
        "colab": {
          "base_uri": "https://localhost:8080/"
        },
        "id": "4zpjb5dFkguI",
        "outputId": "15715712-5f8d-4490-83f4-1561d2a444b6"
      },
      "source": [
        "#  파이썬에서만 쓸수 있는 표현\n",
        "5 < x < 10\n",
        "\n",
        "# 기타 프로그램 문법\n",
        "x >5 and x < 10"
      ],
      "execution_count": null,
      "outputs": [
        {
          "output_type": "execute_result",
          "data": {
            "text/plain": [
              "True"
            ]
          },
          "metadata": {
            "tags": []
          },
          "execution_count": 11
        }
      ]
    },
    {
      "cell_type": "markdown",
      "metadata": {
        "id": "oxbn-fm3kySv"
      },
      "source": [
        "### 정수, 실수, 문자열"
      ]
    },
    {
      "cell_type": "code",
      "metadata": {
        "colab": {
          "base_uri": "https://localhost:8080/"
        },
        "id": "luY7WF7NlTAI",
        "outputId": "8ddc087e-024b-41a6-a7ee-2fc2dc6aa0b0"
      },
      "source": [
        "bool(0), bool(1), bool(4)"
      ],
      "execution_count": null,
      "outputs": [
        {
          "output_type": "execute_result",
          "data": {
            "text/plain": [
              "(False, True, True)"
            ]
          },
          "metadata": {
            "tags": []
          },
          "execution_count": 13
        }
      ]
    },
    {
      "cell_type": "code",
      "metadata": {
        "colab": {
          "base_uri": "https://localhost:8080/"
        },
        "id": "k2HQLf0JlhCQ",
        "outputId": "2dab1bc8-5637-4c39-ef86-51be49448413"
      },
      "source": [
        "bool(''), bool('s')"
      ],
      "execution_count": null,
      "outputs": [
        {
          "output_type": "execute_result",
          "data": {
            "text/plain": [
              "(False, True)"
            ]
          },
          "metadata": {
            "tags": []
          },
          "execution_count": 15
        }
      ]
    },
    {
      "cell_type": "code",
      "metadata": {
        "colab": {
          "base_uri": "https://localhost:8080/"
        },
        "id": "qPws5YClloe_",
        "outputId": "085ddf3d-5281-4337-a1bd-f348b73bdf37"
      },
      "source": [
        "if 4:\n",
        "  print('4 is True')"
      ],
      "execution_count": null,
      "outputs": [
        {
          "output_type": "stream",
          "text": [
            "4 is True\n"
          ],
          "name": "stdout"
        }
      ]
    },
    {
      "cell_type": "markdown",
      "metadata": {
        "id": "H8-Sj7v1m5QY"
      },
      "source": [
        "### Short-circuit evaluation"
      ]
    },
    {
      "cell_type": "code",
      "metadata": {
        "colab": {
          "base_uri": "https://localhost:8080/"
        },
        "id": "J3a7evdflyiQ",
        "outputId": "a26b3224-e88a-46c6-b1a6-8c21a28767d2"
      },
      "source": [
        "1 or 'python'"
      ],
      "execution_count": null,
      "outputs": [
        {
          "output_type": "execute_result",
          "data": {
            "text/plain": [
              "1"
            ]
          },
          "metadata": {
            "tags": []
          },
          "execution_count": 19
        }
      ]
    },
    {
      "cell_type": "code",
      "metadata": {
        "colab": {
          "base_uri": "https://localhost:8080/",
          "height": 36
        },
        "id": "-XvbgswVmhsw",
        "outputId": "e19188d5-13b1-49ce-da6f-b95ef48a917a"
      },
      "source": [
        "0 or 'python'"
      ],
      "execution_count": null,
      "outputs": [
        {
          "output_type": "execute_result",
          "data": {
            "application/vnd.google.colaboratory.intrinsic+json": {
              "type": "string"
            },
            "text/plain": [
              "'python'"
            ]
          },
          "metadata": {
            "tags": []
          },
          "execution_count": 20
        }
      ]
    },
    {
      "cell_type": "code",
      "metadata": {
        "colab": {
          "base_uri": "https://localhost:8080/",
          "height": 36
        },
        "id": "O-fOf8gQmke5",
        "outputId": "c4bbbab3-f38d-480e-cc28-53f1d69eb06a"
      },
      "source": [
        "1 and 'python'"
      ],
      "execution_count": null,
      "outputs": [
        {
          "output_type": "execute_result",
          "data": {
            "application/vnd.google.colaboratory.intrinsic+json": {
              "type": "string"
            },
            "text/plain": [
              "'python'"
            ]
          },
          "metadata": {
            "tags": []
          },
          "execution_count": 21
        }
      ]
    },
    {
      "cell_type": "code",
      "metadata": {
        "colab": {
          "base_uri": "https://localhost:8080/"
        },
        "id": "xt1HA2cnmnSI",
        "outputId": "595d0ba5-9a88-4211-87ee-4597063de479"
      },
      "source": [
        "0 and 'python'"
      ],
      "execution_count": null,
      "outputs": [
        {
          "output_type": "execute_result",
          "data": {
            "text/plain": [
              "0"
            ]
          },
          "metadata": {
            "tags": []
          },
          "execution_count": 22
        }
      ]
    },
    {
      "cell_type": "code",
      "metadata": {
        "id": "8xnwCbuJmo5q"
      },
      "source": [
        ""
      ],
      "execution_count": null,
      "outputs": []
    }
  ]
}