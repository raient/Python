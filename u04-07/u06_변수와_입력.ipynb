{
  "nbformat": 4,
  "nbformat_minor": 2,
  "metadata": {
    "colab": {
      "name": "u06_변수와 입력.ipynb",
      "provenance": [],
      "collapsed_sections": []
    },
    "kernelspec": {
      "name": "python3",
      "display_name": "Python 3.8.10 64-bit ('base': conda)"
    },
    "language_info": {
      "name": "python",
      "version": "3.8.10",
      "mimetype": "text/x-python",
      "codemirror_mode": {
        "name": "ipython",
        "version": 3
      },
      "pygments_lexer": "ipython3",
      "nbconvert_exporter": "python",
      "file_extension": ".py"
    },
    "interpreter": {
      "hash": "6d46af94c2bbce495f1e668725902fa517c90b1782bcfe2fce0dd9868df553d3"
    }
  },
  "cells": [
    {
      "cell_type": "markdown",
      "source": [
        "# Unit 6. 변수와 입력"
      ],
      "metadata": {
        "id": "9z4qsQrmLmQ6"
      }
    },
    {
      "cell_type": "markdown",
      "source": [
        "## 6.1 변수 만들기"
      ],
      "metadata": {
        "id": "49fMRizCL2SY"
      }
    },
    {
      "cell_type": "code",
      "execution_count": 1,
      "source": [
        "x =10\r\n",
        "x"
      ],
      "outputs": [
        {
          "output_type": "execute_result",
          "data": {
            "text/plain": [
              "10"
            ]
          },
          "metadata": {},
          "execution_count": 1
        }
      ],
      "metadata": {
        "colab": {
          "base_uri": "https://localhost:8080/"
        },
        "id": "nxYfDQZxL8Sy",
        "outputId": "2cba309a-f268-42fd-a849-aa5f6504c0b3"
      }
    },
    {
      "cell_type": "markdown",
      "source": [
        "- 영문 문자와 숫자를 사용할 수 있습니다.\n",
        "대소문자를 구분합니다.\n",
        "- 문자부터 시작해야 하며 숫자부터 시작하면 안 됩니다.\n",
        "- _(밑줄 문자)로 시작할 수 있습니다.\n",
        "- 특수 문자(+, -, *, /, $, @, &, % 등)는 사용할 수 없습니다.\n",
        "- 파이썬의 키워드(if, for, while, and, or 등)는 사용할 수 없습니다."
      ],
      "metadata": {
        "id": "rvsGmw3RMZw5"
      }
    },
    {
      "cell_type": "code",
      "execution_count": 2,
      "source": [
        "x = 10\r\n",
        "x\r\n",
        "y = 25\r\n",
        "y"
      ],
      "outputs": [
        {
          "output_type": "execute_result",
          "data": {
            "text/plain": [
              "25"
            ]
          },
          "metadata": {},
          "execution_count": 2
        }
      ],
      "metadata": {
        "colab": {
          "base_uri": "https://localhost:8080/"
        },
        "id": "HpHGulYgM1WQ",
        "outputId": "3d225f67-cbad-47ee-f936-fae608623965"
      }
    },
    {
      "cell_type": "code",
      "execution_count": 3,
      "source": [
        "s = 'helo world'\r\n",
        "s"
      ],
      "outputs": [
        {
          "output_type": "execute_result",
          "data": {
            "text/plain": [
              "'helo world'"
            ]
          },
          "metadata": {},
          "execution_count": 3
        }
      ],
      "metadata": {
        "colab": {
          "base_uri": "https://localhost:8080/",
          "height": 36
        },
        "id": "PfOICVhzNMNi",
        "outputId": "5b3fad88-5cdd-4a5b-dfa3-2e20cf4ce578"
      }
    },
    {
      "cell_type": "code",
      "execution_count": 4,
      "source": [
        "type(x), type(s)"
      ],
      "outputs": [
        {
          "output_type": "execute_result",
          "data": {
            "text/plain": [
              "(int, str)"
            ]
          },
          "metadata": {},
          "execution_count": 4
        }
      ],
      "metadata": {
        "colab": {
          "base_uri": "https://localhost:8080/"
        },
        "id": "JCdMlDXPNQKB",
        "outputId": "97f428b5-f19b-4c93-bc71-e371e85d546b"
      }
    },
    {
      "cell_type": "code",
      "execution_count": 5,
      "source": [
        "x,y,z = 10, 20, 30\r\n",
        "x"
      ],
      "outputs": [
        {
          "output_type": "execute_result",
          "data": {
            "text/plain": [
              "10"
            ]
          },
          "metadata": {},
          "execution_count": 5
        }
      ],
      "metadata": {
        "colab": {
          "base_uri": "https://localhost:8080/"
        },
        "id": "T7Yrr2NENcuh",
        "outputId": "82b60131-ca7c-44a9-e705-a7fce58f75ce"
      }
    },
    {
      "cell_type": "code",
      "execution_count": 8,
      "source": [
        "y"
      ],
      "outputs": [
        {
          "output_type": "execute_result",
          "data": {
            "text/plain": [
              "20"
            ]
          },
          "metadata": {
            "tags": []
          },
          "execution_count": 8
        }
      ],
      "metadata": {
        "colab": {
          "base_uri": "https://localhost:8080/"
        },
        "id": "CY2Z8oPbNozx",
        "outputId": "1f8f131c-e971-409e-ea7e-74bac0e4ca8c"
      }
    },
    {
      "cell_type": "code",
      "execution_count": 9,
      "source": [
        "z"
      ],
      "outputs": [
        {
          "output_type": "execute_result",
          "data": {
            "text/plain": [
              "30"
            ]
          },
          "metadata": {
            "tags": []
          },
          "execution_count": 9
        }
      ],
      "metadata": {
        "colab": {
          "base_uri": "https://localhost:8080/"
        },
        "id": "eT43e4v0NpUp",
        "outputId": "e1108fc1-7bcd-4cbe-e1b1-3658c1e5dc23"
      }
    },
    {
      "cell_type": "code",
      "execution_count": 12,
      "source": [
        "# Null\n",
        "x = None\n",
        "print(x)"
      ],
      "outputs": [
        {
          "output_type": "stream",
          "name": "stdout",
          "text": [
            "None\n"
          ]
        }
      ],
      "metadata": {
        "colab": {
          "base_uri": "https://localhost:8080/"
        },
        "id": "td80HD2ONqMZ",
        "outputId": "54f0d10d-3d7b-4f84-aff2-154e9f3b16d3"
      }
    },
    {
      "cell_type": "markdown",
      "source": [
        "## 6.2 변수로 계산"
      ],
      "metadata": {
        "id": "zpsIuNUUOPmR"
      }
    },
    {
      "cell_type": "code",
      "execution_count": 17,
      "source": [
        "a = 10\n",
        "print(a)\n",
        "#a = a+10\n",
        "a += 10 # a = a += 10\n",
        "print(a)"
      ],
      "outputs": [
        {
          "output_type": "stream",
          "name": "stdout",
          "text": [
            "10\n",
            "20\n"
          ]
        }
      ],
      "metadata": {
        "colab": {
          "base_uri": "https://localhost:8080/"
        },
        "id": "cPVcYeBOOiVL",
        "outputId": "227c844e-5fa9-416e-c862-a59e5365d7c2"
      }
    },
    {
      "cell_type": "code",
      "execution_count": 22,
      "source": [
        "sum, prod = 0, 1\n",
        "for i in range(1,11):\n",
        "  sum += i\n",
        "  prod *= i \n",
        "sum, prod\n"
      ],
      "outputs": [
        {
          "output_type": "execute_result",
          "data": {
            "text/plain": [
              "(55, 3628800)"
            ]
          },
          "metadata": {
            "tags": []
          },
          "execution_count": 22
        }
      ],
      "metadata": {
        "colab": {
          "base_uri": "https://localhost:8080/"
        },
        "id": "KQv2dfKbOt1y",
        "outputId": "111fe743-af3e-4f8a-dd13-1bc79f5d79a6"
      }
    },
    {
      "cell_type": "code",
      "execution_count": 23,
      "source": [
        "1 - prod"
      ],
      "outputs": [
        {
          "output_type": "execute_result",
          "data": {
            "text/plain": [
              "-3628799"
            ]
          },
          "metadata": {
            "tags": []
          },
          "execution_count": 23
        }
      ],
      "metadata": {
        "colab": {
          "base_uri": "https://localhost:8080/"
        },
        "id": "xw7ydhv2QHAi",
        "outputId": "9803b611-427c-41fa-c66b-80606c84a971"
      }
    },
    {
      "cell_type": "markdown",
      "source": [
        "## 6.3입력(input)"
      ],
      "metadata": {
        "id": "DPKVAu97QJep"
      }
    },
    {
      "cell_type": "code",
      "execution_count": 24,
      "source": [
        "input()"
      ],
      "outputs": [
        {
          "output_type": "stream",
          "name": "stdout",
          "text": [
            "동해물과 백두산이\n"
          ]
        },
        {
          "output_type": "execute_result",
          "data": {
            "text/plain": [
              "'동해물과 백두산이'"
            ],
            "application/vnd.google.colaboratory.intrinsic+json": {
              "type": "string"
            }
          },
          "metadata": {
            "tags": []
          },
          "execution_count": 24
        }
      ],
      "metadata": {
        "colab": {
          "base_uri": "https://localhost:8080/",
          "height": 55
        },
        "id": "TVIbz0yLQKWq",
        "outputId": "367e1bfe-11cc-4e90-ed0a-7f8ad223798f"
      }
    },
    {
      "cell_type": "code",
      "execution_count": 25,
      "source": [
        "x = input()"
      ],
      "outputs": [
        {
          "output_type": "stream",
          "name": "stdout",
          "text": [
            "hello, world!\n"
          ]
        }
      ],
      "metadata": {
        "colab": {
          "base_uri": "https://localhost:8080/"
        },
        "id": "4T71Uyc3QKfq",
        "outputId": "beabe426-5c86-44f3-b822-f913917a2bcf"
      }
    },
    {
      "cell_type": "code",
      "execution_count": 26,
      "source": [
        "x"
      ],
      "outputs": [
        {
          "output_type": "execute_result",
          "data": {
            "text/plain": [
              "'hello, world!'"
            ],
            "application/vnd.google.colaboratory.intrinsic+json": {
              "type": "string"
            }
          },
          "metadata": {
            "tags": []
          },
          "execution_count": 26
        }
      ],
      "metadata": {
        "colab": {
          "base_uri": "https://localhost:8080/",
          "height": 36
        },
        "id": "Z3jDPJxrQKoa",
        "outputId": "475231e7-603f-4c86-bc8b-9de7b4c4b6eb"
      }
    },
    {
      "cell_type": "code",
      "execution_count": 28,
      "source": [
        "x = input('1에서 10사이의 정수값을 입력하시오 >')"
      ],
      "outputs": [
        {
          "output_type": "stream",
          "name": "stdout",
          "text": [
            "1에서 10까지의 정수값을 입력하시오 >10\n"
          ]
        }
      ],
      "metadata": {
        "colab": {
          "base_uri": "https://localhost:8080/"
        },
        "id": "ncde8UmYQKw5",
        "outputId": "7c91c7c7-f93f-4279-d0b6-0d928b34e349"
      }
    },
    {
      "cell_type": "code",
      "execution_count": 34,
      "source": [
        "# 입력한 두 정수의 합을 구하시오\n",
        "\n",
        "a = int(input('첫번쨰 정수'))\n",
        "b =int(input('두번쨰 정수'))\n",
        "a + b"
      ],
      "outputs": [
        {
          "output_type": "stream",
          "name": "stdout",
          "text": [
            "첫번쨰 정수101\n",
            "두번쨰 정수202\n"
          ]
        },
        {
          "output_type": "execute_result",
          "data": {
            "text/plain": [
              "303"
            ]
          },
          "metadata": {
            "tags": []
          },
          "execution_count": 34
        }
      ],
      "metadata": {
        "colab": {
          "base_uri": "https://localhost:8080/"
        },
        "id": "rPver_s3Qu6c",
        "outputId": "3a75bbd7-c74a-445a-c935-3f53a04a7952"
      }
    },
    {
      "cell_type": "markdown",
      "source": [
        "## 6.4 입력값 두개"
      ],
      "metadata": {
        "id": "0zGKOxLnRRWO"
      }
    },
    {
      "cell_type": "code",
      "execution_count": 39,
      "source": [
        "s.split()"
      ],
      "outputs": [
        {
          "output_type": "execute_result",
          "data": {
            "text/plain": [
              "['helo', 'world']"
            ]
          },
          "metadata": {
            "tags": []
          },
          "execution_count": 39
        }
      ],
      "metadata": {
        "colab": {
          "base_uri": "https://localhost:8080/"
        },
        "id": "H3B9jEpwSXmM",
        "outputId": "4b407097-1548-4a0d-8227-2fceb48b12bd"
      }
    },
    {
      "cell_type": "code",
      "execution_count": 40,
      "source": [
        "a, b =s.split()\n",
        "a, b"
      ],
      "outputs": [
        {
          "output_type": "execute_result",
          "data": {
            "text/plain": [
              "('helo', 'world')"
            ]
          },
          "metadata": {
            "tags": []
          },
          "execution_count": 40
        }
      ],
      "metadata": {
        "colab": {
          "base_uri": "https://localhost:8080/"
        },
        "id": "FFFEuQZNSebD",
        "outputId": "66fa0830-0c40-468d-8a89-4af94bac6811"
      }
    },
    {
      "cell_type": "code",
      "execution_count": 42,
      "source": [
        "a, b,c = 'A quick brown'.split()\n",
        "a, b, c"
      ],
      "outputs": [
        {
          "output_type": "execute_result",
          "data": {
            "text/plain": [
              "('A', 'quick', 'brown')"
            ]
          },
          "metadata": {
            "tags": []
          },
          "execution_count": 42
        }
      ],
      "metadata": {
        "colab": {
          "base_uri": "https://localhost:8080/"
        },
        "id": "jwCOfUixTHrh",
        "outputId": "a2c7aa42-2b4e-44fd-f463-5d93f5ad6812"
      }
    },
    {
      "cell_type": "code",
      "execution_count": 49,
      "source": [
        "a, b = input('정수 두개 입력 >').split()\n",
        "# 스페이스바로 정수 구분"
      ],
      "outputs": [
        {
          "output_type": "stream",
          "name": "stdout",
          "text": [
            "정수 두개 입력 >10 20\n"
          ]
        }
      ],
      "metadata": {
        "colab": {
          "base_uri": "https://localhost:8080/"
        },
        "id": "p1kbyOsSTONM",
        "outputId": "9489e007-ae62-4fc4-ea8c-2a1b7fcd1919"
      }
    },
    {
      "cell_type": "code",
      "execution_count": 50,
      "source": [
        "a = int(a)\n",
        "b= int(b)\n",
        "a + b"
      ],
      "outputs": [
        {
          "output_type": "execute_result",
          "data": {
            "text/plain": [
              "30"
            ]
          },
          "metadata": {
            "tags": []
          },
          "execution_count": 50
        }
      ],
      "metadata": {
        "colab": {
          "base_uri": "https://localhost:8080/"
        },
        "id": "wLd7ZCZaV7Il",
        "outputId": "661b6c03-ce3c-4112-9fa4-16c027da4de4"
      }
    },
    {
      "cell_type": "code",
      "execution_count": 51,
      "source": [
        "a, b = input('정수 두개 입력 >').split(',')\n",
        "# 스페이스바로 정수 구분"
      ],
      "outputs": [
        {
          "output_type": "stream",
          "name": "stdout",
          "text": [
            "정수 두개 입력 >15, 20\n"
          ]
        }
      ],
      "metadata": {
        "colab": {
          "base_uri": "https://localhost:8080/"
        },
        "id": "JWoCyrBjWZPz",
        "outputId": "d0cab3e1-2dc3-4312-88b6-ab9b0559959f"
      }
    },
    {
      "cell_type": "code",
      "execution_count": 52,
      "source": [
        "a = int(a)\n",
        "b= int(b)\n",
        "a + b"
      ],
      "outputs": [
        {
          "output_type": "execute_result",
          "data": {
            "text/plain": [
              "35"
            ]
          },
          "metadata": {
            "tags": []
          },
          "execution_count": 52
        }
      ],
      "metadata": {
        "colab": {
          "base_uri": "https://localhost:8080/"
        },
        "id": "3W9Cmb2tW-J1",
        "outputId": "992d1f45-a05a-4fad-c67b-15bdd336067d"
      }
    },
    {
      "cell_type": "code",
      "execution_count": 53,
      "source": [
        "a, b = map(int, [10.2, 11.4])\n",
        "a, b"
      ],
      "outputs": [
        {
          "output_type": "execute_result",
          "data": {
            "text/plain": [
              "(10, 11)"
            ]
          },
          "metadata": {
            "tags": []
          },
          "execution_count": 53
        }
      ],
      "metadata": {
        "colab": {
          "base_uri": "https://localhost:8080/"
        },
        "id": "2F50DwaMXCSM",
        "outputId": "bd9b0a3c-0d29-41ae-fc17-fb355bba1118"
      }
    },
    {
      "cell_type": "code",
      "execution_count": 55,
      "source": [
        "a,b = map(int, input('정수 두개 입력>').split())\n",
        "a + b"
      ],
      "outputs": [
        {
          "output_type": "stream",
          "name": "stdout",
          "text": [
            "정수 두개 입력>18 56\n"
          ]
        },
        {
          "output_type": "execute_result",
          "data": {
            "text/plain": [
              "74"
            ]
          },
          "metadata": {
            "tags": []
          },
          "execution_count": 55
        }
      ],
      "metadata": {
        "colab": {
          "base_uri": "https://localhost:8080/"
        },
        "id": "AxXEo5IaXNIj",
        "outputId": "a7d92a04-3c32-49f3-b606-126133805c55"
      }
    },
    {
      "cell_type": "code",
      "execution_count": 56,
      "source": [
        "import math\n",
        "a, b = map(math.sqrt, [1,4])\n",
        "a, b"
      ],
      "outputs": [
        {
          "output_type": "execute_result",
          "data": {
            "text/plain": [
              "(1.0, 2.0)"
            ]
          },
          "metadata": {
            "tags": []
          },
          "execution_count": 56
        }
      ],
      "metadata": {
        "colab": {
          "base_uri": "https://localhost:8080/"
        },
        "id": "B5xvScJuXYFU",
        "outputId": "6086e461-d169-4a7b-825f-b5d9d3066f9f"
      }
    },
    {
      "cell_type": "code",
      "execution_count": null,
      "source": [],
      "outputs": [],
      "metadata": {
        "id": "b3icL6JuX1Wc"
      }
    }
  ]
}