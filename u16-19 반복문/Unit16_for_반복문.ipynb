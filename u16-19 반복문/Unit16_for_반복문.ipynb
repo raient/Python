{
  "nbformat": 4,
  "nbformat_minor": 2,
  "metadata": {
    "colab": {
      "name": "Unit16_for 반복문.ipynb",
      "provenance": [],
      "collapsed_sections": []
    },
    "kernelspec": {
      "name": "python3",
      "display_name": "Python 3.8.10 64-bit ('base': conda)"
    },
    "language_info": {
      "name": "python",
      "version": "3.8.10",
      "mimetype": "text/x-python",
      "codemirror_mode": {
        "name": "ipython",
        "version": 3
      },
      "pygments_lexer": "ipython3",
      "nbconvert_exporter": "python",
      "file_extension": ".py"
    },
    "interpreter": {
      "hash": "6d46af94c2bbce495f1e668725902fa517c90b1782bcfe2fce0dd9868df553d3"
    }
  },
  "cells": [
    {
      "cell_type": "markdown",
      "source": [
        "# Unit 16. for 반복문"
      ],
      "metadata": {
        "id": "ZbMZCH-EsvpA"
      }
    },
    {
      "cell_type": "markdown",
      "source": [
        "## 16.1 for와 range"
      ],
      "metadata": {
        "id": "Kn3gzEmHtMn_"
      }
    },
    {
      "cell_type": "code",
      "execution_count": 1,
      "source": [
        "for i in range(10): #range 대신에 list를 쓸수 있다\r\n",
        "    print('Hello, world!')\r\n"
      ],
      "outputs": [
        {
          "output_type": "stream",
          "name": "stdout",
          "text": [
            "Hello, world!\n",
            "Hello, world!\n",
            "Hello, world!\n",
            "Hello, world!\n",
            "Hello, world!\n",
            "Hello, world!\n",
            "Hello, world!\n",
            "Hello, world!\n",
            "Hello, world!\n",
            "Hello, world!\n"
          ]
        }
      ],
      "metadata": {
        "colab": {
          "base_uri": "https://localhost:8080/"
        },
        "id": "VLugRKj0tPUd",
        "outputId": "7e120709-ab51-43c3-8113-51f6c5986629"
      }
    },
    {
      "cell_type": "code",
      "execution_count": 4,
      "source": [
        "l = list( i for i in range(1,11))\r\n",
        "\r\n",
        "print(l)\r\n",
        "\r\n",
        "for i in l:\r\n",
        "    print(i)"
      ],
      "outputs": [
        {
          "output_type": "stream",
          "name": "stdout",
          "text": [
            "[1, 2, 3, 4, 5, 6, 7, 8, 9, 10]\n",
            "1\n",
            "2\n",
            "3\n",
            "4\n",
            "5\n",
            "6\n",
            "7\n",
            "8\n",
            "9\n",
            "10\n"
          ]
        }
      ],
      "metadata": {}
    },
    {
      "cell_type": "code",
      "execution_count": 2,
      "source": [
        "for i in range(10): #range 대신에 list를 쓸수 있다\r\n",
        "    print('Hello, world!', i)\r\n"
      ],
      "outputs": [
        {
          "output_type": "stream",
          "name": "stdout",
          "text": [
            "Hello, world! 0\n",
            "Hello, world! 1\n",
            "Hello, world! 2\n",
            "Hello, world! 3\n",
            "Hello, world! 4\n",
            "Hello, world! 5\n",
            "Hello, world! 6\n",
            "Hello, world! 7\n",
            "Hello, world! 8\n",
            "Hello, world! 9\n"
          ]
        }
      ],
      "metadata": {
        "colab": {
          "base_uri": "https://localhost:8080/"
        },
        "id": "0oulCme_tkws",
        "outputId": "c126d60c-4b83-4bf9-ec59-2c6abd513356"
      }
    },
    {
      "cell_type": "code",
      "execution_count": 3,
      "source": [
        "for _ in range(5): #변수가 사용되지 않을 때는 _ 를 사용\r\n",
        "    print('Hello, world!')\r\n"
      ],
      "outputs": [
        {
          "output_type": "stream",
          "name": "stdout",
          "text": [
            "Hello, world!\n",
            "Hello, world!\n",
            "Hello, world!\n",
            "Hello, world!\n",
            "Hello, world!\n"
          ]
        }
      ],
      "metadata": {
        "colab": {
          "base_uri": "https://localhost:8080/"
        },
        "id": "_mjQgXWdvVH1",
        "outputId": "37125825-15d6-44ad-c4c1-9f8bc4a0be08"
      }
    },
    {
      "cell_type": "markdown",
      "source": [
        "## 16.2 for와 range의 응용"
      ],
      "metadata": {
        "id": "ZnK7QZ5Nvjug"
      }
    },
    {
      "cell_type": "code",
      "execution_count": 4,
      "source": [
        "for i in range(6, 10): \r\n",
        "    print('Hello, world!', i)"
      ],
      "outputs": [
        {
          "output_type": "stream",
          "name": "stdout",
          "text": [
            "Hello, world! 6\n",
            "Hello, world! 7\n",
            "Hello, world! 8\n",
            "Hello, world! 9\n"
          ]
        }
      ],
      "metadata": {
        "colab": {
          "base_uri": "https://localhost:8080/"
        },
        "id": "N6Hd04sSx_F2",
        "outputId": "32bb3f21-1c5a-4411-e8e2-128e4d7a15df"
      }
    },
    {
      "cell_type": "code",
      "execution_count": 5,
      "source": [
        "for i in range(0, 10, 2): \r\n",
        "    print('Hello, world!', i)"
      ],
      "outputs": [
        {
          "output_type": "stream",
          "name": "stdout",
          "text": [
            "Hello, world! 0\n",
            "Hello, world! 2\n",
            "Hello, world! 4\n",
            "Hello, world! 6\n",
            "Hello, world! 8\n"
          ]
        }
      ],
      "metadata": {
        "colab": {
          "base_uri": "https://localhost:8080/"
        },
        "id": "TwbfhgbAyKLK",
        "outputId": "8a6248e9-394a-4766-be0a-a2067abd8857"
      }
    },
    {
      "cell_type": "code",
      "execution_count": 6,
      "source": [
        "for i in range(10, 0, -2):  # 증가 폭을 음수로 주면, 역순으로 진행\r\n",
        "    print('Hello, world!', i)\r\n",
        "\r\n",
        "    # 음수 대신에 reversed를 사용 할 수 있다."
      ],
      "outputs": [
        {
          "output_type": "stream",
          "name": "stdout",
          "text": [
            "Hello, world! 10\n",
            "Hello, world! 8\n",
            "Hello, world! 6\n",
            "Hello, world! 4\n",
            "Hello, world! 2\n"
          ]
        }
      ],
      "metadata": {
        "colab": {
          "base_uri": "https://localhost:8080/"
        },
        "id": "Zf_vKAukyO4E",
        "outputId": "b143fb9a-d1fb-417c-b12a-772156e1b864"
      }
    },
    {
      "cell_type": "code",
      "execution_count": 9,
      "source": [
        "for i in range(1, 101):\n",
        "    print('Fizz' *(i%3==0) + 'Buzz'*(i%5==0)or i, end=' ')\n",
        "    if (i%10 == 0):\n",
        "        print()"
      ],
      "outputs": [
        {
          "output_type": "stream",
          "name": "stdout",
          "text": [
            "1 2 Fizz 4 Buzz Fizz 7 8 Fizz Buzz \n",
            "11 Fizz 13 14 FizzBuzz 16 17 Fizz 19 Buzz \n",
            "Fizz 22 23 Fizz Buzz 26 Fizz 28 29 FizzBuzz \n",
            "31 32 Fizz 34 Buzz Fizz 37 38 Fizz Buzz \n",
            "41 Fizz 43 44 FizzBuzz 46 47 Fizz 49 Buzz \n",
            "Fizz 52 53 Fizz Buzz 56 Fizz 58 59 FizzBuzz \n",
            "61 62 Fizz 64 Buzz Fizz 67 68 Fizz Buzz \n",
            "71 Fizz 73 74 FizzBuzz 76 77 Fizz 79 Buzz \n",
            "Fizz 82 83 Fizz Buzz 86 Fizz 88 89 FizzBuzz \n",
            "91 92 Fizz 94 Buzz Fizz 97 98 Fizz Buzz \n"
          ]
        }
      ],
      "metadata": {
        "colab": {
          "base_uri": "https://localhost:8080/"
        },
        "id": "i_ojY4qtyZt-",
        "outputId": "415e3876-5bc8-43e4-f046-9b32944f8f2d"
      }
    },
    {
      "cell_type": "markdown",
      "source": [
        "##16.3 시퀀스 객체 반복\n"
      ],
      "metadata": {
        "id": "mGsv-6nWzgq1"
      }
    },
    {
      "cell_type": "code",
      "execution_count": null,
      "source": [
        "fruits = ['apple', 'banana', 'cherry']\n",
        "for element in fruits:\n",
        "    print(element)\n",
        "    "
      ],
      "outputs": [],
      "metadata": {
        "id": "dNWkSqk20Ewa"
      }
    },
    {
      "cell_type": "code",
      "execution_count": null,
      "source": [
        "fruit_list = ['apple', 'banana', 'cherry']\n",
        "for fruit in fruit_list:\n",
        "    print(fruit)\n"
      ],
      "outputs": [],
      "metadata": {
        "id": "CWcwdrKr0jBx"
      }
    },
    {
      "cell_type": "markdown",
      "source": [
        "- 변수명의 중요성\n",
        " 1. 코딩시 변수명은 의미와 상황에 따라 유의미 하게 사용 할 것\n",
        " 2. 변수가 가리키는것을 정확하게 지칭 할것\n",
        " 3. 두 단어 이상의 조합도 사용할것, 조합은 언더바(_)를 활용\n",
        " 4. (중요)변수는 소문자로 시작할것 \n",
        " 5. 대문자는 클래스에 사용\n",
        "\n",
        " "
      ],
      "metadata": {
        "id": "ewQ3h5270xNj"
      }
    },
    {
      "cell_type": "markdown",
      "source": [
        "- 두단어의 조합법\n",
        "1. camelNotoation- Java\n",
        "2. snake_notation - Python (언더바)"
      ],
      "metadata": {
        "id": "gMGUDrL_1uJq"
      }
    },
    {
      "cell_type": "code",
      "execution_count": 11,
      "source": [
        "for letter in 'Python':\n",
        "    print(letter, end = ' ')\n",
        "\n",
        "\n"
      ],
      "outputs": [
        {
          "output_type": "stream",
          "name": "stdout",
          "text": [
            "P y t h o n "
          ]
        }
      ],
      "metadata": {
        "colab": {
          "base_uri": "https://localhost:8080/"
        },
        "id": "Mr9X_7bt09AK",
        "outputId": "a9ace2b1-703b-464e-8e3b-c3479b693659"
      }
    },
    {
      "cell_type": "code",
      "execution_count": 15,
      "source": [
        "for letter in reversed('Python'):\n",
        "    print(letter, end = ' ')"
      ],
      "outputs": [
        {
          "output_type": "stream",
          "name": "stdout",
          "text": [
            "n o h t y P "
          ]
        }
      ],
      "metadata": {
        "colab": {
          "base_uri": "https://localhost:8080/"
        },
        "id": "Mz1eRuzZ2g5q",
        "outputId": "fd8ee350-6f7c-4316-d3ab-0379d04bacc4"
      }
    },
    {
      "cell_type": "code",
      "execution_count": 17,
      "source": [
        "for number in (10 , 20 ,30):\n",
        "    print(number)\n",
        "\n",
        "    # 시퀀스 객체는 for와 아주 잘 맞는다."
      ],
      "outputs": [
        {
          "output_type": "stream",
          "name": "stdout",
          "text": [
            "10\n",
            "20\n",
            "30\n"
          ]
        }
      ],
      "metadata": {
        "colab": {
          "base_uri": "https://localhost:8080/"
        },
        "id": "GoZoj9gu2piL",
        "outputId": "cfd1f8b7-ee51-4a25-f760-450085d6da61"
      }
    },
    {
      "cell_type": "markdown",
      "source": [
        "### Perfect Number\n",
        "- 자기 자신을 제외한 약수\n",
        "- 6의 약수 (1, 2, 3, 6) 중 6을 제외한 (1,2,3)의 합이 자신과 같으면 퍼펙트 넘버라고 한다\n",
        "- 6 = 1+2+3\n",
        "- 10000이하의 자연수 중에서는 총 4개 존재\n"
      ],
      "metadata": {
        "id": "ydzZBF6D3DNq"
      }
    },
    {
      "cell_type": "code",
      "execution_count": 20,
      "source": [
        "for i in range(2, 11):\n",
        "    for k in range(1, i):\n",
        "        if i % k ==0:\n",
        "            print(f'{i}의 약수는 {k} ')"
      ],
      "outputs": [
        {
          "output_type": "stream",
          "name": "stdout",
          "text": [
            "2의 약수는 1 \n",
            "3의 약수는 1 \n",
            "4의 약수는 1 \n",
            "4의 약수는 2 \n",
            "5의 약수는 1 \n",
            "6의 약수는 1 \n",
            "6의 약수는 2 \n",
            "6의 약수는 3 \n",
            "7의 약수는 1 \n",
            "8의 약수는 1 \n",
            "8의 약수는 2 \n",
            "8의 약수는 4 \n",
            "9의 약수는 1 \n",
            "9의 약수는 3 \n",
            "10의 약수는 1 \n",
            "10의 약수는 2 \n",
            "10의 약수는 5 \n"
          ]
        }
      ],
      "metadata": {
        "id": "EBH2yibW34DK",
        "colab": {
          "base_uri": "https://localhost:8080/"
        },
        "outputId": "8725ca59-558f-4105-9fa3-a44eebc55899"
      }
    },
    {
      "cell_type": "markdown",
      "source": [
        "- 1부터 10001 사이 퍼펙트 넘버 구하기\n",
        "1. 각 수의 약수 파악\n",
        "2. 약수를 리스트에 저장\n",
        "3. 약수의 합과 수를 비교\n",
        "4. 동일하면 퍼펙트 넘버"
      ],
      "metadata": {
        "id": "enCIpY453_5q"
      }
    },
    {
      "cell_type": "code",
      "execution_count": 26,
      "source": [
        "for i in range(2, 10001):\n",
        "    sum_of_divisor = 0 \n",
        "    for k in range(1, i):\n",
        "        if i % k ==0:\n",
        "            sum_of_divisor += k\n",
        "    \n",
        "    if i == sum_of_divisor:    \n",
        "        print(i)\n",
        "      "
      ],
      "outputs": [
        {
          "output_type": "stream",
          "name": "stdout",
          "text": [
            "6\n",
            "28\n",
            "496\n",
            "8128\n"
          ]
        }
      ],
      "metadata": {
        "colab": {
          "base_uri": "https://localhost:8080/"
        },
        "id": "2GgnwIIa7OmJ",
        "outputId": "0153d786-60a3-4b29-feca-0c39776c2dfc"
      }
    },
    {
      "cell_type": "code",
      "execution_count": 27,
      "source": [
        "p_numbers = []\n",
        "for i in range(2, 10001):\n",
        "    divisor_list = []\n",
        "    for k in range(1, i):\n",
        "        if i % k ==0:\n",
        "            divisor_list.append(k)\n",
        "    if i == sum(divisor_list):\n",
        "        p_numbers.append(i)    \n",
        "\n",
        "print(p_numbers)"
      ],
      "outputs": [
        {
          "output_type": "stream",
          "name": "stdout",
          "text": [
            "[6, 28, 496, 8128]\n"
          ]
        }
      ],
      "metadata": {
        "colab": {
          "base_uri": "https://localhost:8080/"
        },
        "id": "4CAMDnnB8q7x",
        "outputId": "a5440357-2c7d-435e-f89d-1d9e460fd317"
      }
    },
    {
      "cell_type": "code",
      "execution_count": null,
      "source": [],
      "outputs": [],
      "metadata": {
        "id": "45OyKxSO9lbh"
      }
    }
  ]
}