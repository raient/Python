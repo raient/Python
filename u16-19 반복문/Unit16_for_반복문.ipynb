{
  "nbformat": 4,
  "nbformat_minor": 0,
  "metadata": {
    "colab": {
      "name": "Unit16_for 반복문.ipynb",
      "provenance": [],
      "collapsed_sections": []
    },
    "kernelspec": {
      "name": "python3",
      "display_name": "Python 3"
    },
    "language_info": {
      "name": "python"
    }
  },
  "cells": [
    {
      "cell_type": "markdown",
      "metadata": {
        "id": "ZbMZCH-EsvpA"
      },
      "source": [
        "# Unit 16. for 반복문"
      ]
    },
    {
      "cell_type": "markdown",
      "metadata": {
        "id": "Kn3gzEmHtMn_"
      },
      "source": [
        "## 16.1 for와 range"
      ]
    },
    {
      "cell_type": "code",
      "metadata": {
        "colab": {
          "base_uri": "https://localhost:8080/"
        },
        "id": "VLugRKj0tPUd",
        "outputId": "7e120709-ab51-43c3-8113-51f6c5986629"
      },
      "source": [
        "for i in range(10): #range 대신에 list를 쓸수 있다\n",
        "    print('Hello, world!')\n"
      ],
      "execution_count": 1,
      "outputs": [
        {
          "output_type": "stream",
          "text": [
            "Hello, world!\n",
            "Hello, world!\n",
            "Hello, world!\n",
            "Hello, world!\n",
            "Hello, world!\n",
            "Hello, world!\n",
            "Hello, world!\n",
            "Hello, world!\n",
            "Hello, world!\n",
            "Hello, world!\n"
          ],
          "name": "stdout"
        }
      ]
    },
    {
      "cell_type": "code",
      "metadata": {
        "colab": {
          "base_uri": "https://localhost:8080/"
        },
        "id": "0oulCme_tkws",
        "outputId": "c126d60c-4b83-4bf9-ec59-2c6abd513356"
      },
      "source": [
        "for i in range(10): #range 대신에 list를 쓸수 있다\n",
        "    print('Hello, world!', i)\n"
      ],
      "execution_count": 2,
      "outputs": [
        {
          "output_type": "stream",
          "text": [
            "Hello, world! 0\n",
            "Hello, world! 1\n",
            "Hello, world! 2\n",
            "Hello, world! 3\n",
            "Hello, world! 4\n",
            "Hello, world! 5\n",
            "Hello, world! 6\n",
            "Hello, world! 7\n",
            "Hello, world! 8\n",
            "Hello, world! 9\n"
          ],
          "name": "stdout"
        }
      ]
    },
    {
      "cell_type": "code",
      "metadata": {
        "colab": {
          "base_uri": "https://localhost:8080/"
        },
        "id": "_mjQgXWdvVH1",
        "outputId": "37125825-15d6-44ad-c4c1-9f8bc4a0be08"
      },
      "source": [
        "for _ in range(5): #변수가 사용되지 않을 때는 _ 를 사용\n",
        "    print('Hello, world!')\n"
      ],
      "execution_count": 3,
      "outputs": [
        {
          "output_type": "stream",
          "text": [
            "Hello, world!\n",
            "Hello, world!\n",
            "Hello, world!\n",
            "Hello, world!\n",
            "Hello, world!\n"
          ],
          "name": "stdout"
        }
      ]
    },
    {
      "cell_type": "markdown",
      "metadata": {
        "id": "ZnK7QZ5Nvjug"
      },
      "source": [
        "## 16.2 for와 range의 응용"
      ]
    },
    {
      "cell_type": "code",
      "metadata": {
        "colab": {
          "base_uri": "https://localhost:8080/"
        },
        "id": "N6Hd04sSx_F2",
        "outputId": "32bb3f21-1c5a-4411-e8e2-128e4d7a15df"
      },
      "source": [
        "for i in range(6, 10): \n",
        "    print('Hello, world!', i)"
      ],
      "execution_count": 4,
      "outputs": [
        {
          "output_type": "stream",
          "text": [
            "Hello, world! 6\n",
            "Hello, world! 7\n",
            "Hello, world! 8\n",
            "Hello, world! 9\n"
          ],
          "name": "stdout"
        }
      ]
    },
    {
      "cell_type": "code",
      "metadata": {
        "colab": {
          "base_uri": "https://localhost:8080/"
        },
        "id": "TwbfhgbAyKLK",
        "outputId": "8a6248e9-394a-4766-be0a-a2067abd8857"
      },
      "source": [
        "for i in range(0, 10, 2): \n",
        "    print('Hello, world!', i)"
      ],
      "execution_count": 5,
      "outputs": [
        {
          "output_type": "stream",
          "text": [
            "Hello, world! 0\n",
            "Hello, world! 2\n",
            "Hello, world! 4\n",
            "Hello, world! 6\n",
            "Hello, world! 8\n"
          ],
          "name": "stdout"
        }
      ]
    },
    {
      "cell_type": "code",
      "metadata": {
        "colab": {
          "base_uri": "https://localhost:8080/"
        },
        "id": "Zf_vKAukyO4E",
        "outputId": "b143fb9a-d1fb-417c-b12a-772156e1b864"
      },
      "source": [
        "for i in range(10, 0, -2):  # 증가 폭을 음수로 주면, 역순으로 진행\n",
        "    print('Hello, world!', i)\n",
        "\n",
        "    # 음수 대신에 reversed를 사용 할 수 있다."
      ],
      "execution_count": 6,
      "outputs": [
        {
          "output_type": "stream",
          "text": [
            "Hello, world! 10\n",
            "Hello, world! 8\n",
            "Hello, world! 6\n",
            "Hello, world! 4\n",
            "Hello, world! 2\n"
          ],
          "name": "stdout"
        }
      ]
    },
    {
      "cell_type": "code",
      "metadata": {
        "colab": {
          "base_uri": "https://localhost:8080/"
        },
        "id": "i_ojY4qtyZt-",
        "outputId": "415e3876-5bc8-43e4-f046-9b32944f8f2d"
      },
      "source": [
        "for i in range(1, 101):\n",
        "    print('Fizz' *(i%3==0) + 'Buzz'*(i%5==0)or i, end=' ')\n",
        "    if (i%10 == 0):\n",
        "        print()"
      ],
      "execution_count": 9,
      "outputs": [
        {
          "output_type": "stream",
          "text": [
            "1 2 Fizz 4 Buzz Fizz 7 8 Fizz Buzz \n",
            "11 Fizz 13 14 FizzBuzz 16 17 Fizz 19 Buzz \n",
            "Fizz 22 23 Fizz Buzz 26 Fizz 28 29 FizzBuzz \n",
            "31 32 Fizz 34 Buzz Fizz 37 38 Fizz Buzz \n",
            "41 Fizz 43 44 FizzBuzz 46 47 Fizz 49 Buzz \n",
            "Fizz 52 53 Fizz Buzz 56 Fizz 58 59 FizzBuzz \n",
            "61 62 Fizz 64 Buzz Fizz 67 68 Fizz Buzz \n",
            "71 Fizz 73 74 FizzBuzz 76 77 Fizz 79 Buzz \n",
            "Fizz 82 83 Fizz Buzz 86 Fizz 88 89 FizzBuzz \n",
            "91 92 Fizz 94 Buzz Fizz 97 98 Fizz Buzz \n"
          ],
          "name": "stdout"
        }
      ]
    },
    {
      "cell_type": "markdown",
      "metadata": {
        "id": "mGsv-6nWzgq1"
      },
      "source": [
        "##16.3 시퀀스 객체 반복\n"
      ]
    },
    {
      "cell_type": "code",
      "metadata": {
        "id": "dNWkSqk20Ewa"
      },
      "source": [
        "fruits = ['apple', 'banana', 'cherry']\n",
        "for element in fruits:\n",
        "    print(element)\n",
        "    "
      ],
      "execution_count": null,
      "outputs": []
    },
    {
      "cell_type": "code",
      "metadata": {
        "id": "CWcwdrKr0jBx"
      },
      "source": [
        "fruit_list = ['apple', 'banana', 'cherry']\n",
        "for fruit in fruit_list:\n",
        "    print(fruit)\n"
      ],
      "execution_count": null,
      "outputs": []
    },
    {
      "cell_type": "markdown",
      "metadata": {
        "id": "ewQ3h5270xNj"
      },
      "source": [
        "- 변수명의 중요성\n",
        " 1. 코딩시 변수명은 의미와 상황에 따라 유의미 하게 사용 할 것\n",
        " 2. 변수가 가리키는것을 정확하게 지칭 할것\n",
        " 3. 두 단어 이상의 조합도 사용할것, 조합은 언더바(_)를 활용\n",
        " 4. (중요)변수는 소문자로 시작할것 \n",
        " 5. 대문자는 클래스에 사용\n",
        "\n",
        " "
      ]
    },
    {
      "cell_type": "markdown",
      "metadata": {
        "id": "gMGUDrL_1uJq"
      },
      "source": [
        "- 두단어의 조합법\n",
        "1. camelNotoation- Java\n",
        "2. snake_notation - Python (언더바)"
      ]
    },
    {
      "cell_type": "code",
      "metadata": {
        "colab": {
          "base_uri": "https://localhost:8080/"
        },
        "id": "Mr9X_7bt09AK",
        "outputId": "a9ace2b1-703b-464e-8e3b-c3479b693659"
      },
      "source": [
        "for letter in 'Python':\n",
        "    print(letter, end = ' ')\n",
        "\n",
        "\n"
      ],
      "execution_count": 11,
      "outputs": [
        {
          "output_type": "stream",
          "text": [
            "P y t h o n "
          ],
          "name": "stdout"
        }
      ]
    },
    {
      "cell_type": "code",
      "metadata": {
        "colab": {
          "base_uri": "https://localhost:8080/"
        },
        "id": "Mz1eRuzZ2g5q",
        "outputId": "fd8ee350-6f7c-4316-d3ab-0379d04bacc4"
      },
      "source": [
        "for letter in reversed('Python'):\n",
        "    print(letter, end = ' ')"
      ],
      "execution_count": 15,
      "outputs": [
        {
          "output_type": "stream",
          "text": [
            "n o h t y P "
          ],
          "name": "stdout"
        }
      ]
    },
    {
      "cell_type": "code",
      "metadata": {
        "colab": {
          "base_uri": "https://localhost:8080/"
        },
        "id": "GoZoj9gu2piL",
        "outputId": "cfd1f8b7-ee51-4a25-f760-450085d6da61"
      },
      "source": [
        "for number in (10 , 20 ,30):\n",
        "    print(number)\n",
        "\n",
        "    # 시퀀스 객체는 for와 아주 잘 맞는다."
      ],
      "execution_count": 17,
      "outputs": [
        {
          "output_type": "stream",
          "text": [
            "10\n",
            "20\n",
            "30\n"
          ],
          "name": "stdout"
        }
      ]
    },
    {
      "cell_type": "code",
      "metadata": {
        "id": "ydzZBF6D3DNq"
      },
      "source": [
        ""
      ],
      "execution_count": null,
      "outputs": []
    }
  ]
}